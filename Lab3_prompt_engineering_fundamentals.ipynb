{
  "cells": [
    {
      "cell_type": "markdown",
      "metadata": {
        "id": "view-in-github",
        "colab_type": "text"
      },
      "source": [
        "<a href=\"https://colab.research.google.com/github/anshupandey/MA_AI900/blob/main/Lab3_prompt_engineering_fundamentals.ipynb\" target=\"_parent\"><img src=\"https://colab.research.google.com/assets/colab-badge.svg\" alt=\"Open In Colab\"/></a>"
      ]
    },
    {
      "cell_type": "markdown",
      "metadata": {
        "id": "Rr0_RIhOerKl"
      },
      "source": [
        "# Prompt Engineering with OpenAI LLMs"
      ]
    },
    {
      "cell_type": "markdown",
      "metadata": {
        "id": "Nz0bz_xlerKp"
      },
      "source": []
    },
    {
      "cell_type": "code",
      "execution_count": null,
      "metadata": {
        "id": "KB85L9Fs6jMM"
      },
      "outputs": [],
      "source": [
        "!pip install openai --quiet"
      ]
    },
    {
      "cell_type": "code",
      "execution_count": 10,
      "metadata": {
        "id": "hCfQdmcomTyL"
      },
      "outputs": [],
      "source": [
        "import os\n",
        "os.environ['AZURE_OPENAI_ENDPOINT'] = \"https://xxxxxxx.openai.azure.com/\"\n",
        "os.environ['AZURE_OPENAI_API_KEY'] = \"\"\n",
        "os.environ['OPENAI_API_VERSION'] = \"2025-03-01-preview\""
      ]
    },
    {
      "cell_type": "code",
      "execution_count": 11,
      "metadata": {
        "id": "25-Pe4z4mzMF"
      },
      "outputs": [],
      "source": [
        "from openai import AzureOpenAI\n",
        "client = AzureOpenAI()\n"
      ]
    },
    {
      "cell_type": "code",
      "execution_count": 12,
      "metadata": {
        "colab": {
          "base_uri": "https://localhost:8080/"
        },
        "id": "SqV1gcAmq1mz",
        "outputId": "8f0b65c7-158b-484f-9d80-7096c36155aa"
      },
      "outputs": [
        {
          "output_type": "stream",
          "name": "stdout",
          "text": [
            "**Agentic AI** refers to artificial intelligence systems designed to act autonomously and make decisions or take actions independently to achieve specific goals. Unlike passive AI that simply provides information or suggestions, agentic AI exhibits agency—it can perceive its environment, reason about it, plan actions, and execute those actions in a way that resembles an autonomous agent.\n",
            "\n",
            "### Key Characteristics of Agentic AI:\n",
            "1. **Autonomy**: Operates without needing constant human intervention.\n",
            "2. **Goal-Directed Behavior**:\n"
          ]
        }
      ],
      "source": [
        "result = client.responses.create(model='gpt-4.1-mini',\n",
        "                                 input=\"what is Agentic AI?\",\n",
        "                                 max_output_tokens=100)\n",
        "print(result.output_text)"
      ]
    },
    {
      "cell_type": "code",
      "execution_count": 13,
      "metadata": {
        "colab": {
          "base_uri": "https://localhost:8080/"
        },
        "id": "rU1h2JudrWBZ",
        "outputId": "c2e48a33-a78a-46bc-8d2c-9c835378490d"
      },
      "outputs": [
        {
          "output_type": "stream",
          "name": "stdout",
          "text": [
            "{\n",
            "  \"id\": \"resp_68cbdb993a448193a5d3155550ea58db0a9a1758605a322d\",\n",
            "  \"created_at\": 1758190489.0,\n",
            "  \"error\": null,\n",
            "  \"incomplete_details\": {\n",
            "    \"reason\": \"max_output_tokens\"\n",
            "  },\n",
            "  \"instructions\": null,\n",
            "  \"metadata\": {},\n",
            "  \"model\": \"gpt-4.1-mini\",\n",
            "  \"object\": \"response\",\n",
            "  \"output\": [\n",
            "    {\n",
            "      \"id\": \"msg_68cbdb996f7c81939e800690e382dcc20a9a1758605a322d\",\n",
            "      \"content\": [\n",
            "        {\n",
            "          \"annotations\": [],\n",
            "          \"text\": \"**Agentic AI** refers to artificial intelligence systems designed to act autonomously and make decisions or take actions independently to achieve specific goals. Unlike passive AI that simply provides information or suggestions, agentic AI exhibits agency—it can perceive its environment, reason about it, plan actions, and execute those actions in a way that resembles an autonomous agent.\\n\\n### Key Characteristics of Agentic AI:\\n1. **Autonomy**: Operates without needing constant human intervention.\\n2. **Goal-Directed Behavior**:\",\n",
            "          \"type\": \"output_text\"\n",
            "        }\n",
            "      ],\n",
            "      \"role\": \"assistant\",\n",
            "      \"status\": \"incomplete\",\n",
            "      \"type\": \"message\"\n",
            "    }\n",
            "  ],\n",
            "  \"parallel_tool_calls\": true,\n",
            "  \"temperature\": 1.0,\n",
            "  \"tool_choice\": \"auto\",\n",
            "  \"tools\": [],\n",
            "  \"top_p\": 1.0,\n",
            "  \"background\": false,\n",
            "  \"max_output_tokens\": 100,\n",
            "  \"max_tool_calls\": null,\n",
            "  \"previous_response_id\": null,\n",
            "  \"prompt_cache_key\": null,\n",
            "  \"reasoning\": {\n",
            "    \"effort\": null,\n",
            "    \"summary\": null\n",
            "  },\n",
            "  \"safety_identifier\": null,\n",
            "  \"service_tier\": \"default\",\n",
            "  \"status\": \"incomplete\",\n",
            "  \"text\": {\n",
            "    \"format\": {\n",
            "      \"type\": \"text\"\n",
            "    }\n",
            "  },\n",
            "  \"truncation\": \"disabled\",\n",
            "  \"usage\": {\n",
            "    \"input_tokens\": 13,\n",
            "    \"input_tokens_details\": {\n",
            "      \"cached_tokens\": 0\n",
            "    },\n",
            "    \"output_tokens\": 100,\n",
            "    \"output_tokens_details\": {\n",
            "      \"reasoning_tokens\": 0\n",
            "    },\n",
            "    \"total_tokens\": 113\n",
            "  },\n",
            "  \"user\": null,\n",
            "  \"content_filters\": null,\n",
            "  \"store\": true\n",
            "}\n"
          ]
        }
      ],
      "source": [
        "print(result.to_json(indent=2))"
      ]
    },
    {
      "cell_type": "code",
      "execution_count": 13,
      "metadata": {
        "id": "QCSXh37_rV29"
      },
      "outputs": [],
      "source": []
    },
    {
      "cell_type": "code",
      "execution_count": 14,
      "metadata": {
        "colab": {
          "base_uri": "https://localhost:8080/"
        },
        "id": "MTy9qlaNbhw1",
        "outputId": "64f22d68-c522-4413-940d-c0f6b5e3f455"
      },
      "outputs": [
        {
          "output_type": "stream",
          "name": "stdout",
          "text": [
            "To output all files in a directory using Python, you can use the built-in `os` module or the `pathlib` module. Below are examples of both approaches:\n",
            "\n",
            "### Using `os` module\n",
            "\n",
            "```python\n",
            "import os\n",
            "\n",
            "directory = '/path/to/directory'\n",
            "\n",
            "for filename in os.listdir(directory):\n",
            "    filepath = os.path.join(directory, filename)\n",
            "    if os.path.isfile(filepath):\n",
            "        print(filename)\n",
            "```\n",
            "\n",
            "- `os.listdir(directory)` lists all entries in the directory, including files and folders.\n",
            "- `os.path.isfile(filepath)` checks if the entry is a file (not a directory).\n",
            "\n",
            "### Using `pathlib` module (Python 3.4+)\n",
            "\n",
            "```python\n",
            "from pathlib import Path\n",
            "\n",
            "directory = Path('/path/to/directory')\n",
            "\n",
            "for file in directory.iterdir():\n",
            "    if file.is_file():\n",
            "        print(file.name)\n",
            "```\n",
            "\n",
            "- `Path.iterdir()` iterates over entries in the directory.\n",
            "- `file.is_file()` checks if the entry is a file.\n",
            "\n",
            "### Summary\n",
            "- Replace `'/path/to/directory'` with your target directory path.\n",
            "- Both methods list only the files (not subdirectories) in the specified directory.\n",
            "\n",
            "If you want to include files recursively (files in subdirectories too), let me know!\n"
          ]
        }
      ],
      "source": [
        "result = client.responses.create(\n",
        "    model='gpt-4.1-mini',  # e.g. gpt-35-instant\n",
        "    max_output_tokens=500,\n",
        "    input=[\n",
        "        {\n",
        "            \"role\": \"user\",\n",
        "            \"content\": \"How do I output all files in a directory using Python?\",\n",
        "        },\n",
        "    ],\n",
        ")\n",
        "print(result.output_text)"
      ]
    },
    {
      "cell_type": "code",
      "execution_count": null,
      "metadata": {
        "id": "0WAxkVWZ7LRi"
      },
      "outputs": [],
      "source": [
        "# creating a function to get outcome\n",
        "def generate_response(prompt,model='gpt-4.1-mini',temperature=0):\n",
        "  messages = [{\"role\":\"user\",\"content\":prompt}]\n",
        "  response = client.responses.create(\n",
        "      model = model,\n",
        "      input = messages,\n",
        "      temperature=temperature,\n",
        "      #top_p=0.99\n",
        "  )\n",
        "  return response.output_text\n"
      ]
    },
    {
      "cell_type": "code",
      "execution_count": null,
      "metadata": {
        "colab": {
          "base_uri": "https://localhost:8080/"
        },
        "id": "tLgNfQbz7xpQ",
        "outputId": "0dfa0dec-defa-4a51-dcf8-bd2958ccde47"
      },
      "outputs": [
        {
          "name": "stdout",
          "output_type": "stream",
          "text": [
            "Certainly! Here's a simple Python code to print \"Hello World\":\n",
            "\n",
            "```python\n",
            "print(\"Hello World\")\n",
            "```\n",
            "\n",
            "You can run this code in any Python environment to see the output.\n"
          ]
        }
      ],
      "source": [
        "response = generate_response(\"Write a python code to print 'Hello World'\")\n",
        "print(response)"
      ]
    },
    {
      "cell_type": "markdown",
      "metadata": {
        "id": "sZcaHAuU94x0"
      },
      "source": [
        "## Experimenting with different values of temperature:"
      ]
    },
    {
      "cell_type": "code",
      "execution_count": null,
      "metadata": {
        "colab": {
          "base_uri": "https://localhost:8080/"
        },
        "id": "BMwThtKC94x0",
        "outputId": "ae5de8d8-a8de-4c75-97f6-f12e19408944"
      },
      "outputs": [
        {
          "name": "stdout",
          "output_type": "stream",
          "text": [
            "I am visiting Manila, it is a city of vibrant culture, rich history, and bustling energy.\n",
            "I am visiting Manila, it is a city of vibrant culture, rich history, and bustling energy.\n",
            "I am visiting Manila, it is a city of vibrant culture and rich history.\n",
            "'I am visiting Manila, it is a city of vibrant culture, rich history, and bustling energy.'\n",
            "I am visiting Manila, it is a city of vibrant culture and rich history.\n",
            "I am visiting Manila, it is a city of vibrant culture and rich history.\n",
            "I am visiting Manila, it is a city of vibrant culture and rich history.\n",
            "I am visiting Manila, it is a city of vibrant culture and rich history.\n",
            "I am visiting Manila, it is a city of vibrant culture and rich history.\n",
            "I am visiting Manila, it is a city of vibrant culture, rich history, and bustling energy.\n"
          ]
        }
      ],
      "source": [
        "for i in range(10):\n",
        "    response = generate_response(prompt=\"complete the following sentence: \\n\\n 'I am visiting Manila, its is a city of '\",\n",
        "                                 temperature=0)\n",
        "    print(response)"
      ]
    },
    {
      "cell_type": "code",
      "execution_count": null,
      "metadata": {
        "colab": {
          "base_uri": "https://localhost:8080/"
        },
        "id": "MfGFmz4K94x0",
        "outputId": "76282132-df71-40a7-dec8-2de159155e73"
      },
      "outputs": [
        {
          "name": "stdout",
          "output_type": "stream",
          "text": [
            "At Temperature: 0\n",
            "I am visiting Manila, it is a city of vibrant culture and rich history.\n",
            "************************************************************\n",
            "At Temperature: 0.4\n",
            "I am visiting Manila, it is a city of vibrant culture and rich history.\n",
            "************************************************************\n",
            "At Temperature: 0.8\n",
            "'I am visiting Manila, it is a city of vibrant culture and rich history.'\n",
            "************************************************************\n",
            "At Temperature: 1.2\n",
            "I am visiting Manila; it is a city of vibrant culture, rich history, and dynamic energy.\n",
            "************************************************************\n",
            "At Temperature: 1.5\n",
            "I am visiting Manila, it is a city of vibrant culture, rich history, and bustling energy.\n",
            "************************************************************\n",
            "At Temperature: 1.8\n",
            "I'm visiting Manila; it is a city of vibrant culture and rich history.\n",
            "************************************************************\n",
            "At Temperature: 2.0\n",
            "vibrant contrasts, where modern skyscrapers stand alongside historic sites, offering a lively mix of culture, history, and innovation.\n",
            "************************************************************\n"
          ]
        }
      ],
      "source": [
        "\n",
        "tvalues = [0,0.4,0.8,1.2,1.5,1.8,2.0]\n",
        "for i in range(len(tvalues)):\n",
        "    response = generate_response(prompt=\"complete the following sentence: \\n\\n 'I am visiting Manila, its is a city of '\",\n",
        "                                 temperature=tvalues[i])\n",
        "    print(f\"At Temperature: {tvalues[i]}\")\n",
        "    print(response)\n",
        "    print(\"***\"*20)"
      ]
    },
    {
      "cell_type": "markdown",
      "metadata": {
        "id": "MjXhLCm6erK2"
      },
      "source": [
        "## Guildelines for Prompting\n",
        "1. Persona\n",
        "2. Instructions\n",
        "3. Context\n",
        "4. Constraint\n",
        "5. Format"
      ]
    },
    {
      "cell_type": "code",
      "execution_count": null,
      "metadata": {
        "colab": {
          "base_uri": "https://localhost:8080/"
        },
        "id": "h5qMlyXierK3",
        "outputId": "230a75ad-6464-42b9-a2a5-0bb6868e471d"
      },
      "outputs": [
        {
          "name": "stdout",
          "output_type": "stream",
          "text": [
            "Certainly! Here's a Python code to generate the Fibonacci series up to a specified number of terms:\n",
            "\n",
            "```python\n",
            "def generate_fibonacci(n):\n",
            "    fib_series = []\n",
            "    a, b = 0, 1\n",
            "    for _ in range(n):\n",
            "        fib_series.append(a)\n",
            "        a, b = b, a + b\n",
            "    return fib_series\n",
            "\n",
            "# Specify the number of terms\n",
            "num_terms = 10\n",
            "fibonacci_series = generate_fibonacci(num_terms)\n",
            "print(f\"Fibonacci series with {num_terms} terms: {fibonacci_series}\")\n",
            "```\n",
            "\n",
            "This code defines a function `generate_fibonacci` that generates the Fibonacci series up to `n` terms. You can change the `num_terms` variable to generate a different number of terms.\n"
          ]
        }
      ],
      "source": [
        "# Persona and Instruction\n",
        "\n",
        "prompt = \"\"\"\n",
        "Write a python code to generate fibonnacci series.\n",
        "\"\"\"\n",
        "\n",
        "out = generate_response(prompt)\n",
        "print(out)"
      ]
    },
    {
      "cell_type": "code",
      "execution_count": null,
      "metadata": {
        "colab": {
          "base_uri": "https://localhost:8080/"
        },
        "id": "MaEtcLiRerK4",
        "outputId": "015c2750-88b2-46f1-b37f-fbee31f5d423"
      },
      "outputs": [
        {
          "name": "stdout",
          "output_type": "stream",
          "text": [
            "Certainly! Here's a Python function to generate the Fibonacci series up to a specified number of terms:\n",
            "\n",
            "```python\n",
            "def generate_fibonacci(n):\n",
            "    \"\"\"Generate a Fibonacci series up to n terms.\"\"\"\n",
            "    if n <= 0:\n",
            "        return []\n",
            "    elif n == 1:\n",
            "        return [0]\n",
            "    elif n == 2:\n",
            "        return [0, 1]\n",
            "\n",
            "    fib_series = [0, 1]\n",
            "    for i in range(2, n):\n",
            "        next_value = fib_series[i - 1] + fib_series[i - 2]\n",
            "        fib_series.append(next_value)\n",
            "\n",
            "    return fib_series\n",
            "\n",
            "# Example usage:\n",
            "num_terms = 10\n",
            "fibonacci_series = generate_fibonacci(num_terms)\n",
            "print(f\"Fibonacci series with {num_terms} terms: {fibonacci_series}\")\n",
            "```\n",
            "\n",
            "This code defines a function `generate_fibonacci` that takes an integer `n` and returns a list containing the Fibonacci series up to `n` terms. It handles edge cases for `n` less than or equal to 2 and uses a loop to generate the series for larger values of `n`.\n"
          ]
        }
      ],
      "source": [
        "# Persona and Instruction\n",
        "\n",
        "prompt = \"\"\" You are an experienced senior software developer who writes clean, secure, readable codes using python.\n",
        "Write a python code to generate fibonnacci series.\n",
        "\"\"\"\n",
        "\n",
        "out = generate_response(prompt)\n",
        "print(out)"
      ]
    },
    {
      "cell_type": "code",
      "execution_count": null,
      "metadata": {
        "colab": {
          "base_uri": "https://localhost:8080/"
        },
        "id": "tOtBpiwaerK4",
        "outputId": "f9ac36c3-6fff-4b53-86aa-5f5b5073544d"
      },
      "outputs": [
        {
          "name": "stdout",
          "output_type": "stream",
          "text": [
            "```python\n",
            "def generate_fibonacci(n):\n",
            "    \"\"\"\n",
            "    Generate a Fibonacci series up to the nth number.\n",
            "\n",
            "    :param n: The number of terms in the Fibonacci series to generate.\n",
            "    :return: A list containing the Fibonacci series.\n",
            "    \"\"\"\n",
            "    if n <= 0:\n",
            "        return []\n",
            "    elif n == 1:\n",
            "        return [0]\n",
            "    elif n == 2:\n",
            "        return [0, 1]\n",
            "\n",
            "    fib_series = [0, 1]\n",
            "    for i in range(2, n):\n",
            "        next_value = fib_series[-1] + fib_series[-2]\n",
            "        fib_series.append(next_value)\n",
            "\n",
            "    return fib_series\n",
            "\n",
            "# Example usage\n",
            "print(generate_fibonacci(10))\n",
            "```\n"
          ]
        }
      ],
      "source": [
        "# Persona, Instruction and constraint\n",
        "\n",
        "prompt = \"\"\" You are an experienced senior software developer who writes clean, secure, readable codes using python.\n",
        "Write a python code to generate fibonnacci series.\n",
        "\n",
        "Only provide python code, no explaantion outside function block.\n",
        "\"\"\"\n",
        "\n",
        "out = generate_response(prompt)\n",
        "print(out)"
      ]
    },
    {
      "cell_type": "code",
      "execution_count": null,
      "metadata": {
        "id": "02DEhtLX1YAc"
      },
      "outputs": [],
      "source": []
    },
    {
      "cell_type": "code",
      "execution_count": null,
      "metadata": {
        "id": "OJDRwll01Uff"
      },
      "outputs": [],
      "source": []
    },
    {
      "cell_type": "markdown",
      "metadata": {
        "id": "MZXxx-2_erK5"
      },
      "source": [
        "### Prompt Formatting\n",
        "Use separators to separte prompt content and additional data\n",
        "\n",
        "    - triple backticks ```\n",
        "    - triple quotes \"\"\" and '''\n",
        "    - triple hyphen ---\n",
        "    - XML tags <start> </start>\n",
        "    "
      ]
    },
    {
      "cell_type": "code",
      "execution_count": null,
      "metadata": {
        "colab": {
          "base_uri": "https://localhost:8080/"
        },
        "id": "1oWBp_01erK5",
        "outputId": "009b8baf-d320-4e51-9211-9fcb94433121"
      },
      "outputs": [
        {
          "name": "stdout",
          "output_type": "stream",
          "text": [
            "My age is 29\n"
          ]
        }
      ],
      "source": [
        "print(\"My age is %d\"%(29))"
      ]
    },
    {
      "cell_type": "code",
      "execution_count": null,
      "metadata": {
        "colab": {
          "base_uri": "https://localhost:8080/"
        },
        "id": "8xxYuxederK6",
        "outputId": "74a20f5c-c44c-4cd8-dfa2-cc304f2784a1"
      },
      "outputs": [
        {
          "name": "stdout",
          "output_type": "stream",
          "text": [
            " Hi, My name is Anshu and my age is 29\n"
          ]
        }
      ],
      "source": [
        "# f string\n",
        "age = 29\n",
        "name = 'Anshu'\n",
        "text = f\" Hi, My name is {name} and my age is {age}\"\n",
        "print(text)"
      ]
    },
    {
      "cell_type": "code",
      "execution_count": null,
      "metadata": {
        "colab": {
          "base_uri": "https://localhost:8080/"
        },
        "id": "yjHresN3erK6",
        "outputId": "c3f7e730-74c1-460f-b09f-b63c4262e115"
      },
      "outputs": [
        {
          "name": "stdout",
          "output_type": "stream",
          "text": [
            "Summarize the below content separated by triple bckticks.\n",
            "This is to be used to put in a social media post on twitter.\n",
            "\n",
            "Content:\n",
            "```\n",
            "Morningstar, Inc. is an American financial services firm headquartered in Chicago, Illinois, founded by Joe Mansueto in 1984. It provides an array of investment research and investment management services.\n",
            "With operations in 29 countries, Morningstar's research and recommendations are considered by financial journalists as influential in the asset management industry, and a positive or negative recommendation from Morningstar analysts can drive money into or away from any given fund.[3][4] Through its asset management division, the firm currently manages over US$295 billion as of March 31, 2023.[5]\n",
            "The firm also provides software and data platforms for investment professionals, including \"Morningstar Research Portal\", \"Morningstar Direct\" and \"Morningstar Advisor Workstation\".\n",
            "    \n",
            "```\n",
            "\n"
          ]
        }
      ],
      "source": [
        "content = \"\"\"\n",
        "Moss Adams is a professional services firm offering accounting, tax, and consulting services, primarily to public and private middle-market companies. Founded in 1913 and headquartered in Seattle, the firm is a major player in the Western United States, providing a range of services that include audit, wealth management, and transaction services. The company has since expanded globally and recently joined with Baker Tilly to form an even larger advisory firm focused on serving the middle market.\n",
        "Key Aspects of Moss Adams\n",
        "Services Offered: Moss Adams provides a comprehensive suite of services, including accounting, assurance, tax, wealth management, transaction advisory, and consulting.\n",
        "Client Focus: The firm specializes in serving public and private middle-market companies.\n",
        "Industry Specialization: Moss Adams organizes its specialists by industry to provide deeper, contextualized insights into client-specific issues.\n",
        "History and Location: Founded in 1913, the firm is the largest accounting and consulting firm headquartered in the West.\n",
        "Expansion: Moss Adams has expanded its global presence, including Moss Adams India, to build a broader talent network.\n",
        "Merger with Baker Tilly: In 2025, Moss Adams joined forces with Baker Tilly to create an expanded firm with a greater national and global reach.\n",
        "    \"\"\"\n",
        "\n",
        "prompt = f\"\"\"Summarize the below content separated by triple bckticks.\n",
        "This is to be used to put in a social media post on twitter.\n",
        "\n",
        "Content:\n",
        "```\n",
        "{content}\n",
        "```\n",
        "\"\"\"\n",
        "print(prompt)"
      ]
    },
    {
      "cell_type": "code",
      "execution_count": null,
      "metadata": {
        "colab": {
          "base_uri": "https://localhost:8080/"
        },
        "id": "PbIQHpGP4cL7",
        "outputId": "dd132cbb-0184-49b7-eb11-a93999a7e622"
      },
      "outputs": [
        {
          "name": "stdout",
          "output_type": "stream",
          "text": [
            "Morningstar, Inc., founded in 1984 and based in Chicago, is a leading financial services firm offering investment research and management. Operating in 29 countries, its recommendations significantly influence the asset management industry. As of March 31, 2023, it manages over $295 billion. Morningstar also provides software and data platforms for investment professionals. #Finance #Investment #Morningstar\n"
          ]
        }
      ],
      "source": [
        "output = generate_response(prompt)\n",
        "print(output)"
      ]
    },
    {
      "cell_type": "markdown",
      "metadata": {
        "id": "sKpUcp3Z3ATA"
      },
      "source": [
        "### Format"
      ]
    },
    {
      "cell_type": "code",
      "execution_count": null,
      "metadata": {
        "colab": {
          "base_uri": "https://localhost:8080/"
        },
        "id": "G5EuohXyerK7",
        "outputId": "80038327-5a05-4e60-cf36-5776fa16e125"
      },
      "outputs": [
        {
          "name": "stdout",
          "output_type": "stream",
          "text": [
            "Sure! Here's a table with six animals, their genus, and species:\n",
            "\n",
            "```markdown\n",
            "| Animal        | Genus    | Species     |\n",
            "|---------------|----------|-------------|\n",
            "| African Lion  | Panthera | leo         |\n",
            "| Bengal Tiger  | Panthera | tigris      |\n",
            "| Gray Wolf     | Canis    | lupus       |\n",
            "| Bald Eagle    | Haliaeetus | leucocephalus |\n",
            "| Giant Panda   | Ailuropoda | melanoleuca |\n",
            "| Red Kangaroo  | Macropus | rufus       |\n",
            "```\n",
            "\n"
          ]
        }
      ],
      "source": [
        "prompt = \"\"\"write name of 6 animals, their genus and spiecies.\n",
        "Provide output in Markdown Table format. \"\"\"\n",
        "print(generate_response(prompt))"
      ]
    },
    {
      "cell_type": "code",
      "execution_count": null,
      "metadata": {
        "colab": {
          "base_uri": "https://localhost:8080/"
        },
        "id": "zNkxKCY_45P9",
        "outputId": "8ddd4b73-b2a0-4e76-dace-492443bfe387"
      },
      "outputs": [
        {
          "name": "stdout",
          "output_type": "stream",
          "text": [
            "- African Elephant\n",
            "  - Genus: Loxodonta\n",
            "  - Species: Loxodonta africana\n",
            "\n",
            "- Bengal Tiger\n",
            "  - Genus: Panthera\n",
            "  - Species: Panthera tigris tigris\n",
            "\n",
            "- Bald Eagle\n",
            "  - Genus: Haliaeetus\n",
            "  - Species: Haliaeetus leucocephalus\n",
            "\n",
            "- Giant Panda\n",
            "  - Genus: Ailuropoda\n",
            "  - Species: Ailuropoda melanoleuca\n",
            "\n",
            "- Blue Whale\n",
            "  - Genus: Balaenoptera\n",
            "  - Species: Balaenoptera musculus\n",
            "\n",
            "- Emperor Penguin\n",
            "  - Genus: Aptenodytes\n",
            "  - Species: Aptenodytes forsteri\n"
          ]
        }
      ],
      "source": [
        "prompt = \"\"\"write name of 6 animals, their genus and spiecies.\n",
        "Provide output in plain text bullet points format. \"\"\"\n",
        "print(generate_response(prompt))"
      ]
    },
    {
      "cell_type": "code",
      "execution_count": null,
      "metadata": {
        "colab": {
          "base_uri": "https://localhost:8080/"
        },
        "id": "AvLIFGbHerK7",
        "outputId": "5ebb6e78-da5e-4c4c-f2b9-bf736d429646"
      },
      "outputs": [
        {
          "name": "stdout",
          "output_type": "stream",
          "text": [
            "```json\n",
            "[\n",
            "    {\n",
            "        \"role\": \"Data Scientist\",\n",
            "        \"skills\": [\"Statistical Analysis\", \"Machine Learning\", \"Data Visualization\"],\n",
            "        \"tools\": [\"Python\", \"R\", \"TensorFlow\", \"Tableau\"]\n",
            "    },\n",
            "    {\n",
            "        \"role\": \"Machine Learning Engineer\",\n",
            "        \"skills\": [\"Model Deployment\", \"Algorithm Optimization\", \"Software Engineering\"],\n",
            "        \"tools\": [\"Python\", \"Scikit-learn\", \"Keras\", \"Docker\"]\n",
            "    },\n",
            "    {\n",
            "        \"role\": \"Data Analyst\",\n",
            "        \"skills\": [\"Data Cleaning\", \"Exploratory Data Analysis\", \"Reporting\"],\n",
            "        \"tools\": [\"SQL\", \"Excel\", \"Power BI\", \"Tableau\"]\n",
            "    },\n",
            "    {\n",
            "        \"role\": \"AI Research Scientist\",\n",
            "        \"skills\": [\"Deep Learning\", \"Research Methodologies\", \"Mathematical Modeling\"],\n",
            "        \"tools\": [\"PyTorch\", \"TensorFlow\", \"MATLAB\", \"Jupyter Notebook\"]\n",
            "    },\n",
            "    {\n",
            "        \"role\": \"Data Engineer\",\n",
            "        \"skills\": [\"Data Pipeline Development\", \"ETL Processes\", \"Database Management\"],\n",
            "        \"tools\": [\"Apache Spark\", \"Hadoop\", \"SQL\", \"Kafka\"]\n",
            "    },\n",
            "    {\n",
            "        \"role\": \"Business Intelligence Analyst\",\n",
            "        \"skills\": [\"Data Interpretation\", \"Dashboard Development\", \"Business Strategy\"],\n",
            "        \"tools\": [\"Power BI\", \"Tableau\", \"SQL\", \"Excel\"]\n",
            "    },\n",
            "    {\n",
            "        \"role\": \"AI Product Manager\",\n",
            "        \"skills\": [\"Product Roadmapping\", \"Stakeholder Communication\", \"Market Analysis\"],\n",
            "        \"tools\": [\"JIRA\", \"Confluence\", \"Trello\", \"Slack\"]\n",
            "    },\n",
            "    {\n",
            "        \"role\": \"Data Architect\",\n",
            "        \"skills\": [\"Data Modeling\", \"System Design\", \"Cloud Architecture\"],\n",
            "        \"tools\": [\"AWS\", \"Azure\", \"SQL\", \"NoSQL Databases\"]\n",
            "    },\n",
            "    {\n",
            "        \"role\": \"Natural Language Processing (NLP) Engineer\",\n",
            "        \"skills\": [\"Text Processing\", \"Sentiment Analysis\", \"Language Modeling\"],\n",
            "        \"tools\": [\"NLTK\", \"SpaCy\", \"BERT\", \"Hugging Face Transformers\"]\n",
            "    },\n",
            "    {\n",
            "        \"role\": \"Computer Vision Engineer\",\n",
            "        \"skills\": [\"Image Processing\", \"Object Detection\", \"Neural Networks\"],\n",
            "        \"tools\": [\"OpenCV\", \"TensorFlow\", \"Keras\", \"PyTorch\"]\n",
            "    }\n",
            "]\n",
            "```\n"
          ]
        }
      ],
      "source": [
        "prompt = \"\"\"create a list of 10 roles specific to Data and AI, provide skills and tools used for each.\n",
        "Provide output in JSON format with keys: role, skills, tools. \"\"\"\n",
        "print(generate_response(prompt))"
      ]
    },
    {
      "cell_type": "code",
      "execution_count": null,
      "metadata": {
        "colab": {
          "base_uri": "https://localhost:8080/"
        },
        "id": "Y54erqcRerK7",
        "outputId": "197e8153-e3e7-45b5-8066-94e373c186c8"
      },
      "outputs": [
        {
          "name": "stdout",
          "output_type": "stream",
          "text": [
            "role,skills,tools\n",
            "Data Scientist,statistical analysis;machine learning;data visualization,Python;R;TensorFlow\n",
            "Machine Learning Engineer,model deployment;algorithm optimization;data preprocessing,Scikit-learn;PyTorch;Docker\n",
            "Data Analyst,data cleaning;data interpretation;reporting,Excel;Tableau;SQL\n",
            "AI Research Scientist,deep learning;natural language processing;theoretical research,PyTorch;TensorFlow;Jupyter\n",
            "Data Engineer,data pipeline development;ETL processes;database management,Apache Spark;Kafka;SQL\n",
            "Business Intelligence Analyst,market analysis;dashboard creation;data storytelling,Power BI;Tableau;SQL\n",
            "AI Product Manager,product strategy;cross-functional collaboration;market research,JIRA;Confluence;Trello\n",
            "Computer Vision Engineer,image processing;object detection;model training,OpenCV;TensorFlow;Keras\n",
            "NLP Engineer,text analysis;language modeling;semantic understanding,NLTK;SpaCy;BERT\n",
            "Data Architect,data modeling;system design;data governance,Hadoop;AWS;Azure\n"
          ]
        }
      ],
      "source": [
        "prompt = \"\"\"create a list of 10 roles specific to Data and AI, provide skills and tools used for each.\n",
        "Provide output in CSV format with headers: role, skills, tools.\n",
        "Keep the multiple tools and skills within column seperated by semicolon.\n",
        "Do not provide any other additional, sa the response will be further appended in csv file dicrectly.\"\"\"\n",
        "output = generate_response(prompt)\n",
        "\n",
        "import re\n",
        "def clean_response(text):\n",
        "    text = re.sub('```csv','',text)\n",
        "    text = re.sub(\"```\",'',text)\n",
        "    return text.strip()\n",
        "\n",
        "output = clean_response(output)\n",
        "print(output)\n"
      ]
    },
    {
      "cell_type": "code",
      "execution_count": null,
      "metadata": {
        "id": "xnFnCUATerK8"
      },
      "outputs": [],
      "source": [
        "with open(\"roles.csv\",\"w\") as file:\n",
        "    file.write(output)"
      ]
    },
    {
      "cell_type": "code",
      "execution_count": null,
      "metadata": {
        "colab": {
          "base_uri": "https://localhost:8080/"
        },
        "id": "4H2qcAHIerK8",
        "outputId": "af71763c-7905-4840-bc5c-deaea446c295"
      },
      "outputs": [
        {
          "name": "stdout",
          "output_type": "stream",
          "text": [
            "import pandas as pd\n",
            "\n",
            "# Read the CSV file\n",
            "df = pd.read_csv('roles.csv')\n",
            "\n",
            "# Export to JSON format\n",
            "df.to_json('roles.json', orient='records', lines=True)\n",
            "\n",
            "# Print success message\n",
            "print(\"CSV file has been successfully converted to JSON format.\")\n"
          ]
        }
      ],
      "source": [
        "\n",
        "input_file = \"roles.csv\"\n",
        "prompt = f\"\"\" write python code to read the file {input_file} and export it to a JSON format using pandas.\n",
        "print success message at the end\n",
        "write code which can directly be executed, do not add any additional text/explaantion, if any use # (comment to mention)\n",
        "\"\"\"\n",
        "def clean_response(text):\n",
        "    text = re.sub('```python','',text)\n",
        "    text = re.sub(\"```\",'',text)\n",
        "    return text.strip()\n",
        "llmcode = generate_response(prompt)\n",
        "llmcode = clean_response(llmcode)\n",
        "print(llmcode)"
      ]
    },
    {
      "cell_type": "code",
      "execution_count": null,
      "metadata": {
        "colab": {
          "base_uri": "https://localhost:8080/"
        },
        "id": "agitgR47erK8",
        "outputId": "1f579ef1-f525-47e4-f13c-0ac8ea2054da"
      },
      "outputs": [
        {
          "name": "stdout",
          "output_type": "stream",
          "text": [
            "CSV file has been successfully converted to JSON format.\n"
          ]
        }
      ],
      "source": [
        "exec(llmcode)"
      ]
    },
    {
      "cell_type": "code",
      "execution_count": null,
      "metadata": {
        "colab": {
          "base_uri": "https://localhost:8080/"
        },
        "id": "7uZaWtT8erK9",
        "outputId": "5c30cd18-203e-4f14-ef8f-f082e4c4e281"
      },
      "outputs": [
        {
          "name": "stdout",
          "output_type": "stream",
          "text": [
            "**Summary:**\n",
            "\n",
            "Morningstar, Inc. is an American financial services company based in Chicago, Illinois, founded by Joe Mansueto in 1984. It offers investment research and management services and operates in 29 countries. Morningstar's recommendations are influential in the asset management industry, affecting fund flows. As of March 31, 2023, it manages over US$295 billion. The company also provides software and data platforms for investment professionals.\n",
            "\n",
            "**Translation to French:**\n",
            "\n",
            "Morningstar, Inc. est une entreprise américaine de services financiers basée à Chicago, Illinois, fondée par Joe Mansueto en 1984. Elle offre des services de recherche et de gestion d'investissements et opère dans 29 pays. Les recommandations de Morningstar sont influentes dans l'industrie de la gestion d'actifs, affectant les flux de fonds. Au 31 mars 2023, elle gère plus de 295 milliards de dollars américains. L'entreprise fournit également des logiciels et des plateformes de données pour les professionnels de l'investissement.\n",
            "\n",
            "**Locations:**\n",
            "\n",
            "- Chicago, Illinois\n",
            "\n",
            "**JSON:**\n",
            "\n",
            "```json\n",
            "{\n",
            "  \"summary\": \"Morningstar, Inc. is an American financial services company based in Chicago, Illinois, founded by Joe Mansueto in 1984. It offers investment research and management services and operates in 29 countries. Morningstar's recommendations are influential in the asset management industry, affecting fund flows. As of March 31, 2023, it manages over US$295 billion. The company also provides software and data platforms for investment professionals.\",\n",
            "  \"translation\": \"Morningstar, Inc. est une entreprise américaine de services financiers basée à Chicago, Illinois, fondée par Joe Mansueto en 1984. Elle offre des services de recherche et de gestion d'investissements et opère dans 29 pays. Les recommandations de Morningstar sont influentes dans l'industrie de la gestion d'actifs, affectant les flux de fonds. Au 31 mars 2023, elle gère plus de 295 milliards de dollars américains. L'entreprise fournit également des logiciels et des plateformes de données pour les professionnels de l'investissement.\",\n",
            "  \"locations\": [\n",
            "    \"Chicago, Illinois\"\n",
            "  ]\n",
            "}\n",
            "```\n"
          ]
        }
      ],
      "source": [
        "content = \"\"\"\n",
        "Moss Adams is a professional services firm offering accounting, tax, and consulting services, primarily to public and private middle-market companies. Founded in 1913 and headquartered in Seattle, the firm is a major player in the Western United States, providing a range of services that include audit, wealth management, and transaction services. The company has since expanded globally and recently joined with Baker Tilly to form an even larger advisory firm focused on serving the middle market.\n",
        "Key Aspects of Moss Adams\n",
        "Services Offered: Moss Adams provides a comprehensive suite of services, including accounting, assurance, tax, wealth management, transaction advisory, and consulting.\n",
        "Client Focus: The firm specializes in serving public and private middle-market companies.\n",
        "Industry Specialization: Moss Adams organizes its specialists by industry to provide deeper, contextualized insights into client-specific issues.\n",
        "History and Location: Founded in 1913, the firm is the largest accounting and consulting firm headquartered in the West.\n",
        "Expansion: Moss Adams has expanded its global presence, including Moss Adams India, to build a broader talent network.\n",
        "Merger with Baker Tilly: In 2025, Moss Adams joined forces with Baker Tilly to create an expanded firm with a greater national and global reach.\n",
        "    \"\"\"\n",
        "\n",
        "prompt = f\"\"\" Summarize below content separated by triple backticks, translate it to french, provide name of locaitons\n",
        "and a JSON with everything.\n",
        "\n",
        "content:\n",
        "```{content}```\n",
        "\"\"\"\n",
        "print(generate_response(prompt))"
      ]
    },
    {
      "cell_type": "code",
      "execution_count": null,
      "metadata": {
        "colab": {
          "base_uri": "https://localhost:8080/"
        },
        "id": "lVefCX-AerK9",
        "outputId": "e4dd5cc2-c5dc-4adc-82df-0c7abb3dfd0e"
      },
      "outputs": [
        {
          "name": "stdout",
          "output_type": "stream",
          "text": [
            "```json\n",
            "{\n",
            "  \"summary\": \"Morningstar, Inc. is an American financial services firm based in Chicago, Illinois, founded in 1984 by Joe Mansueto. It offers investment research and management services and operates in 29 countries. Morningstar's recommendations are influential in the asset management industry, managing over $295 billion as of March 31, 2023. The firm also provides software and data platforms for investment professionals.\",\n",
            "  \"summary_french\": \"Morningstar, Inc. est une entreprise américaine de services financiers basée à Chicago, Illinois, fondée en 1984 par Joe Mansueto. Elle offre des services de recherche et de gestion d'investissements et opère dans 29 pays. Les recommandations de Morningstar sont influentes dans l'industrie de la gestion d'actifs, gérant plus de 295 milliards de dollars au 31 mars 2023. L'entreprise fournit également des plateformes logicielles et de données pour les professionnels de l'investissement.\",\n",
            "  \"locations\": [\n",
            "    \"Chicago, Illinois\"\n",
            "  ]\n",
            "}\n",
            "```\n"
          ]
        }
      ],
      "source": [
        "prompt = f\"\"\"Perform following tasks:\n",
        "1. Summarize below content separated by triple backticks\n",
        "2. translate summary to french\n",
        "3. Extract name of locaitons from content\n",
        "4. Provide a JSON with everything.\n",
        "\n",
        "content:\n",
        "```{content}```\n",
        "\"\"\"\n",
        "print(generate_response(prompt))"
      ]
    },
    {
      "cell_type": "markdown",
      "metadata": {
        "id": "UPHJl-_tA7O0"
      },
      "source": [
        "## Hallucinations"
      ]
    },
    {
      "cell_type": "code",
      "execution_count": null,
      "metadata": {
        "colab": {
          "base_uri": "https://localhost:8080/"
        },
        "id": "E0nS2q4BerK-",
        "outputId": "7f2de547-1392-42a9-987e-4b089317ca1a"
      },
      "outputs": [
        {
          "name": "stdout",
          "output_type": "stream",
          "text": [
            "Step 1: Get some warm water.\n",
            "\n",
            "Step 2: Mix the warm water with some detergent.\n",
            "\n",
            "Step 3: Put the dirty clothes in the water and let them soak for some time.\n",
            "\n",
            "Step 4: Allow the stains to loosen and mix with the water.\n",
            "\n",
            "Step 5: Take the clothes out and rub the dirt/stains with a soft brush to remove them.\n",
            "\n",
            "Step 6: Rinse the clothes with water to remove the detergent.\n",
            "\n",
            "Step 7: Hang the clothes on a rope to dry.\n",
            "\n",
            "Step 8: Enjoy the clean clothes.\n"
          ]
        }
      ],
      "source": [
        "# asking for a specific format\n",
        "text = \"\"\"\n",
        "Washing clothes without washing machines is easy!\n",
        "First you need to get some warm water. Mix the warm water with some detergent. Second you can put the dirty clothes in it and let it stay wet for some time.\n",
        "During this period the stains will get loose and mixed with water.\n",
        "thereafter you can take clothes out, rub the dirt/stains with a soft brush to remove the stains if any.\n",
        "get the clothes mixed with water to get the detergent out of it. and then put it for drying on a rope.\n",
        "Enjoy the clean clothes.\n",
        "\"\"\"\n",
        "\n",
        "prompt = f\"\"\"\n",
        "you will be provided with some text delimited by triple backticks. Rewrite those into a set of instructions in the following format:\n",
        "\n",
        "Step 1: ...\n",
        "Step 2: ....\n",
        "..\n",
        "Step N:...\n",
        "\n",
        "```{text}\n",
        "```\n",
        "\"\"\"\n",
        "response = generate_response(prompt)\n",
        "print(response)"
      ]
    },
    {
      "cell_type": "code",
      "execution_count": null,
      "metadata": {
        "colab": {
          "base_uri": "https://localhost:8080/"
        },
        "id": "aDlUmltEBLd7",
        "outputId": "5fc766e7-d07d-4389-a4c9-660ebb873363"
      },
      "outputs": [
        {
          "name": "stdout",
          "output_type": "stream",
          "text": [
            "```\n",
            "Step 1: Observe the bright sun shining between the clouds.\n",
            "\n",
            "Step 2: Enjoy the pleasant weather.\n",
            "\n",
            "Step 3: Feel the refreshing wind.\n",
            "\n",
            "Step 4: Appreciate and love the day.\n",
            "```\n"
          ]
        }
      ],
      "source": [
        "# asking for a specific format\n",
        "text = \"\"\"\n",
        "The morning today is amazing, the sun is looking bright in between clouds, the weather is pleasent and the wind is mindblowing.\n",
        "on a whole i am loving the day today.\n",
        "\"\"\"\n",
        "\n",
        "prompt = f\"\"\"\n",
        "you will be provided with some text delimited by triple backticks. Rewrite those into a set of instructions in the following format:\n",
        "\n",
        "Step 1: ...\n",
        "Step 2: ....\n",
        "..\n",
        "Step N:...\n",
        "\n",
        "```{text}\n",
        "```\n",
        "\"\"\"\n",
        "response = generate_response(prompt)\n",
        "print(response)"
      ]
    },
    {
      "cell_type": "code",
      "execution_count": null,
      "metadata": {
        "colab": {
          "base_uri": "https://localhost:8080/"
        },
        "id": "kSbZxYCVBbx7",
        "outputId": "a336bf0d-3408-49d9-9353-8d206957229d"
      },
      "outputs": [
        {
          "name": "stdout",
          "output_type": "stream",
          "text": [
            "Step 1: Get some warm water.\n",
            "\n",
            "Step 2: Mix the warm water with some detergent.\n",
            "\n",
            "Step 3: Put the dirty clothes in the water and let them soak for some time.\n",
            "\n",
            "Step 4: Take the clothes out and rub the dirt/stains with a soft brush to remove any stains.\n",
            "\n",
            "Step 5: Rinse the clothes with water to remove the detergent.\n",
            "\n",
            "Step 6: Hang the clothes to dry on a rope.\n"
          ]
        }
      ],
      "source": [
        "# asking for a specific format\n",
        "text = \"\"\"\n",
        "Washing clothes without washing machines is easy!\n",
        "First you need to get some warm water. Mix the warm water with some detergent. Second you can put the dirty clothes in it and let it stay wet for some time.\n",
        "During this period the stains will get loose and mixed with water.\n",
        "thereafter you can take clothes out, rub the dirt/stains with a soft brush to remove the stains if any.\n",
        "get the clothes mixed with water to get the detergent out of it. and then put it for drying on a rope.\n",
        "Enjoy the clean clothes.\n",
        "\"\"\"\n",
        "\n",
        "prompt = f\"\"\"\n",
        "you will be provided with some text delimited by triple backticks.\n",
        "Rewrite those into a set of instructions in the following format only if contains a sequence of instructions:\n",
        "\n",
        "Step 1: ...\n",
        "Step 2: ....\n",
        "..\n",
        "Step N:...\n",
        "\n",
        "```{text}\n",
        "```\n",
        "\n",
        "if the text does not contain a sequence of instructions, then simply write 'No steps provided'\n",
        "\"\"\"\n",
        "response = generate_response(prompt)\n",
        "print(response)"
      ]
    },
    {
      "cell_type": "code",
      "execution_count": null,
      "metadata": {
        "colab": {
          "base_uri": "https://localhost:8080/"
        },
        "id": "5_16NJitB9xp",
        "outputId": "9ed6b07e-759c-46a0-cb10-6ecf72ef9918"
      },
      "outputs": [
        {
          "name": "stdout",
          "output_type": "stream",
          "text": [
            "No steps provided\n"
          ]
        }
      ],
      "source": [
        "# asking for a specific format\n",
        "text = \"\"\"\n",
        "The morning today is amazing, the sun is looking bright in between clouds, the weather is pleasent and the wind is mindblowing.\n",
        "on a whole i am loving the day today.\n",
        "\"\"\"\n",
        "\n",
        "prompt = f\"\"\"\n",
        "you will be provided with some text delimited by triple backticks.\n",
        "Rewrite those into a set of instructions in the following format only if contains a sequence of instructions:\n",
        "\n",
        "Step 1: ...\n",
        "Step 2: ....\n",
        "..\n",
        "Step N:...\n",
        "\n",
        "```{text}\n",
        "```\n",
        "\n",
        "if the text does not contain a sequence of instructions, then simply write 'No steps provided'\n",
        "\"\"\"\n",
        "response = generate_response(prompt)\n",
        "print(response)"
      ]
    },
    {
      "cell_type": "code",
      "execution_count": null,
      "metadata": {
        "colab": {
          "base_uri": "https://localhost:8080/"
        },
        "id": "HDWT_m3rCB1_",
        "outputId": "c4afe2b6-6080-4543-8d52-5c625f082e00"
      },
      "outputs": [
        {
          "name": "stdout",
          "output_type": "stream",
          "text": [
            "1. Delhi: A vibrant blend of history and modernity, serving as India's bustling capital.\n",
            "2. Manila: The dynamic heart of the Philippines, known for its rich history and vibrant culture.\n",
            "3. JPchasecity: A fictional or lesser-known city, possibly named for a financial institution.\n",
            "4. Kuala Lumpur: Malaysia's capital, famed for its iconic Petronas Towers and diverse culture.\n",
            "5. Dubai: A futuristic metropolis in the UAE, renowned for luxury shopping and ultramodern architecture.\n"
          ]
        }
      ],
      "source": [
        "prompt = \"\"\"write one line description for below cities:\n",
        "\n",
        "1. Delhi\n",
        "2. Manila\n",
        "3. JPchasecity\n",
        "4. Kuala Lumpur\n",
        "5. Dubai\n",
        "\"\"\"\n",
        "print(generate_response(prompt))"
      ]
    },
    {
      "cell_type": "code",
      "execution_count": null,
      "metadata": {
        "colab": {
          "base_uri": "https://localhost:8080/"
        },
        "id": "BoYh60OwCZzy",
        "outputId": "99e59883-496c-48ce-801a-660ef4da457d"
      },
      "outputs": [
        {
          "name": "stdout",
          "output_type": "stream",
          "text": [
            "1. Delhi: The vibrant capital of India, known for its rich history and bustling markets.\n",
            "\n",
            "2. Manila: The lively capital of the Philippines, famous for its waterfront promenade and centuries-old Chinatown.\n",
            "\n",
            "3. JPchasecity: The city does not exist as per my knowledge.\n",
            "\n",
            "4. Kuala Lumpur: The dynamic capital of Malaysia, renowned for its iconic Petronas Twin Towers and diverse culture.\n",
            "\n",
            "5. Dubai: A futuristic city in the UAE, celebrated for its ultramodern architecture and luxury shopping.\n"
          ]
        }
      ],
      "source": [
        "prompt = \"\"\"write one line description for below cities:\n",
        "\n",
        "1. Delhi\n",
        "2. Manila\n",
        "3. JPchasecity\n",
        "4. Kuala Lumpur\n",
        "5. Dubai\n",
        "\n",
        "\n",
        "\n",
        "CHeck if the city is the actual city as per your knowledge base / cutoff data, if not mention that \"The city does not exist as per my knowledge\"\n",
        "\"\"\"\n",
        "print(generate_response(prompt))"
      ]
    },
    {
      "cell_type": "code",
      "execution_count": null,
      "metadata": {
        "colab": {
          "base_uri": "https://localhost:8080/"
        },
        "id": "jIUgiYwmC1MO",
        "outputId": "790ca0dd-ada3-4975-cc42-905089d2d944"
      },
      "outputs": [
        {
          "name": "stdout",
          "output_type": "stream",
          "text": [
            "1. **Chase Credit Card**: Experience financial flexibility and rewards with the Chase Credit Card. Designed to fit your lifestyle, it offers competitive interest rates, cashback options, and exclusive perks. Whether you're traveling or shopping, enjoy peace of mind with robust security features and 24/7 customer support.\n",
            "\n",
            "2. **Ergonomic Toothbrush**: Elevate your oral care routine with our Ergonomic Toothbrush. Crafted for comfort and efficiency, its unique handle design ensures a perfect grip, while soft bristles gently clean your teeth and gums. Achieve a healthier smile with ease and precision.\n",
            "\n",
            "3. **JP Morgan Relax Chair**: Unwind in luxury with the JP Morgan Relax Chair. Combining sleek design with ultimate comfort, this chair features plush cushioning and adjustable settings to suit your relaxation needs. Perfect for any space, it offers a sophisticated touch to your home or office.\n"
          ]
        }
      ],
      "source": [
        "prompt = \"\"\"write one description for below products:\n",
        "\n",
        "1. A credit card by Chase\n",
        "2. An ergonomic Toothbrush\n",
        "3. A relax chair by JP Morgan\n",
        "\"\"\"\n",
        "print(generate_response(prompt))"
      ]
    },
    {
      "cell_type": "code",
      "execution_count": null,
      "metadata": {
        "id": "IzG98srNFsV1"
      },
      "outputs": [],
      "source": []
    },
    {
      "cell_type": "code",
      "execution_count": null,
      "metadata": {
        "id": "6TvQ89UdF6De"
      },
      "outputs": [],
      "source": [
        "|"
      ]
    },
    {
      "cell_type": "markdown",
      "metadata": {
        "id": "kWYDUVa1JZb9"
      },
      "source": [
        "## Exercise 1: Prompting for Product Explanation (with Compliance)\n",
        "\n",
        "**Objective:** Design a prompt for an AI to explain a banking product accurately and compliantly.\n",
        "\n",
        "**Scenario:** A customer asks about a \"Fixed Deposit\" in a Saudi bank. The AI needs to explain it clearly, including key details, and add a standard compliance disclaimer.\n",
        "\n",
        "**Task:** Create a prompt for an AI to explain a Fixed Deposit.\n",
        "\n",
        "**Prompt Requirements:**\n",
        "1.  **Role:**\n",
        "2.  **Instruction:**\n",
        "3.  **Key Details to Include:**\n",
        "4.  **Compliance Constraint:**\n",
        "5.  **Tone:**\n",
        "\n",
        "---\n",
        "\n",
        "**Example Input for Testing:**\n",
        "\n",
        "**User Query:** \"What is a Fixed Deposit and how does it work?\"\n",
        "\n",
        "---\n",
        "\n",
        "**Example Output (Simulated AI Response based on your prompt):**\n",
        "\n",
        "\"As a Bank Customer Service Officer, I can explain Fixed Deposits for you.\n",
        "\n",
        "A Fixed Deposit is an investment account that holds a fixed amount of money for a specified period, offering a fixed interest rate. You earn interest on your deposit, which is typically paid out at the end of the maturity period. If you withdraw your funds before the agreed maturity date, a penalty may apply, often resulting in forfeiture of accrued interest.\n",
        "\n",
        "*Terms and conditions apply. Interest rates are subject to change without prior notice.*\"\n",
        "\n"
      ]
    },
    {
      "cell_type": "code",
      "execution_count": null,
      "metadata": {
        "colab": {
          "base_uri": "https://localhost:8080/"
        },
        "id": "HZmU5JQPJZ4Y",
        "outputId": "0f310c3b-7243-4f2f-cd48-da55bb513cc2"
      },
      "outputs": [
        {
          "name": "stdout",
          "output_type": "stream",
          "text": [
            "**Fixed Deposit Explanation**\n",
            "\n",
            "A Fixed Deposit (FD) is a financial product where you deposit a sum of money with the bank for a specific period at a predetermined interest rate. It’s a safe investment option that offers higher interest rates compared to a regular savings account.\n",
            "\n",
            "**Key Attributes:**\n",
            "\n",
            "1. **Interest Rates:** The interest rate on an FD is fixed at the time of deposit and remains constant throughout the term. Rates can vary based on the deposit amount and duration.\n",
            "\n",
            "2. **Maturity:** You choose the term for your FD, which can range from a few months to several years. At maturity, you receive your initial deposit plus the interest earned.\n",
            "\n",
            "3. **Penalties:** If you withdraw your FD before the maturity date, a penalty may apply, which could reduce the interest earned.\n",
            "\n",
            "**Example Calculation:**\n",
            "\n",
            "Suppose you deposit SAR 10,000 in a 1-year FD at an interest rate of 3% per annum. At the end of the year, you would earn:\n",
            "\n",
            "Interest = Principal x Rate x Time = SAR 10,000 x 0.03 x 1 = SAR 300\n",
            "\n",
            "So, you would receive SAR 10,300 at maturity.\n",
            "\n",
            "Please feel free to ask if you have any more questions or need further assistance.\n",
            "\n",
            "*Disclaimer: Terms and conditions apply. Interest rates are subject to change without prior notice.*\n"
          ]
        }
      ],
      "source": []
    },
    {
      "cell_type": "code",
      "execution_count": null,
      "metadata": {
        "id": "I0gHrmzNJeHi"
      },
      "outputs": [],
      "source": []
    },
    {
      "cell_type": "markdown",
      "metadata": {
        "id": "wmoEyLrmJeea"
      },
      "source": [
        "\n",
        "## Exercise 2: Iterative Prompt Refinement for Transaction Categorization\n",
        "\n",
        "**Objective:** Refine a prompt to categorize customer transactions accurately and concisely, reducing irrelevant information.\n",
        "\n",
        "**Scenario:** Your bank's AI system categorizes customer spending. The initial prompt is too broad, leading to generic or noisy outputs.\n",
        "\n",
        "**Initial Prompt (Provided to AI):**\n",
        "\"Categorize the following transaction: 'Purchase at Starbucks, USD15'.\"\n",
        "\n",
        "**AI's Initial Output:**\n",
        "\"This transaction is for coffee. It is a small expense. It happened at Starbucks.\"\n",
        "\n",
        "---\n",
        "\n",
        "**Task:** Perform two iterations of prompt refinement.\n",
        "\n",
        "**Iteration 1: Improving Specificity & Conciseness**\n",
        "\n",
        "* **Goal:** Get a precise category without unnecessary conversational filler.\n",
        "* **Prompt Engineering Principles:** Specificity, Negative Constraints (implied by what *not* to include).\n",
        "\n",
        "**Your Revised Prompt (Iteration 1):**\n",
        "\n",
        "\n",
        "**Example Output (Example Response based on your Iteration 1 prompt):**\n",
        "\n",
        "\"Food & Beverage\"\n",
        "\n",
        "---\n",
        "\n",
        "**Iteration 2: Adding Detail and Format for Analyst Review**\n",
        "\n",
        "* **Goal:** Provide the category and a *reason* for that category, formatted for a data analyst.\n",
        "* **Prompt Engineering Principles:** Role-Playing, Chain-of-Thought (implicit), Format.\n",
        "\n",
        "**Your Revised Prompt (Iteration 2):**\n",
        "\n",
        "\n",
        "**Example Output (Example Response based on your Iteration 2 prompt):**\n",
        "\n",
        "\"**Category: Food & Beverage**\n",
        "**Reasoning:** 'Starbucks' is a common coffee shop, and 'USD15' is a typical amount for such a purchase.\"\n"
      ]
    },
    {
      "cell_type": "code",
      "execution_count": null,
      "metadata": {
        "colab": {
          "base_uri": "https://localhost:8080/"
        },
        "id": "WFWMAbcJJeux",
        "outputId": "4067287b-f8ab-4ea7-d06f-2e9007324dd2"
      },
      "outputs": [
        {
          "name": "stdout",
          "output_type": "stream",
          "text": [
            "food & Beverage\n"
          ]
        }
      ],
      "source": []
    },
    {
      "cell_type": "code",
      "execution_count": null,
      "metadata": {
        "colab": {
          "base_uri": "https://localhost:8080/"
        },
        "id": "7TltMrS5TpQs",
        "outputId": "fd3676bc-1a09-471d-d5bc-bec1ee6cea10"
      },
      "outputs": [
        {
          "name": "stdout",
          "output_type": "stream",
          "text": [
            "```json\n",
            "{\n",
            "  \"category\": \"Food & Beverage\",\n",
            "  \"reasoning\": \"The purchase at Starbucks is related to buying drinks or food items, which falls under the Food & Beverage category.\"\n",
            "}\n",
            "```\n"
          ]
        }
      ],
      "source": []
    },
    {
      "cell_type": "code",
      "execution_count": null,
      "metadata": {
        "id": "db7aOlG1UIdk"
      },
      "outputs": [],
      "source": []
    }
  ],
  "metadata": {
    "colab": {
      "provenance": [],
      "include_colab_link": true
    },
    "kernelspec": {
      "display_name": "Python 3",
      "language": "python",
      "name": "python3"
    },
    "language_info": {
      "codemirror_mode": {
        "name": "ipython",
        "version": 3
      },
      "file_extension": ".py",
      "mimetype": "text/x-python",
      "name": "python",
      "nbconvert_exporter": "python",
      "pygments_lexer": "ipython3",
      "version": "3.13.2"
    }
  },
  "nbformat": 4,
  "nbformat_minor": 0
}