{
  "cells": [
    {
      "cell_type": "markdown",
      "metadata": {
        "id": "view-in-github",
        "colab_type": "text"
      },
      "source": [
        "<a href=\"https://colab.research.google.com/github/anshupandey/MA_AI900/blob/main/Demo_Lab2_prompt_evaluation_tracing.ipynb\" target=\"_parent\"><img src=\"https://colab.research.google.com/assets/colab-badge.svg\" alt=\"Open In Colab\"/></a>"
      ]
    },
    {
      "cell_type": "markdown",
      "id": "3bbc1156",
      "metadata": {
        "id": "3bbc1156"
      },
      "source": [
        "# Prompt Evaluation and Tracing with MLflow\n",
        "This notebook is designed to help you evaluate and trace prompts using MLflow. It provides a structured way to log prompt evaluations, track their performance, and visualize the results over time.\n",
        "\n",
        "Key Benefits of MLflow Prompt Evaluation\n",
        "* Effective Evaluation: `MLflow's LLM Evaluation API provides a simple and consistent way to evaluate prompts across different models and datasets without writing boilerplate code.\n",
        "* Compare Results: Compare evaluation results with ease in the MLflow UI.\n",
        "* Tracking Results: Track evaluation results in MLflow Experiment to maintain the history of prompt performance and different evaluation settings.\n",
        "* Tracing: Inspect model behavior during inference deeply with traces generated during evaluation."
      ]
    },
    {
      "cell_type": "markdown",
      "id": "c136f3fa",
      "metadata": {
        "id": "c136f3fa"
      },
      "source": [
        "### <span style=\"color:red\">Additions for .env - Environement Variables</span>\n",
        "\n",
        "\n",
        "\n",
        "\n",
        "OPENAI_API_TYPE=\"azure\"\n",
        "\n",
        "OPENAI_API_BASE=\"< your-azure-openai-endpoint >\"\n",
        "\n",
        "OPENAI_DEPLOYMENT_NAME=gpt4o\n",
        "\n",
        "OPENAI_API_VERSION=\"2024-08-01-preview\"\n",
        "\n",
        "OPENAI_API_KEY=\"< your-api-key-for-azure-openai >\""
      ]
    },
    {
      "cell_type": "code",
      "execution_count": 2,
      "id": "f45256b9",
      "metadata": {
        "id": "f45256b9",
        "outputId": "af099c67-24a8-4bf8-c020-2901aaa8618f",
        "colab": {
          "base_uri": "https://localhost:8080/"
        }
      },
      "outputs": [
        {
          "output_type": "stream",
          "name": "stdout",
          "text": [
            "\u001b[2K     \u001b[90m━━━━━━━━━━━━━━━━━━━━━━━━━━━━━━━━━━━━━━━━\u001b[0m \u001b[32m41.6/41.6 kB\u001b[0m \u001b[31m2.9 MB/s\u001b[0m eta \u001b[36m0:00:00\u001b[0m\n",
            "\u001b[2K   \u001b[90m━━━━━━━━━━━━━━━━━━━━━━━━━━━━━━━━━━━━━━━━\u001b[0m \u001b[32m26.7/26.7 MB\u001b[0m \u001b[31m69.5 MB/s\u001b[0m eta \u001b[36m0:00:00\u001b[0m\n",
            "\u001b[2K   \u001b[90m━━━━━━━━━━━━━━━━━━━━━━━━━━━━━━━━━━━━━━━━\u001b[0m \u001b[32m2.2/2.2 MB\u001b[0m \u001b[31m78.6 MB/s\u001b[0m eta \u001b[36m0:00:00\u001b[0m\n",
            "\u001b[2K   \u001b[90m━━━━━━━━━━━━━━━━━━━━━━━━━━━━━━━━━━━━━━━━\u001b[0m \u001b[32m1.2/1.2 MB\u001b[0m \u001b[31m54.8 MB/s\u001b[0m eta \u001b[36m0:00:00\u001b[0m\n",
            "\u001b[2K   \u001b[90m━━━━━━━━━━━━━━━━━━━━━━━━━━━━━━━━━━━━━━━━\u001b[0m \u001b[32m261.7/261.7 kB\u001b[0m \u001b[31m18.5 MB/s\u001b[0m eta \u001b[36m0:00:00\u001b[0m\n",
            "\u001b[2K   \u001b[90m━━━━━━━━━━━━━━━━━━━━━━━━━━━━━━━━━━━━━━━━\u001b[0m \u001b[32m52.3/52.3 kB\u001b[0m \u001b[31m3.9 MB/s\u001b[0m eta \u001b[36m0:00:00\u001b[0m\n",
            "\u001b[2K   \u001b[90m━━━━━━━━━━━━━━━━━━━━━━━━━━━━━━━━━━━━━━━━\u001b[0m \u001b[32m9.1/9.1 MB\u001b[0m \u001b[31m109.3 MB/s\u001b[0m eta \u001b[36m0:00:00\u001b[0m\n",
            "\u001b[2K   \u001b[90m━━━━━━━━━━━━━━━━━━━━━━━━━━━━━━━━━━━━━━━━\u001b[0m \u001b[32m239.2/239.2 kB\u001b[0m \u001b[31m18.0 MB/s\u001b[0m eta \u001b[36m0:00:00\u001b[0m\n",
            "\u001b[2K   \u001b[90m━━━━━━━━━━━━━━━━━━━━━━━━━━━━━━━━━━━━━━━━\u001b[0m \u001b[32m84.1/84.1 kB\u001b[0m \u001b[31m5.9 MB/s\u001b[0m eta \u001b[36m0:00:00\u001b[0m\n",
            "\u001b[2K   \u001b[90m━━━━━━━━━━━━━━━━━━━━━━━━━━━━━━━━━━━━━━━━\u001b[0m \u001b[32m45.5/45.5 kB\u001b[0m \u001b[31m3.1 MB/s\u001b[0m eta \u001b[36m0:00:00\u001b[0m\n",
            "\u001b[2K   \u001b[90m━━━━━━━━━━━━━━━━━━━━━━━━━━━━━━━━━━━━━━━━\u001b[0m \u001b[32m147.8/147.8 kB\u001b[0m \u001b[31m12.0 MB/s\u001b[0m eta \u001b[36m0:00:00\u001b[0m\n",
            "\u001b[2K   \u001b[90m━━━━━━━━━━━━━━━━━━━━━━━━━━━━━━━━━━━━━━━━\u001b[0m \u001b[32m314.0/314.0 kB\u001b[0m \u001b[31m23.2 MB/s\u001b[0m eta \u001b[36m0:00:00\u001b[0m\n",
            "\u001b[2K   \u001b[90m━━━━━━━━━━━━━━━━━━━━━━━━━━━━━━━━━━━━━━━━\u001b[0m \u001b[32m278.4/278.4 kB\u001b[0m \u001b[31m18.1 MB/s\u001b[0m eta \u001b[36m0:00:00\u001b[0m\n",
            "\u001b[2K   \u001b[90m━━━━━━━━━━━━━━━━━━━━━━━━━━━━━━━━━━━━━━━━\u001b[0m \u001b[32m114.9/114.9 kB\u001b[0m \u001b[31m8.1 MB/s\u001b[0m eta \u001b[36m0:00:00\u001b[0m\n",
            "\u001b[2K   \u001b[90m━━━━━━━━━━━━━━━━━━━━━━━━━━━━━━━━━━━━━━━━\u001b[0m \u001b[32m85.0/85.0 kB\u001b[0m \u001b[31m6.9 MB/s\u001b[0m eta \u001b[36m0:00:00\u001b[0m\n",
            "\u001b[2K   \u001b[90m━━━━━━━━━━━━━━━━━━━━━━━━━━━━━━━━━━━━━━━━\u001b[0m \u001b[32m400.9/400.9 kB\u001b[0m \u001b[31m28.2 MB/s\u001b[0m eta \u001b[36m0:00:00\u001b[0m\n",
            "\u001b[2K   \u001b[90m━━━━━━━━━━━━━━━━━━━━━━━━━━━━━━━━━━━━━━━━\u001b[0m \u001b[32m2.1/2.1 MB\u001b[0m \u001b[31m73.0 MB/s\u001b[0m eta \u001b[36m0:00:00\u001b[0m\n",
            "\u001b[2K   \u001b[90m━━━━━━━━━━━━━━━━━━━━━━━━━━━━━━━━━━━━━━━━\u001b[0m \u001b[32m86.2/86.2 kB\u001b[0m \u001b[31m6.1 MB/s\u001b[0m eta \u001b[36m0:00:00\u001b[0m\n",
            "\u001b[2K   \u001b[90m━━━━━━━━━━━━━━━━━━━━━━━━━━━━━━━━━━━━━━━━\u001b[0m \u001b[32m705.9/705.9 kB\u001b[0m \u001b[31m38.3 MB/s\u001b[0m eta \u001b[36m0:00:00\u001b[0m\n",
            "\u001b[2K   \u001b[90m━━━━━━━━━━━━━━━━━━━━━━━━━━━━━━━━━━━━━━━━\u001b[0m \u001b[32m203.4/203.4 kB\u001b[0m \u001b[31m14.5 MB/s\u001b[0m eta \u001b[36m0:00:00\u001b[0m\n",
            "\u001b[2K   \u001b[90m━━━━━━━━━━━━━━━━━━━━━━━━━━━━━━━━━━━━━━━━\u001b[0m \u001b[32m106.6/106.6 kB\u001b[0m \u001b[31m8.0 MB/s\u001b[0m eta \u001b[36m0:00:00\u001b[0m\n",
            "\u001b[2K   \u001b[90m━━━━━━━━━━━━━━━━━━━━━━━━━━━━━━━━━━━━━━━━\u001b[0m \u001b[32m96.4/96.4 kB\u001b[0m \u001b[31m6.1 MB/s\u001b[0m eta \u001b[36m0:00:00\u001b[0m\n",
            "\u001b[2K   \u001b[90m━━━━━━━━━━━━━━━━━━━━━━━━━━━━━━━━━━━━━━━━\u001b[0m \u001b[32m72.5/72.5 kB\u001b[0m \u001b[31m5.8 MB/s\u001b[0m eta \u001b[36m0:00:00\u001b[0m\n",
            "\u001b[2K   \u001b[90m━━━━━━━━━━━━━━━━━━━━━━━━━━━━━━━━━━━━━━━━\u001b[0m \u001b[32m224.4/224.4 kB\u001b[0m \u001b[31m15.3 MB/s\u001b[0m eta \u001b[36m0:00:00\u001b[0m\n",
            "\u001b[2K   \u001b[90m━━━━━━━━━━━━━━━━━━━━━━━━━━━━━━━━━━━━━━━━\u001b[0m \u001b[32m331.1/331.1 kB\u001b[0m \u001b[31m19.5 MB/s\u001b[0m eta \u001b[36m0:00:00\u001b[0m\n",
            "\u001b[2K   \u001b[90m━━━━━━━━━━━━━━━━━━━━━━━━━━━━━━━━━━━━━━━━\u001b[0m \u001b[32m71.5/71.5 kB\u001b[0m \u001b[31m4.8 MB/s\u001b[0m eta \u001b[36m0:00:00\u001b[0m\n",
            "\u001b[?25h"
          ]
        }
      ],
      "source": [
        "!python -m pip install mlflow openai dspy litellm textstat evaluate --quiet\n",
        "!python -m pip install --upgrade mlflow --quiet"
      ]
    },
    {
      "cell_type": "code",
      "execution_count": 3,
      "id": "2a97b8a8",
      "metadata": {
        "id": "2a97b8a8",
        "outputId": "74972894-f404-48b9-fc1f-7411e3e6ab74",
        "colab": {
          "base_uri": "https://localhost:8080/"
        }
      },
      "outputs": [
        {
          "output_type": "stream",
          "name": "stdout",
          "text": [
            "3.4.0\n"
          ]
        }
      ],
      "source": [
        "import os\n",
        "import mlflow\n",
        "from openai import AzureOpenAI\n",
        "mlflow.set_tracking_uri(\"http://20.75.92.162:5000/\")\n",
        "print(mlflow.__version__)"
      ]
    },
    {
      "cell_type": "code",
      "source": [
        "import os\n",
        "os.environ['AZURE_OPENAI_ENDPOINT'] = \"https://xxx.openai.azure.com/\"\n",
        "os.environ['AZURE_OPENAI_API_KEY'] = \"\"\n",
        "os.environ['OPENAI_API_VERSION'] = \"2025-03-01-preview\"\n",
        "\n",
        "os.environ['OPENAI_API_BASE'] = \"https://xx.openai.azure.com/\"\n",
        "os.environ['OPENAI_DEPLOYMENT_NAME'] = \"gpt-4.1-mini\"\n",
        "os.environ['OPENAI_API_TYPE'] = \"azure\"\n",
        "os.environ['OPENAI_API_KEY'] = \"\"\n"
      ],
      "metadata": {
        "id": "l8CZ4cULlBbM"
      },
      "id": "l8CZ4cULlBbM",
      "execution_count": 13,
      "outputs": []
    },
    {
      "cell_type": "markdown",
      "id": "2d4db162",
      "metadata": {
        "id": "2d4db162"
      },
      "source": [
        "### 1. Create a new prompt"
      ]
    },
    {
      "cell_type": "code",
      "execution_count": 5,
      "id": "574133d5",
      "metadata": {
        "id": "574133d5",
        "outputId": "0d237e33-75f6-4155-e842-269e79ab6182",
        "colab": {
          "base_uri": "https://localhost:8080/"
        }
      },
      "outputs": [
        {
          "output_type": "stream",
          "name": "stderr",
          "text": [
            "/tmp/ipython-input-2441474764.py:11: FutureWarning: The `mlflow.register_prompt` API is moved to the `mlflow.genai` namespace. Please use `mlflow.genai.register_prompt` instead. The original API will be removed in the future release.\n",
            "  prompt = mlflow.register_prompt(\n",
            "2025/09/19 10:47:43 INFO mlflow.store.model_registry.abstract_store: Waiting up to 300 seconds for prompt version to finish creation. Prompt name: anshu-summarization-prompt, version 19\n"
          ]
        },
        {
          "output_type": "stream",
          "name": "stdout",
          "text": [
            "Created prompt 'anshu-summarization-prompt' (version 19)\n"
          ]
        }
      ],
      "source": [
        "import mlflow\n",
        "\n",
        "# Use double curly braces for variables in the template\n",
        "initial_template = \"\"\"\\\n",
        "Summarize content you are provided with in {{ num_sentences }} sentences.\n",
        "\n",
        "Sentences: {{ sentences }}\n",
        "\"\"\"\n",
        "\n",
        "# Register a new prompt\n",
        "prompt = mlflow.register_prompt(\n",
        "    name=\"anshu-summarization-prompt\",\n",
        "    template=initial_template,\n",
        "    # Optional: Provide a commit message to describe the changes\n",
        "    commit_message=\"Initial commit\",\n",
        ")\n",
        "\n",
        "# The prompt object contains information about the registered prompt\n",
        "print(f\"Created prompt '{prompt.name}' (version {prompt.version})\")"
      ]
    },
    {
      "cell_type": "markdown",
      "id": "5ff816a5",
      "metadata": {
        "id": "5ff816a5"
      },
      "source": [
        "### 2. Prepare Evaluation Data"
      ]
    },
    {
      "cell_type": "code",
      "execution_count": 6,
      "id": "4c1e3206",
      "metadata": {
        "id": "4c1e3206"
      },
      "outputs": [],
      "source": [
        "import pandas as pd\n",
        "\n",
        "eval_data = pd.DataFrame(\n",
        "    {\n",
        "        \"inputs\": [\n",
        "            \"Artificial intelligence has transformed how businesses operate in the 21st century. Companies are leveraging AI for everything from customer service to supply chain optimization. The technology enables automation of routine tasks, freeing human workers for more creative endeavors. However, concerns about job displacement and ethical implications remain significant. Many experts argue that AI will ultimately create more jobs than it eliminates, though the transition may be challenging.\",\n",
        "            \"Climate change continues to affect ecosystems worldwide at an alarming rate. Rising global temperatures have led to more frequent extreme weather events including hurricanes, floods, and wildfires. Polar ice caps are melting faster than predicted, contributing to sea level rise that threatens coastal communities. Scientists warn that without immediate and dramatic reductions in greenhouse gas emissions, many of these changes may become irreversible. International cooperation remains essential but politically challenging.\",\n",
        "            \"The human genome project was completed in 2003 after 13 years of international collaborative research. It successfully mapped all of the genes of the human genome, approximately 20,000-25,000 genes in total. The project cost nearly $3 billion but has enabled countless medical advances and spawned new fields like pharmacogenomics. The knowledge gained has dramatically improved our understanding of genetic diseases and opened pathways to personalized medicine. Today, a complete human genome can be sequenced in under a day for about $1,000.\",\n",
        "            \"Remote work adoption accelerated dramatically during the COVID-19 pandemic. Organizations that had previously resisted flexible work arrangements were forced to implement digital collaboration tools and virtual workflows. Many companies reported surprising productivity gains, though concerns about company culture and collaboration persisted. After the pandemic, a hybrid model emerged as the preferred approach for many businesses, combining in-office and remote work. This shift has profound implications for urban planning, commercial real estate, and work-life balance.\",\n",
        "            \"Quantum computing represents a fundamental shift in computational capability. Unlike classical computers that use bits as either 0 or 1, quantum computers use quantum bits or qubits that can exist in multiple states simultaneously. This property, known as superposition, theoretically allows quantum computers to solve certain problems exponentially faster than classical computers. Major technology companies and governments are investing billions in quantum research. Fields like cryptography, material science, and drug discovery are expected to be revolutionized once quantum computers reach practical scale.\",\n",
        "        ],\n",
        "        \"targets\": [\n",
        "            \"AI has revolutionized business operations through automation and optimization, though ethical concerns about job displacement persist alongside predictions that AI will ultimately create more employment opportunities than it eliminates.\",\n",
        "            \"Climate change is causing accelerating environmental damage through extreme weather events and melting ice caps, with scientists warning that without immediate reduction in greenhouse gas emissions, many changes may become irreversible.\",\n",
        "            \"The Human Genome Project, completed in 2003, mapped approximately 20,000-25,000 human genes at a cost of $3 billion, enabling medical advances, improving understanding of genetic diseases, and establishing the foundation for personalized medicine.\",\n",
        "            \"The COVID-19 pandemic forced widespread adoption of remote work, revealing unexpected productivity benefits despite collaboration challenges, and resulting in a hybrid work model that impacts urban planning, real estate, and work-life balance.\",\n",
        "            \"Quantum computing uses qubits existing in multiple simultaneous states to potentially solve certain problems exponentially faster than classical computers, with major investment from tech companies and governments anticipating revolutionary applications in cryptography, materials science, and pharmaceutical research.\",\n",
        "        ],\n",
        "    }\n",
        ")"
      ]
    },
    {
      "cell_type": "markdown",
      "id": "429dca7a",
      "metadata": {
        "id": "429dca7a"
      },
      "source": [
        "### 3. Define prediction function"
      ]
    },
    {
      "cell_type": "code",
      "execution_count": 8,
      "id": "10a6a4dc",
      "metadata": {
        "id": "10a6a4dc"
      },
      "outputs": [],
      "source": [
        "client = AzureOpenAI()\n",
        "\n",
        "def predict(data: pd.DataFrame) -> list[str]:\n",
        "    predictions = []\n",
        "    prompt = mlflow.genai.load_prompt(\"prompts:/anshu-summarization-prompt/1\")\n",
        "\n",
        "    for _, row in data.iterrows():\n",
        "        # Fill in variables in the prompt template\n",
        "        content = prompt.format(sentences=row[\"inputs\"], num_sentences=1)\n",
        "        completion = client.chat.completions.create(\n",
        "            model=\"gpt-4.1-mini\",\n",
        "            messages=[{\"role\": \"user\", \"content\": content}],\n",
        "            temperature=0.1,\n",
        "        )\n",
        "        predictions.append(completion.choices[0].message.content)\n",
        "\n",
        "    return predictions"
      ]
    },
    {
      "cell_type": "markdown",
      "id": "c272a26d",
      "metadata": {
        "id": "c272a26d"
      },
      "source": [
        "### 4. Run Evaluation"
      ]
    },
    {
      "cell_type": "code",
      "execution_count": 9,
      "id": "2515fd55",
      "metadata": {
        "id": "2515fd55",
        "outputId": "03417476-8cb1-4bfc-9122-1e248d90de55",
        "colab": {
          "base_uri": "https://localhost:8080/"
        }
      },
      "outputs": [
        {
          "output_type": "execute_result",
          "data": {
            "text/plain": [
              "<Experiment: artifact_location='mlflow-artifacts:/948223517203568369', creation_time=1757166166551, experiment_id='948223517203568369', last_update_time=1757166166551, lifecycle_stage='active', name='azure-prompt-evaluation', tags={}>"
            ]
          },
          "metadata": {},
          "execution_count": 9
        }
      ],
      "source": [
        "mlflow.set_experiment('azure-prompt-evaluation')"
      ]
    },
    {
      "cell_type": "code",
      "execution_count": 14,
      "id": "08231ba3",
      "metadata": {
        "id": "08231ba3",
        "outputId": "46235632-e0bf-43d2-c7d0-72c1b960ff7c",
        "colab": {
          "base_uri": "https://localhost:8080/"
        }
      },
      "outputs": [
        {
          "output_type": "execute_result",
          "data": {
            "text/plain": [
              "False"
            ]
          },
          "metadata": {},
          "execution_count": 14
        }
      ],
      "source": [
        "from dotenv import load_dotenv\n",
        "load_dotenv()"
      ]
    },
    {
      "cell_type": "code",
      "execution_count": 15,
      "id": "901e013f",
      "metadata": {
        "id": "901e013f",
        "outputId": "00ccad4d-05ac-4db2-e543-6575910a98be",
        "colab": {
          "base_uri": "https://localhost:8080/",
          "height": 769,
          "referenced_widgets": [
            "951b3343fb48471aa6fd3445e5df340d",
            "74d208565dd249daa7e5ea83ed0d4ec2",
            "3ba76897d42c46ffbc2aa3197fbdc311",
            "6aa5a70a7f754e29b9c1cc6969e67e59",
            "f68e9ba9212441f58cdd102b26e9dcb8",
            "139a794ca10142adb9db749bfa4faca0",
            "972daf8001bd4614a728683d73dca2d5",
            "8c9d0c00372242baa66baecbaded3152",
            "19dd5fee97424433836cb3ab25e2bccc",
            "206aa15fca984fa5a58d105667be8b60",
            "2a34edce47294cc5ab7bb89ce33e5b0a",
            "ed2ff45029254a8e99d5fbac80892962",
            "0916c2c8bac54b0a8158ea68e7dd2434",
            "4393ca42efc9457a9fdf0bfbd98f5eea",
            "ee95d1c959de429a8967950d3ccce96f",
            "738493558203467da8faca73c15ffcba",
            "08334bbbd6064bdc8f829c632840877f",
            "dad05d8079044b21b381c3b7fb550068",
            "d985ec38f1354c32b8b1525bc0f93658",
            "d9097efe9a1e4196b0c83194bb34d8d7",
            "2f5abdc3a9ee4affbba6e9ca04fe1b97",
            "4abedc6e5290415cb80948f3c5a24f5a",
            "05e478a3f90f453d86e9afa626cee077",
            "1a8f1b7a49274d7f91d8e1afa2b8b232",
            "d383f8d1061945da9b316ea5b61e5f5b",
            "c80ea4cbf05c4d27ac0457e38d1c7ecf",
            "3d53e2d217974ea69cacdb5eb626e153",
            "9a63f779a7b7453eb8a9d05dc6f8e099",
            "15021d7a0a2a4b99afb682b0f7bb9dd5",
            "bde892e51f0a4206ae9879506f585be8",
            "1ee407bcee5d4c4a89cf2f0825c516aa",
            "15070bbbc9bd4f739b5f4eba60332e43",
            "3674d0bc3b454f839c6f21031ba88275",
            "100a84dd4f4e4a8db8194177f4cc2002",
            "9a96c1cc12c24b99beb61ec4b55643f0",
            "5c68ffd6b05b4aee8b9e0a88e248b629",
            "6bc47d769ac8412bb8beac997e511fe8",
            "95d09d8fb5f14bc2966872536a258b8d",
            "75d9dae505f047e5bdd83f65fb0b9f8c",
            "dc5d474409344b8f84bf64c5110b808e",
            "7b0d6bade10d49b9894cd526f29e018e",
            "68d5ba55ae0f42ff83880623b19c7cb1",
            "5a3091706b47401fbbd7ac52ba29f4dd",
            "915224240e5540a5ba4f0f18d97d417a"
          ]
        }
      },
      "outputs": [
        {
          "output_type": "stream",
          "name": "stderr",
          "text": [
            "2025/09/19 10:54:07 INFO mlflow.models.evaluation.evaluators.default: Computing model predictions.\n",
            "2025/09/19 10:54:15 INFO mlflow.models.evaluation.default_evaluator: Testing metrics on first row...\n"
          ]
        },
        {
          "output_type": "display_data",
          "data": {
            "text/plain": [
              "  0%|          | 0/1 [00:00<?, ?it/s]"
            ],
            "application/vnd.jupyter.widget-view+json": {
              "version_major": 2,
              "version_minor": 0,
              "model_id": "951b3343fb48471aa6fd3445e5df340d"
            }
          },
          "metadata": {}
        },
        {
          "output_type": "display_data",
          "data": {
            "text/plain": [
              "  0%|          | 0/1 [00:00<?, ?it/s]"
            ],
            "application/vnd.jupyter.widget-view+json": {
              "version_major": 2,
              "version_minor": 0,
              "model_id": "ed2ff45029254a8e99d5fbac80892962"
            }
          },
          "metadata": {}
        },
        {
          "output_type": "display_data",
          "data": {
            "text/plain": [
              "  0%|          | 0/5 [00:00<?, ?it/s]"
            ],
            "application/vnd.jupyter.widget-view+json": {
              "version_major": 2,
              "version_minor": 0,
              "model_id": "05e478a3f90f453d86e9afa626cee077"
            }
          },
          "metadata": {}
        },
        {
          "output_type": "display_data",
          "data": {
            "text/plain": [
              "  0%|          | 0/5 [00:00<?, ?it/s]"
            ],
            "application/vnd.jupyter.widget-view+json": {
              "version_major": 2,
              "version_minor": 0,
              "model_id": "100a84dd4f4e4a8db8194177f4cc2002"
            }
          },
          "metadata": {}
        },
        {
          "output_type": "stream",
          "name": "stdout",
          "text": [
            "🏃 View run anshu-prompt-evaluation at: http://20.75.92.162:5000/#/experiments/948223517203568369/runs/6bb0ea2af44645918082c586c112b93d\n",
            "🧪 View experiment at: http://20.75.92.162:5000/#/experiments/948223517203568369\n"
          ]
        },
        {
          "output_type": "display_data",
          "data": {
            "text/plain": [
              "[Trace(trace_id=tr-37a5e4b2419d9385f6eaebfa7237df95), Trace(trace_id=tr-3d8a33081238901d91830e03d69dcb81), Trace(trace_id=tr-ac66355ac9d575e0835f192f1834555b), Trace(trace_id=tr-bfcd3e825c81cc1541b8aa37fa2e6cf9), Trace(trace_id=tr-05b03b6f9cdf1003db1d713cb3b9d9e2)]"
            ],
            "text/html": [
              "\n",
              "<div>\n",
              "  <style scoped>\n",
              "  button {\n",
              "    border: none;\n",
              "    border-radius: 4px;\n",
              "    background-color: rgb(34, 114, 180);\n",
              "    font-family: -apple-system, \"system-ui\", \"Segoe UI\", Roboto, \"Helvetica Neue\", Arial;\n",
              "    font-size: 13px;\n",
              "    color: white;\n",
              "    margin-top: 8px;\n",
              "    margin-bottom: 8px;\n",
              "    padding: 8px 16px;\n",
              "    cursor: pointer;\n",
              "  }\n",
              "  button:hover {\n",
              "    background-color: rgb(66, 153, 224);\n",
              "  }\n",
              "  </style>\n",
              "  <button\n",
              "    onclick=\"\n",
              "        const display = this.nextElementSibling.style.display;\n",
              "        const isCollapsed = display === 'none';\n",
              "        this.nextElementSibling.style.display = isCollapsed ? null : 'none';\n",
              "\n",
              "        const verb = isCollapsed ? 'Collapse' : 'Expand';\n",
              "        this.innerText = `${verb} MLflow Trace`;\n",
              "    \"\n",
              "  >Collapse MLflow Trace</button>\n",
              "  <iframe\n",
              "    id=\"trace-renderer\"\n",
              "    style=\"width: 100%; height: 500px; border: none; resize: vertical;\"\n",
              "    src=\"http://20.75.92.162:5000/static-files/lib/notebook-trace-renderer/index.html?trace_id=tr-37a5e4b2419d9385f6eaebfa7237df95&amp;experiment_id=948223517203568369&amp;trace_id=tr-3d8a33081238901d91830e03d69dcb81&amp;experiment_id=948223517203568369&amp;trace_id=tr-ac66355ac9d575e0835f192f1834555b&amp;experiment_id=948223517203568369&amp;trace_id=tr-bfcd3e825c81cc1541b8aa37fa2e6cf9&amp;experiment_id=948223517203568369&amp;trace_id=tr-05b03b6f9cdf1003db1d713cb3b9d9e2&amp;experiment_id=948223517203568369&amp;version=3.4.0\"\n",
              "  />\n",
              "</div>\n"
            ]
          },
          "metadata": {}
        }
      ],
      "source": [
        "mlflow.openai.autolog()\n",
        "with mlflow.start_run(run_name=\"anshu-prompt-evaluation\"):\n",
        "    mlflow.log_param(\"model\", \"gpt-4.1-mini\")\n",
        "    mlflow.log_param(\"temperature\", 0.1)\n",
        "\n",
        "    results = mlflow.evaluate(\n",
        "        model=predict,\n",
        "        data=eval_data,\n",
        "        targets=\"targets\",\n",
        "        extra_metrics=[\n",
        "            mlflow.metrics.latency(), # operational metric\n",
        "            mlflow.metrics.genai.answer_relevance(model=\"openai:/gpt-4.1-mini\"), # LLM as a judge,\n",
        "            mlflow.metrics.genai.answer_similarity(model=\"openai:/gpt-4.1-mini\"), # LLM as a judge, requires targets/ground truth\n",
        "            mlflow.metrics.ari_grade_level(), # Readability metric, no need for targets\n",
        "            mlflow.metrics.flesch_kincaid_grade_level(), # Readability metric, no need for targets\n",
        "        ],\n",
        "\n",
        "    )"
      ]
    },
    {
      "cell_type": "markdown",
      "id": "1391af1b",
      "metadata": {
        "id": "1391af1b"
      },
      "source": [
        "### 5. View Results\n",
        "<img src=\"https://mlflow.org/docs/latest/assets/images/prompt-evaluation-result-7c106f17187fdc750439725d086c389b.png\" alt=\"MLflow LLM Evaluation UI\" width=\"800\">"
      ]
    },
    {
      "cell_type": "markdown",
      "id": "7d3a0cb5",
      "metadata": {
        "id": "7d3a0cb5"
      },
      "source": [
        "<img src = \"https://mlflow.org/docs/latest/assets/images/prompt-evaluation-chart-8a93612e37184b8279c699fd6640013d.png\" >"
      ]
    },
    {
      "cell_type": "markdown",
      "id": "2tRzRedvhpZd",
      "metadata": {
        "id": "2tRzRedvhpZd"
      },
      "source": [
        "## Prompt Optimization"
      ]
    },
    {
      "cell_type": "markdown",
      "id": "86262f68",
      "metadata": {
        "id": "86262f68"
      },
      "source": [
        "## Evn variable configs --> .env\n",
        "AZURE_API_KEY=\"xxxxxxxxxxxxxxxx\"\n",
        "\n",
        "AZURE_API_BASE=\"https://xxxxxxxxxxxxxrosoft.com/\"\n",
        "\n",
        "AZURE_API_VERSION=\"2024-08-01-preview\"\n",
        "\n",
        "litellm: https://docs.litellm.ai/docs/providers/azure/"
      ]
    },
    {
      "cell_type": "code",
      "execution_count": 17,
      "id": "0twXe4Gthxbs",
      "metadata": {
        "id": "0twXe4Gthxbs"
      },
      "outputs": [],
      "source": [
        "import os\n",
        "from typing import Any\n",
        "import mlflow\n",
        "from mlflow.genai.scorers import scorer\n",
        "from mlflow.genai.optimize import OptimizerConfig, LLMParams"
      ]
    },
    {
      "cell_type": "code",
      "source": [
        "os.environ['AZURE_API_BASE'] = \"https://xxxx.openai.azure.com/\"\n",
        "os.environ['AZURE_API_KEY'] = \"\"\n",
        "os.environ['AZURE_API_VERSION'] = \"2025-03-01-preview\"\n"
      ],
      "metadata": {
        "id": "B2AJvqgnn-xU"
      },
      "id": "B2AJvqgnn-xU",
      "execution_count": 16,
      "outputs": []
    },
    {
      "cell_type": "code",
      "execution_count": 18,
      "id": "tiJ1LvQ4h6X2",
      "metadata": {
        "id": "tiJ1LvQ4h6X2",
        "outputId": "6fc608d8-26e7-4905-a1d9-f3c16df3c24a",
        "colab": {
          "base_uri": "https://localhost:8080/"
        }
      },
      "outputs": [
        {
          "output_type": "stream",
          "name": "stderr",
          "text": [
            "2025/09/19 10:59:29 INFO mlflow.store.model_registry.abstract_store: Waiting up to 300 seconds for prompt version to finish creation. Prompt name: aaa-math10, version 1\n"
          ]
        }
      ],
      "source": [
        "# Register the initial prompt\n",
        "initial_template = \"\"\"\n",
        "Answer to this math question: {{question}}.\n",
        "Return the result in a JSON string in the format of {\"answer\": \"xxx\"}.\n",
        "\"\"\"\n",
        "\n",
        "prompt = mlflow.genai.register_prompt(\n",
        "    name=\"aaa-math10\",\n",
        "    template=initial_template,\n",
        ")\n"
      ]
    },
    {
      "cell_type": "code",
      "execution_count": 19,
      "id": "AlkSc7Oth0oU",
      "metadata": {
        "id": "AlkSc7Oth0oU"
      },
      "outputs": [],
      "source": [
        "\n",
        "# The data can be a list of dictionaries, a pandas DataFrame, or an mlflow.genai.EvaluationDataset\n",
        "# It needs to contain inputs and expectations where each row is a dictionary.\n",
        "train_data = [\n",
        "    {\n",
        "        \"inputs\": {\"question\": \"Given that $y=3$, evaluate $(1+y)^y$.\"},\n",
        "        \"expectations\": {\"answer\": \"64\"},\n",
        "    },\n",
        "    {\n",
        "        \"inputs\": {\n",
        "            \"question\": \"The midpoint of the line segment between $(x,y)$ and $(-9,1)$ is $(3,-5)$. Find $(x,y)$.\"\n",
        "        },\n",
        "        \"expectations\": {\"answer\": \"(15,-11)\"},\n",
        "    },\n",
        "    {\n",
        "        \"inputs\": {\n",
        "            \"question\": \"What is the value of $b$ if $5^b + 5^b + 5^b + 5^b + 5^b = 625^{(b-1)}$? Express your answer as a common fraction.\"\n",
        "        },\n",
        "        \"expectations\": {\"answer\": \"\\\\frac{5}{3}\"},\n",
        "    },\n",
        "    {\n",
        "        \"inputs\": {\"question\": \"Evaluate the expression $a^3\\\\cdot a^2$ if $a= 5$.\"},\n",
        "        \"expectations\": {\"answer\": \"3125\"},\n",
        "    },\n",
        "    {\n",
        "        \"inputs\": {\"question\": \"Evaluate $\\\\lceil 8.8 \\\\rceil+\\\\lceil -8.8 \\\\rceil$.\"},\n",
        "        \"expectations\": {\"answer\": \"17\"},\n",
        "    },\n",
        "]\n",
        "\n",
        "eval_data = [\n",
        "    {\n",
        "        \"inputs\": {\n",
        "            \"question\": \"The sum of 27 consecutive positive integers is $3^7$. What is their median?\"\n",
        "        },\n",
        "        \"expectations\": {\"answer\": \"81\"},\n",
        "    },\n",
        "    {\n",
        "        \"inputs\": {\"question\": \"What is the value of $x$ if $x^2 - 10x + 25 = 0$?\"},\n",
        "        \"expectations\": {\"answer\": \"5\"},\n",
        "    },\n",
        "    {\n",
        "        \"inputs\": {\n",
        "            \"question\": \"If $a\\\\ast b = 2a+5b-ab$, what is the value of $3\\\\ast10$?\"\n",
        "        },\n",
        "        \"expectations\": {\"answer\": \"26\"},\n",
        "    },\n",
        "    {\n",
        "        \"inputs\": {\n",
        "            \"question\": \"Given that $-4$ is a solution to $x^2 + bx -36 = 0$, what is the value of $b$?\"\n",
        "        },\n",
        "        \"expectations\": {\"answer\": \"-5\"},\n",
        "    },\n",
        "]\n"
      ]
    },
    {
      "cell_type": "code",
      "execution_count": 20,
      "id": "-DJ_KRZjh_6W",
      "metadata": {
        "id": "-DJ_KRZjh_6W"
      },
      "outputs": [],
      "source": [
        "\n",
        "# Define a custom scorer function to evaluate prompt performance with the @scorer decorator.\n",
        "# The scorer function for optimization can take inputs, outputs, and expectations.\n",
        "@scorer\n",
        "def exact_match(expectations: dict[str, Any], outputs: dict[str, Any]) -> bool:\n",
        "    return expectations[\"answer\"] == outputs[\"answer\"]\n",
        "\n"
      ]
    },
    {
      "cell_type": "code",
      "execution_count": 21,
      "id": "SWCkHV-DhAZX",
      "metadata": {
        "id": "SWCkHV-DhAZX",
        "outputId": "21391455-897c-4a83-e9e5-b940c5f276d6",
        "colab": {
          "base_uri": "https://localhost:8080/",
          "height": 765
        }
      },
      "outputs": [
        {
          "output_type": "stream",
          "name": "stderr",
          "text": [
            "2025/09/19 11:00:35 INFO mlflow.genai.optimize.base: 🚀 MLflow Run `a429fb518f144fd99e742fe4da715ed5` started for prompt optimization! Watch the run to track the optimization progress.\n",
            "2025/09/19 11:00:40 INFO mlflow.genai.optimize.optimizers.dspy_optimizer: 🎯 Starting prompt optimization for: prompts:/aaa-math10/1\n",
            "⏱️ This may take several minutes or longer depending on dataset size...\n",
            "📊 Training with 5 examples.\n",
            "2025/09/19 11:02:03 INFO mlflow.genai.optimize.optimizers.dspy_mipro_optimizer: Optimization complete! Score remained stable at: 50.0.\n",
            "2025/09/19 11:02:03 INFO mlflow.genai.optimize.optimizers.dspy_mipro_optimizer: 🎉 Optimization complete! Initial score: 0.0. Final score: 50.0.\n",
            "2025/09/19 11:02:03 INFO mlflow.store.model_registry.abstract_store: Waiting up to 300 seconds for prompt version to finish creation. Prompt name: aaa-math10, version 4\n"
          ]
        },
        {
          "output_type": "stream",
          "name": "stdout",
          "text": [
            "🏃 View run sneaky-trout-170 at: http://20.75.92.162:5000/#/experiments/948223517203568369/runs/a429fb518f144fd99e742fe4da715ed5\n",
            "🧪 View experiment at: http://20.75.92.162:5000/#/experiments/948223517203568369\n",
            "prompts:/aaa-math10/4\n"
          ]
        },
        {
          "output_type": "display_data",
          "data": {
            "text/plain": [
              "[Trace(trace_id=tr-c8bc1bbcf15252024aafeb3cd654b0df), Trace(trace_id=tr-fc1a2b5b484159fd41c3ff4204f095b5), Trace(trace_id=tr-d8983358899a35bfa2b78f3d49f21236), Trace(trace_id=tr-ee20a2ba7dcfe6c1ee9cf276fd9ef0ee), Trace(trace_id=tr-9efc029a148c9770664dbedd4b8e8d78), Trace(trace_id=tr-620682f618362f9c1c03a54ebe09b2c5), Trace(trace_id=tr-ad97d7ef1a6de2419fa2f552abd11c1a), Trace(trace_id=tr-044bd451ba72feee102aba252d1d57f4), Trace(trace_id=tr-aa0c373e8094065ddfcb44cd774a6bbc), Trace(trace_id=tr-e3d13f0d6920f10eb689f8e657944974)]"
            ],
            "text/html": [
              "\n",
              "<div>\n",
              "  <style scoped>\n",
              "  button {\n",
              "    border: none;\n",
              "    border-radius: 4px;\n",
              "    background-color: rgb(34, 114, 180);\n",
              "    font-family: -apple-system, \"system-ui\", \"Segoe UI\", Roboto, \"Helvetica Neue\", Arial;\n",
              "    font-size: 13px;\n",
              "    color: white;\n",
              "    margin-top: 8px;\n",
              "    margin-bottom: 8px;\n",
              "    padding: 8px 16px;\n",
              "    cursor: pointer;\n",
              "  }\n",
              "  button:hover {\n",
              "    background-color: rgb(66, 153, 224);\n",
              "  }\n",
              "  </style>\n",
              "  <button\n",
              "    onclick=\"\n",
              "        const display = this.nextElementSibling.style.display;\n",
              "        const isCollapsed = display === 'none';\n",
              "        this.nextElementSibling.style.display = isCollapsed ? null : 'none';\n",
              "\n",
              "        const verb = isCollapsed ? 'Collapse' : 'Expand';\n",
              "        this.innerText = `${verb} MLflow Trace`;\n",
              "    \"\n",
              "  >Collapse MLflow Trace</button>\n",
              "  <iframe\n",
              "    id=\"trace-renderer\"\n",
              "    style=\"width: 100%; height: 500px; border: none; resize: vertical;\"\n",
              "    src=\"http://20.75.92.162:5000/static-files/lib/notebook-trace-renderer/index.html?trace_id=tr-c8bc1bbcf15252024aafeb3cd654b0df&amp;experiment_id=948223517203568369&amp;trace_id=tr-fc1a2b5b484159fd41c3ff4204f095b5&amp;experiment_id=948223517203568369&amp;trace_id=tr-d8983358899a35bfa2b78f3d49f21236&amp;experiment_id=948223517203568369&amp;trace_id=tr-ee20a2ba7dcfe6c1ee9cf276fd9ef0ee&amp;experiment_id=948223517203568369&amp;trace_id=tr-9efc029a148c9770664dbedd4b8e8d78&amp;experiment_id=948223517203568369&amp;trace_id=tr-620682f618362f9c1c03a54ebe09b2c5&amp;experiment_id=948223517203568369&amp;trace_id=tr-ad97d7ef1a6de2419fa2f552abd11c1a&amp;experiment_id=948223517203568369&amp;trace_id=tr-044bd451ba72feee102aba252d1d57f4&amp;experiment_id=948223517203568369&amp;trace_id=tr-aa0c373e8094065ddfcb44cd774a6bbc&amp;experiment_id=948223517203568369&amp;trace_id=tr-e3d13f0d6920f10eb689f8e657944974&amp;experiment_id=948223517203568369&amp;version=3.4.0\"\n",
              "  />\n",
              "</div>\n"
            ]
          },
          "metadata": {}
        }
      ],
      "source": [
        "# Optimize the prompt\n",
        "result = mlflow.genai.optimize_prompt(\n",
        "    target_llm_params=LLMParams(model_name=\"azure/gpt-4.1-mini\"),\n",
        "    prompt=prompt,\n",
        "    train_data=train_data,\n",
        "    eval_data=eval_data,\n",
        "    scorers=[exact_match],\n",
        "    optimizer_config=OptimizerConfig(\n",
        "        num_instruction_candidates=8,\n",
        "        max_few_show_examples=2,\n",
        "    ),\n",
        ")\n",
        "\n",
        "# The optimized prompt is automatically registered as a new version\n",
        "print(result.prompt.uri)"
      ]
    },
    {
      "cell_type": "code",
      "execution_count": null,
      "id": "wekHPbjOiPvI",
      "metadata": {
        "id": "wekHPbjOiPvI"
      },
      "outputs": [],
      "source": []
    },
    {
      "cell_type": "markdown",
      "id": "7204bd83",
      "metadata": {
        "id": "7204bd83"
      },
      "source": [
        "## Thank YOu"
      ]
    }
  ],
  "metadata": {
    "colab": {
      "provenance": [],
      "include_colab_link": true
    },
    "kernelspec": {
      "display_name": "genai",
      "language": "python",
      "name": "python3"
    },
    "language_info": {
      "codemirror_mode": {
        "name": "ipython",
        "version": 3
      },
      "file_extension": ".py",
      "mimetype": "text/x-python",
      "name": "python",
      "nbconvert_exporter": "python",
      "pygments_lexer": "ipython3",
      "version": "3.12.3"
    },
    "widgets": {
      "application/vnd.jupyter.widget-state+json": {
        "951b3343fb48471aa6fd3445e5df340d": {
          "model_module": "@jupyter-widgets/controls",
          "model_name": "HBoxModel",
          "model_module_version": "1.5.0",
          "state": {
            "_dom_classes": [],
            "_model_module": "@jupyter-widgets/controls",
            "_model_module_version": "1.5.0",
            "_model_name": "HBoxModel",
            "_view_count": null,
            "_view_module": "@jupyter-widgets/controls",
            "_view_module_version": "1.5.0",
            "_view_name": "HBoxView",
            "box_style": "",
            "children": [
              "IPY_MODEL_74d208565dd249daa7e5ea83ed0d4ec2",
              "IPY_MODEL_3ba76897d42c46ffbc2aa3197fbdc311",
              "IPY_MODEL_6aa5a70a7f754e29b9c1cc6969e67e59"
            ],
            "layout": "IPY_MODEL_f68e9ba9212441f58cdd102b26e9dcb8"
          }
        },
        "74d208565dd249daa7e5ea83ed0d4ec2": {
          "model_module": "@jupyter-widgets/controls",
          "model_name": "HTMLModel",
          "model_module_version": "1.5.0",
          "state": {
            "_dom_classes": [],
            "_model_module": "@jupyter-widgets/controls",
            "_model_module_version": "1.5.0",
            "_model_name": "HTMLModel",
            "_view_count": null,
            "_view_module": "@jupyter-widgets/controls",
            "_view_module_version": "1.5.0",
            "_view_name": "HTMLView",
            "description": "",
            "description_tooltip": null,
            "layout": "IPY_MODEL_139a794ca10142adb9db749bfa4faca0",
            "placeholder": "​",
            "style": "IPY_MODEL_972daf8001bd4614a728683d73dca2d5",
            "value": "100%"
          }
        },
        "3ba76897d42c46ffbc2aa3197fbdc311": {
          "model_module": "@jupyter-widgets/controls",
          "model_name": "FloatProgressModel",
          "model_module_version": "1.5.0",
          "state": {
            "_dom_classes": [],
            "_model_module": "@jupyter-widgets/controls",
            "_model_module_version": "1.5.0",
            "_model_name": "FloatProgressModel",
            "_view_count": null,
            "_view_module": "@jupyter-widgets/controls",
            "_view_module_version": "1.5.0",
            "_view_name": "ProgressView",
            "bar_style": "success",
            "description": "",
            "description_tooltip": null,
            "layout": "IPY_MODEL_8c9d0c00372242baa66baecbaded3152",
            "max": 1,
            "min": 0,
            "orientation": "horizontal",
            "style": "IPY_MODEL_19dd5fee97424433836cb3ab25e2bccc",
            "value": 1
          }
        },
        "6aa5a70a7f754e29b9c1cc6969e67e59": {
          "model_module": "@jupyter-widgets/controls",
          "model_name": "HTMLModel",
          "model_module_version": "1.5.0",
          "state": {
            "_dom_classes": [],
            "_model_module": "@jupyter-widgets/controls",
            "_model_module_version": "1.5.0",
            "_model_name": "HTMLModel",
            "_view_count": null,
            "_view_module": "@jupyter-widgets/controls",
            "_view_module_version": "1.5.0",
            "_view_name": "HTMLView",
            "description": "",
            "description_tooltip": null,
            "layout": "IPY_MODEL_206aa15fca984fa5a58d105667be8b60",
            "placeholder": "​",
            "style": "IPY_MODEL_2a34edce47294cc5ab7bb89ce33e5b0a",
            "value": " 1/1 [00:01&lt;00:00,  1.48s/it]"
          }
        },
        "f68e9ba9212441f58cdd102b26e9dcb8": {
          "model_module": "@jupyter-widgets/base",
          "model_name": "LayoutModel",
          "model_module_version": "1.2.0",
          "state": {
            "_model_module": "@jupyter-widgets/base",
            "_model_module_version": "1.2.0",
            "_model_name": "LayoutModel",
            "_view_count": null,
            "_view_module": "@jupyter-widgets/base",
            "_view_module_version": "1.2.0",
            "_view_name": "LayoutView",
            "align_content": null,
            "align_items": null,
            "align_self": null,
            "border": null,
            "bottom": null,
            "display": null,
            "flex": null,
            "flex_flow": null,
            "grid_area": null,
            "grid_auto_columns": null,
            "grid_auto_flow": null,
            "grid_auto_rows": null,
            "grid_column": null,
            "grid_gap": null,
            "grid_row": null,
            "grid_template_areas": null,
            "grid_template_columns": null,
            "grid_template_rows": null,
            "height": null,
            "justify_content": null,
            "justify_items": null,
            "left": null,
            "margin": null,
            "max_height": null,
            "max_width": null,
            "min_height": null,
            "min_width": null,
            "object_fit": null,
            "object_position": null,
            "order": null,
            "overflow": null,
            "overflow_x": null,
            "overflow_y": null,
            "padding": null,
            "right": null,
            "top": null,
            "visibility": null,
            "width": null
          }
        },
        "139a794ca10142adb9db749bfa4faca0": {
          "model_module": "@jupyter-widgets/base",
          "model_name": "LayoutModel",
          "model_module_version": "1.2.0",
          "state": {
            "_model_module": "@jupyter-widgets/base",
            "_model_module_version": "1.2.0",
            "_model_name": "LayoutModel",
            "_view_count": null,
            "_view_module": "@jupyter-widgets/base",
            "_view_module_version": "1.2.0",
            "_view_name": "LayoutView",
            "align_content": null,
            "align_items": null,
            "align_self": null,
            "border": null,
            "bottom": null,
            "display": null,
            "flex": null,
            "flex_flow": null,
            "grid_area": null,
            "grid_auto_columns": null,
            "grid_auto_flow": null,
            "grid_auto_rows": null,
            "grid_column": null,
            "grid_gap": null,
            "grid_row": null,
            "grid_template_areas": null,
            "grid_template_columns": null,
            "grid_template_rows": null,
            "height": null,
            "justify_content": null,
            "justify_items": null,
            "left": null,
            "margin": null,
            "max_height": null,
            "max_width": null,
            "min_height": null,
            "min_width": null,
            "object_fit": null,
            "object_position": null,
            "order": null,
            "overflow": null,
            "overflow_x": null,
            "overflow_y": null,
            "padding": null,
            "right": null,
            "top": null,
            "visibility": null,
            "width": null
          }
        },
        "972daf8001bd4614a728683d73dca2d5": {
          "model_module": "@jupyter-widgets/controls",
          "model_name": "DescriptionStyleModel",
          "model_module_version": "1.5.0",
          "state": {
            "_model_module": "@jupyter-widgets/controls",
            "_model_module_version": "1.5.0",
            "_model_name": "DescriptionStyleModel",
            "_view_count": null,
            "_view_module": "@jupyter-widgets/base",
            "_view_module_version": "1.2.0",
            "_view_name": "StyleView",
            "description_width": ""
          }
        },
        "8c9d0c00372242baa66baecbaded3152": {
          "model_module": "@jupyter-widgets/base",
          "model_name": "LayoutModel",
          "model_module_version": "1.2.0",
          "state": {
            "_model_module": "@jupyter-widgets/base",
            "_model_module_version": "1.2.0",
            "_model_name": "LayoutModel",
            "_view_count": null,
            "_view_module": "@jupyter-widgets/base",
            "_view_module_version": "1.2.0",
            "_view_name": "LayoutView",
            "align_content": null,
            "align_items": null,
            "align_self": null,
            "border": null,
            "bottom": null,
            "display": null,
            "flex": null,
            "flex_flow": null,
            "grid_area": null,
            "grid_auto_columns": null,
            "grid_auto_flow": null,
            "grid_auto_rows": null,
            "grid_column": null,
            "grid_gap": null,
            "grid_row": null,
            "grid_template_areas": null,
            "grid_template_columns": null,
            "grid_template_rows": null,
            "height": null,
            "justify_content": null,
            "justify_items": null,
            "left": null,
            "margin": null,
            "max_height": null,
            "max_width": null,
            "min_height": null,
            "min_width": null,
            "object_fit": null,
            "object_position": null,
            "order": null,
            "overflow": null,
            "overflow_x": null,
            "overflow_y": null,
            "padding": null,
            "right": null,
            "top": null,
            "visibility": null,
            "width": null
          }
        },
        "19dd5fee97424433836cb3ab25e2bccc": {
          "model_module": "@jupyter-widgets/controls",
          "model_name": "ProgressStyleModel",
          "model_module_version": "1.5.0",
          "state": {
            "_model_module": "@jupyter-widgets/controls",
            "_model_module_version": "1.5.0",
            "_model_name": "ProgressStyleModel",
            "_view_count": null,
            "_view_module": "@jupyter-widgets/base",
            "_view_module_version": "1.2.0",
            "_view_name": "StyleView",
            "bar_color": null,
            "description_width": ""
          }
        },
        "206aa15fca984fa5a58d105667be8b60": {
          "model_module": "@jupyter-widgets/base",
          "model_name": "LayoutModel",
          "model_module_version": "1.2.0",
          "state": {
            "_model_module": "@jupyter-widgets/base",
            "_model_module_version": "1.2.0",
            "_model_name": "LayoutModel",
            "_view_count": null,
            "_view_module": "@jupyter-widgets/base",
            "_view_module_version": "1.2.0",
            "_view_name": "LayoutView",
            "align_content": null,
            "align_items": null,
            "align_self": null,
            "border": null,
            "bottom": null,
            "display": null,
            "flex": null,
            "flex_flow": null,
            "grid_area": null,
            "grid_auto_columns": null,
            "grid_auto_flow": null,
            "grid_auto_rows": null,
            "grid_column": null,
            "grid_gap": null,
            "grid_row": null,
            "grid_template_areas": null,
            "grid_template_columns": null,
            "grid_template_rows": null,
            "height": null,
            "justify_content": null,
            "justify_items": null,
            "left": null,
            "margin": null,
            "max_height": null,
            "max_width": null,
            "min_height": null,
            "min_width": null,
            "object_fit": null,
            "object_position": null,
            "order": null,
            "overflow": null,
            "overflow_x": null,
            "overflow_y": null,
            "padding": null,
            "right": null,
            "top": null,
            "visibility": null,
            "width": null
          }
        },
        "2a34edce47294cc5ab7bb89ce33e5b0a": {
          "model_module": "@jupyter-widgets/controls",
          "model_name": "DescriptionStyleModel",
          "model_module_version": "1.5.0",
          "state": {
            "_model_module": "@jupyter-widgets/controls",
            "_model_module_version": "1.5.0",
            "_model_name": "DescriptionStyleModel",
            "_view_count": null,
            "_view_module": "@jupyter-widgets/base",
            "_view_module_version": "1.2.0",
            "_view_name": "StyleView",
            "description_width": ""
          }
        },
        "ed2ff45029254a8e99d5fbac80892962": {
          "model_module": "@jupyter-widgets/controls",
          "model_name": "HBoxModel",
          "model_module_version": "1.5.0",
          "state": {
            "_dom_classes": [],
            "_model_module": "@jupyter-widgets/controls",
            "_model_module_version": "1.5.0",
            "_model_name": "HBoxModel",
            "_view_count": null,
            "_view_module": "@jupyter-widgets/controls",
            "_view_module_version": "1.5.0",
            "_view_name": "HBoxView",
            "box_style": "",
            "children": [
              "IPY_MODEL_0916c2c8bac54b0a8158ea68e7dd2434",
              "IPY_MODEL_4393ca42efc9457a9fdf0bfbd98f5eea",
              "IPY_MODEL_ee95d1c959de429a8967950d3ccce96f"
            ],
            "layout": "IPY_MODEL_738493558203467da8faca73c15ffcba"
          }
        },
        "0916c2c8bac54b0a8158ea68e7dd2434": {
          "model_module": "@jupyter-widgets/controls",
          "model_name": "HTMLModel",
          "model_module_version": "1.5.0",
          "state": {
            "_dom_classes": [],
            "_model_module": "@jupyter-widgets/controls",
            "_model_module_version": "1.5.0",
            "_model_name": "HTMLModel",
            "_view_count": null,
            "_view_module": "@jupyter-widgets/controls",
            "_view_module_version": "1.5.0",
            "_view_name": "HTMLView",
            "description": "",
            "description_tooltip": null,
            "layout": "IPY_MODEL_08334bbbd6064bdc8f829c632840877f",
            "placeholder": "​",
            "style": "IPY_MODEL_dad05d8079044b21b381c3b7fb550068",
            "value": "100%"
          }
        },
        "4393ca42efc9457a9fdf0bfbd98f5eea": {
          "model_module": "@jupyter-widgets/controls",
          "model_name": "FloatProgressModel",
          "model_module_version": "1.5.0",
          "state": {
            "_dom_classes": [],
            "_model_module": "@jupyter-widgets/controls",
            "_model_module_version": "1.5.0",
            "_model_name": "FloatProgressModel",
            "_view_count": null,
            "_view_module": "@jupyter-widgets/controls",
            "_view_module_version": "1.5.0",
            "_view_name": "ProgressView",
            "bar_style": "success",
            "description": "",
            "description_tooltip": null,
            "layout": "IPY_MODEL_d985ec38f1354c32b8b1525bc0f93658",
            "max": 1,
            "min": 0,
            "orientation": "horizontal",
            "style": "IPY_MODEL_d9097efe9a1e4196b0c83194bb34d8d7",
            "value": 1
          }
        },
        "ee95d1c959de429a8967950d3ccce96f": {
          "model_module": "@jupyter-widgets/controls",
          "model_name": "HTMLModel",
          "model_module_version": "1.5.0",
          "state": {
            "_dom_classes": [],
            "_model_module": "@jupyter-widgets/controls",
            "_model_module_version": "1.5.0",
            "_model_name": "HTMLModel",
            "_view_count": null,
            "_view_module": "@jupyter-widgets/controls",
            "_view_module_version": "1.5.0",
            "_view_name": "HTMLView",
            "description": "",
            "description_tooltip": null,
            "layout": "IPY_MODEL_2f5abdc3a9ee4affbba6e9ca04fe1b97",
            "placeholder": "​",
            "style": "IPY_MODEL_4abedc6e5290415cb80948f3c5a24f5a",
            "value": " 1/1 [00:01&lt;00:00,  1.73s/it]"
          }
        },
        "738493558203467da8faca73c15ffcba": {
          "model_module": "@jupyter-widgets/base",
          "model_name": "LayoutModel",
          "model_module_version": "1.2.0",
          "state": {
            "_model_module": "@jupyter-widgets/base",
            "_model_module_version": "1.2.0",
            "_model_name": "LayoutModel",
            "_view_count": null,
            "_view_module": "@jupyter-widgets/base",
            "_view_module_version": "1.2.0",
            "_view_name": "LayoutView",
            "align_content": null,
            "align_items": null,
            "align_self": null,
            "border": null,
            "bottom": null,
            "display": null,
            "flex": null,
            "flex_flow": null,
            "grid_area": null,
            "grid_auto_columns": null,
            "grid_auto_flow": null,
            "grid_auto_rows": null,
            "grid_column": null,
            "grid_gap": null,
            "grid_row": null,
            "grid_template_areas": null,
            "grid_template_columns": null,
            "grid_template_rows": null,
            "height": null,
            "justify_content": null,
            "justify_items": null,
            "left": null,
            "margin": null,
            "max_height": null,
            "max_width": null,
            "min_height": null,
            "min_width": null,
            "object_fit": null,
            "object_position": null,
            "order": null,
            "overflow": null,
            "overflow_x": null,
            "overflow_y": null,
            "padding": null,
            "right": null,
            "top": null,
            "visibility": null,
            "width": null
          }
        },
        "08334bbbd6064bdc8f829c632840877f": {
          "model_module": "@jupyter-widgets/base",
          "model_name": "LayoutModel",
          "model_module_version": "1.2.0",
          "state": {
            "_model_module": "@jupyter-widgets/base",
            "_model_module_version": "1.2.0",
            "_model_name": "LayoutModel",
            "_view_count": null,
            "_view_module": "@jupyter-widgets/base",
            "_view_module_version": "1.2.0",
            "_view_name": "LayoutView",
            "align_content": null,
            "align_items": null,
            "align_self": null,
            "border": null,
            "bottom": null,
            "display": null,
            "flex": null,
            "flex_flow": null,
            "grid_area": null,
            "grid_auto_columns": null,
            "grid_auto_flow": null,
            "grid_auto_rows": null,
            "grid_column": null,
            "grid_gap": null,
            "grid_row": null,
            "grid_template_areas": null,
            "grid_template_columns": null,
            "grid_template_rows": null,
            "height": null,
            "justify_content": null,
            "justify_items": null,
            "left": null,
            "margin": null,
            "max_height": null,
            "max_width": null,
            "min_height": null,
            "min_width": null,
            "object_fit": null,
            "object_position": null,
            "order": null,
            "overflow": null,
            "overflow_x": null,
            "overflow_y": null,
            "padding": null,
            "right": null,
            "top": null,
            "visibility": null,
            "width": null
          }
        },
        "dad05d8079044b21b381c3b7fb550068": {
          "model_module": "@jupyter-widgets/controls",
          "model_name": "DescriptionStyleModel",
          "model_module_version": "1.5.0",
          "state": {
            "_model_module": "@jupyter-widgets/controls",
            "_model_module_version": "1.5.0",
            "_model_name": "DescriptionStyleModel",
            "_view_count": null,
            "_view_module": "@jupyter-widgets/base",
            "_view_module_version": "1.2.0",
            "_view_name": "StyleView",
            "description_width": ""
          }
        },
        "d985ec38f1354c32b8b1525bc0f93658": {
          "model_module": "@jupyter-widgets/base",
          "model_name": "LayoutModel",
          "model_module_version": "1.2.0",
          "state": {
            "_model_module": "@jupyter-widgets/base",
            "_model_module_version": "1.2.0",
            "_model_name": "LayoutModel",
            "_view_count": null,
            "_view_module": "@jupyter-widgets/base",
            "_view_module_version": "1.2.0",
            "_view_name": "LayoutView",
            "align_content": null,
            "align_items": null,
            "align_self": null,
            "border": null,
            "bottom": null,
            "display": null,
            "flex": null,
            "flex_flow": null,
            "grid_area": null,
            "grid_auto_columns": null,
            "grid_auto_flow": null,
            "grid_auto_rows": null,
            "grid_column": null,
            "grid_gap": null,
            "grid_row": null,
            "grid_template_areas": null,
            "grid_template_columns": null,
            "grid_template_rows": null,
            "height": null,
            "justify_content": null,
            "justify_items": null,
            "left": null,
            "margin": null,
            "max_height": null,
            "max_width": null,
            "min_height": null,
            "min_width": null,
            "object_fit": null,
            "object_position": null,
            "order": null,
            "overflow": null,
            "overflow_x": null,
            "overflow_y": null,
            "padding": null,
            "right": null,
            "top": null,
            "visibility": null,
            "width": null
          }
        },
        "d9097efe9a1e4196b0c83194bb34d8d7": {
          "model_module": "@jupyter-widgets/controls",
          "model_name": "ProgressStyleModel",
          "model_module_version": "1.5.0",
          "state": {
            "_model_module": "@jupyter-widgets/controls",
            "_model_module_version": "1.5.0",
            "_model_name": "ProgressStyleModel",
            "_view_count": null,
            "_view_module": "@jupyter-widgets/base",
            "_view_module_version": "1.2.0",
            "_view_name": "StyleView",
            "bar_color": null,
            "description_width": ""
          }
        },
        "2f5abdc3a9ee4affbba6e9ca04fe1b97": {
          "model_module": "@jupyter-widgets/base",
          "model_name": "LayoutModel",
          "model_module_version": "1.2.0",
          "state": {
            "_model_module": "@jupyter-widgets/base",
            "_model_module_version": "1.2.0",
            "_model_name": "LayoutModel",
            "_view_count": null,
            "_view_module": "@jupyter-widgets/base",
            "_view_module_version": "1.2.0",
            "_view_name": "LayoutView",
            "align_content": null,
            "align_items": null,
            "align_self": null,
            "border": null,
            "bottom": null,
            "display": null,
            "flex": null,
            "flex_flow": null,
            "grid_area": null,
            "grid_auto_columns": null,
            "grid_auto_flow": null,
            "grid_auto_rows": null,
            "grid_column": null,
            "grid_gap": null,
            "grid_row": null,
            "grid_template_areas": null,
            "grid_template_columns": null,
            "grid_template_rows": null,
            "height": null,
            "justify_content": null,
            "justify_items": null,
            "left": null,
            "margin": null,
            "max_height": null,
            "max_width": null,
            "min_height": null,
            "min_width": null,
            "object_fit": null,
            "object_position": null,
            "order": null,
            "overflow": null,
            "overflow_x": null,
            "overflow_y": null,
            "padding": null,
            "right": null,
            "top": null,
            "visibility": null,
            "width": null
          }
        },
        "4abedc6e5290415cb80948f3c5a24f5a": {
          "model_module": "@jupyter-widgets/controls",
          "model_name": "DescriptionStyleModel",
          "model_module_version": "1.5.0",
          "state": {
            "_model_module": "@jupyter-widgets/controls",
            "_model_module_version": "1.5.0",
            "_model_name": "DescriptionStyleModel",
            "_view_count": null,
            "_view_module": "@jupyter-widgets/base",
            "_view_module_version": "1.2.0",
            "_view_name": "StyleView",
            "description_width": ""
          }
        },
        "05e478a3f90f453d86e9afa626cee077": {
          "model_module": "@jupyter-widgets/controls",
          "model_name": "HBoxModel",
          "model_module_version": "1.5.0",
          "state": {
            "_dom_classes": [],
            "_model_module": "@jupyter-widgets/controls",
            "_model_module_version": "1.5.0",
            "_model_name": "HBoxModel",
            "_view_count": null,
            "_view_module": "@jupyter-widgets/controls",
            "_view_module_version": "1.5.0",
            "_view_name": "HBoxView",
            "box_style": "",
            "children": [
              "IPY_MODEL_1a8f1b7a49274d7f91d8e1afa2b8b232",
              "IPY_MODEL_d383f8d1061945da9b316ea5b61e5f5b",
              "IPY_MODEL_c80ea4cbf05c4d27ac0457e38d1c7ecf"
            ],
            "layout": "IPY_MODEL_3d53e2d217974ea69cacdb5eb626e153"
          }
        },
        "1a8f1b7a49274d7f91d8e1afa2b8b232": {
          "model_module": "@jupyter-widgets/controls",
          "model_name": "HTMLModel",
          "model_module_version": "1.5.0",
          "state": {
            "_dom_classes": [],
            "_model_module": "@jupyter-widgets/controls",
            "_model_module_version": "1.5.0",
            "_model_name": "HTMLModel",
            "_view_count": null,
            "_view_module": "@jupyter-widgets/controls",
            "_view_module_version": "1.5.0",
            "_view_name": "HTMLView",
            "description": "",
            "description_tooltip": null,
            "layout": "IPY_MODEL_9a63f779a7b7453eb8a9d05dc6f8e099",
            "placeholder": "​",
            "style": "IPY_MODEL_15021d7a0a2a4b99afb682b0f7bb9dd5",
            "value": "100%"
          }
        },
        "d383f8d1061945da9b316ea5b61e5f5b": {
          "model_module": "@jupyter-widgets/controls",
          "model_name": "FloatProgressModel",
          "model_module_version": "1.5.0",
          "state": {
            "_dom_classes": [],
            "_model_module": "@jupyter-widgets/controls",
            "_model_module_version": "1.5.0",
            "_model_name": "FloatProgressModel",
            "_view_count": null,
            "_view_module": "@jupyter-widgets/controls",
            "_view_module_version": "1.5.0",
            "_view_name": "ProgressView",
            "bar_style": "success",
            "description": "",
            "description_tooltip": null,
            "layout": "IPY_MODEL_bde892e51f0a4206ae9879506f585be8",
            "max": 5,
            "min": 0,
            "orientation": "horizontal",
            "style": "IPY_MODEL_1ee407bcee5d4c4a89cf2f0825c516aa",
            "value": 5
          }
        },
        "c80ea4cbf05c4d27ac0457e38d1c7ecf": {
          "model_module": "@jupyter-widgets/controls",
          "model_name": "HTMLModel",
          "model_module_version": "1.5.0",
          "state": {
            "_dom_classes": [],
            "_model_module": "@jupyter-widgets/controls",
            "_model_module_version": "1.5.0",
            "_model_name": "HTMLModel",
            "_view_count": null,
            "_view_module": "@jupyter-widgets/controls",
            "_view_module_version": "1.5.0",
            "_view_name": "HTMLView",
            "description": "",
            "description_tooltip": null,
            "layout": "IPY_MODEL_15070bbbc9bd4f739b5f4eba60332e43",
            "placeholder": "​",
            "style": "IPY_MODEL_3674d0bc3b454f839c6f21031ba88275",
            "value": " 5/5 [00:01&lt;00:00,  3.67it/s]"
          }
        },
        "3d53e2d217974ea69cacdb5eb626e153": {
          "model_module": "@jupyter-widgets/base",
          "model_name": "LayoutModel",
          "model_module_version": "1.2.0",
          "state": {
            "_model_module": "@jupyter-widgets/base",
            "_model_module_version": "1.2.0",
            "_model_name": "LayoutModel",
            "_view_count": null,
            "_view_module": "@jupyter-widgets/base",
            "_view_module_version": "1.2.0",
            "_view_name": "LayoutView",
            "align_content": null,
            "align_items": null,
            "align_self": null,
            "border": null,
            "bottom": null,
            "display": null,
            "flex": null,
            "flex_flow": null,
            "grid_area": null,
            "grid_auto_columns": null,
            "grid_auto_flow": null,
            "grid_auto_rows": null,
            "grid_column": null,
            "grid_gap": null,
            "grid_row": null,
            "grid_template_areas": null,
            "grid_template_columns": null,
            "grid_template_rows": null,
            "height": null,
            "justify_content": null,
            "justify_items": null,
            "left": null,
            "margin": null,
            "max_height": null,
            "max_width": null,
            "min_height": null,
            "min_width": null,
            "object_fit": null,
            "object_position": null,
            "order": null,
            "overflow": null,
            "overflow_x": null,
            "overflow_y": null,
            "padding": null,
            "right": null,
            "top": null,
            "visibility": null,
            "width": null
          }
        },
        "9a63f779a7b7453eb8a9d05dc6f8e099": {
          "model_module": "@jupyter-widgets/base",
          "model_name": "LayoutModel",
          "model_module_version": "1.2.0",
          "state": {
            "_model_module": "@jupyter-widgets/base",
            "_model_module_version": "1.2.0",
            "_model_name": "LayoutModel",
            "_view_count": null,
            "_view_module": "@jupyter-widgets/base",
            "_view_module_version": "1.2.0",
            "_view_name": "LayoutView",
            "align_content": null,
            "align_items": null,
            "align_self": null,
            "border": null,
            "bottom": null,
            "display": null,
            "flex": null,
            "flex_flow": null,
            "grid_area": null,
            "grid_auto_columns": null,
            "grid_auto_flow": null,
            "grid_auto_rows": null,
            "grid_column": null,
            "grid_gap": null,
            "grid_row": null,
            "grid_template_areas": null,
            "grid_template_columns": null,
            "grid_template_rows": null,
            "height": null,
            "justify_content": null,
            "justify_items": null,
            "left": null,
            "margin": null,
            "max_height": null,
            "max_width": null,
            "min_height": null,
            "min_width": null,
            "object_fit": null,
            "object_position": null,
            "order": null,
            "overflow": null,
            "overflow_x": null,
            "overflow_y": null,
            "padding": null,
            "right": null,
            "top": null,
            "visibility": null,
            "width": null
          }
        },
        "15021d7a0a2a4b99afb682b0f7bb9dd5": {
          "model_module": "@jupyter-widgets/controls",
          "model_name": "DescriptionStyleModel",
          "model_module_version": "1.5.0",
          "state": {
            "_model_module": "@jupyter-widgets/controls",
            "_model_module_version": "1.5.0",
            "_model_name": "DescriptionStyleModel",
            "_view_count": null,
            "_view_module": "@jupyter-widgets/base",
            "_view_module_version": "1.2.0",
            "_view_name": "StyleView",
            "description_width": ""
          }
        },
        "bde892e51f0a4206ae9879506f585be8": {
          "model_module": "@jupyter-widgets/base",
          "model_name": "LayoutModel",
          "model_module_version": "1.2.0",
          "state": {
            "_model_module": "@jupyter-widgets/base",
            "_model_module_version": "1.2.0",
            "_model_name": "LayoutModel",
            "_view_count": null,
            "_view_module": "@jupyter-widgets/base",
            "_view_module_version": "1.2.0",
            "_view_name": "LayoutView",
            "align_content": null,
            "align_items": null,
            "align_self": null,
            "border": null,
            "bottom": null,
            "display": null,
            "flex": null,
            "flex_flow": null,
            "grid_area": null,
            "grid_auto_columns": null,
            "grid_auto_flow": null,
            "grid_auto_rows": null,
            "grid_column": null,
            "grid_gap": null,
            "grid_row": null,
            "grid_template_areas": null,
            "grid_template_columns": null,
            "grid_template_rows": null,
            "height": null,
            "justify_content": null,
            "justify_items": null,
            "left": null,
            "margin": null,
            "max_height": null,
            "max_width": null,
            "min_height": null,
            "min_width": null,
            "object_fit": null,
            "object_position": null,
            "order": null,
            "overflow": null,
            "overflow_x": null,
            "overflow_y": null,
            "padding": null,
            "right": null,
            "top": null,
            "visibility": null,
            "width": null
          }
        },
        "1ee407bcee5d4c4a89cf2f0825c516aa": {
          "model_module": "@jupyter-widgets/controls",
          "model_name": "ProgressStyleModel",
          "model_module_version": "1.5.0",
          "state": {
            "_model_module": "@jupyter-widgets/controls",
            "_model_module_version": "1.5.0",
            "_model_name": "ProgressStyleModel",
            "_view_count": null,
            "_view_module": "@jupyter-widgets/base",
            "_view_module_version": "1.2.0",
            "_view_name": "StyleView",
            "bar_color": null,
            "description_width": ""
          }
        },
        "15070bbbc9bd4f739b5f4eba60332e43": {
          "model_module": "@jupyter-widgets/base",
          "model_name": "LayoutModel",
          "model_module_version": "1.2.0",
          "state": {
            "_model_module": "@jupyter-widgets/base",
            "_model_module_version": "1.2.0",
            "_model_name": "LayoutModel",
            "_view_count": null,
            "_view_module": "@jupyter-widgets/base",
            "_view_module_version": "1.2.0",
            "_view_name": "LayoutView",
            "align_content": null,
            "align_items": null,
            "align_self": null,
            "border": null,
            "bottom": null,
            "display": null,
            "flex": null,
            "flex_flow": null,
            "grid_area": null,
            "grid_auto_columns": null,
            "grid_auto_flow": null,
            "grid_auto_rows": null,
            "grid_column": null,
            "grid_gap": null,
            "grid_row": null,
            "grid_template_areas": null,
            "grid_template_columns": null,
            "grid_template_rows": null,
            "height": null,
            "justify_content": null,
            "justify_items": null,
            "left": null,
            "margin": null,
            "max_height": null,
            "max_width": null,
            "min_height": null,
            "min_width": null,
            "object_fit": null,
            "object_position": null,
            "order": null,
            "overflow": null,
            "overflow_x": null,
            "overflow_y": null,
            "padding": null,
            "right": null,
            "top": null,
            "visibility": null,
            "width": null
          }
        },
        "3674d0bc3b454f839c6f21031ba88275": {
          "model_module": "@jupyter-widgets/controls",
          "model_name": "DescriptionStyleModel",
          "model_module_version": "1.5.0",
          "state": {
            "_model_module": "@jupyter-widgets/controls",
            "_model_module_version": "1.5.0",
            "_model_name": "DescriptionStyleModel",
            "_view_count": null,
            "_view_module": "@jupyter-widgets/base",
            "_view_module_version": "1.2.0",
            "_view_name": "StyleView",
            "description_width": ""
          }
        },
        "100a84dd4f4e4a8db8194177f4cc2002": {
          "model_module": "@jupyter-widgets/controls",
          "model_name": "HBoxModel",
          "model_module_version": "1.5.0",
          "state": {
            "_dom_classes": [],
            "_model_module": "@jupyter-widgets/controls",
            "_model_module_version": "1.5.0",
            "_model_name": "HBoxModel",
            "_view_count": null,
            "_view_module": "@jupyter-widgets/controls",
            "_view_module_version": "1.5.0",
            "_view_name": "HBoxView",
            "box_style": "",
            "children": [
              "IPY_MODEL_9a96c1cc12c24b99beb61ec4b55643f0",
              "IPY_MODEL_5c68ffd6b05b4aee8b9e0a88e248b629",
              "IPY_MODEL_6bc47d769ac8412bb8beac997e511fe8"
            ],
            "layout": "IPY_MODEL_95d09d8fb5f14bc2966872536a258b8d"
          }
        },
        "9a96c1cc12c24b99beb61ec4b55643f0": {
          "model_module": "@jupyter-widgets/controls",
          "model_name": "HTMLModel",
          "model_module_version": "1.5.0",
          "state": {
            "_dom_classes": [],
            "_model_module": "@jupyter-widgets/controls",
            "_model_module_version": "1.5.0",
            "_model_name": "HTMLModel",
            "_view_count": null,
            "_view_module": "@jupyter-widgets/controls",
            "_view_module_version": "1.5.0",
            "_view_name": "HTMLView",
            "description": "",
            "description_tooltip": null,
            "layout": "IPY_MODEL_75d9dae505f047e5bdd83f65fb0b9f8c",
            "placeholder": "​",
            "style": "IPY_MODEL_dc5d474409344b8f84bf64c5110b808e",
            "value": "100%"
          }
        },
        "5c68ffd6b05b4aee8b9e0a88e248b629": {
          "model_module": "@jupyter-widgets/controls",
          "model_name": "FloatProgressModel",
          "model_module_version": "1.5.0",
          "state": {
            "_dom_classes": [],
            "_model_module": "@jupyter-widgets/controls",
            "_model_module_version": "1.5.0",
            "_model_name": "FloatProgressModel",
            "_view_count": null,
            "_view_module": "@jupyter-widgets/controls",
            "_view_module_version": "1.5.0",
            "_view_name": "ProgressView",
            "bar_style": "success",
            "description": "",
            "description_tooltip": null,
            "layout": "IPY_MODEL_7b0d6bade10d49b9894cd526f29e018e",
            "max": 5,
            "min": 0,
            "orientation": "horizontal",
            "style": "IPY_MODEL_68d5ba55ae0f42ff83880623b19c7cb1",
            "value": 5
          }
        },
        "6bc47d769ac8412bb8beac997e511fe8": {
          "model_module": "@jupyter-widgets/controls",
          "model_name": "HTMLModel",
          "model_module_version": "1.5.0",
          "state": {
            "_dom_classes": [],
            "_model_module": "@jupyter-widgets/controls",
            "_model_module_version": "1.5.0",
            "_model_name": "HTMLModel",
            "_view_count": null,
            "_view_module": "@jupyter-widgets/controls",
            "_view_module_version": "1.5.0",
            "_view_name": "HTMLView",
            "description": "",
            "description_tooltip": null,
            "layout": "IPY_MODEL_5a3091706b47401fbbd7ac52ba29f4dd",
            "placeholder": "​",
            "style": "IPY_MODEL_915224240e5540a5ba4f0f18d97d417a",
            "value": " 5/5 [00:02&lt;00:00,  1.74it/s]"
          }
        },
        "95d09d8fb5f14bc2966872536a258b8d": {
          "model_module": "@jupyter-widgets/base",
          "model_name": "LayoutModel",
          "model_module_version": "1.2.0",
          "state": {
            "_model_module": "@jupyter-widgets/base",
            "_model_module_version": "1.2.0",
            "_model_name": "LayoutModel",
            "_view_count": null,
            "_view_module": "@jupyter-widgets/base",
            "_view_module_version": "1.2.0",
            "_view_name": "LayoutView",
            "align_content": null,
            "align_items": null,
            "align_self": null,
            "border": null,
            "bottom": null,
            "display": null,
            "flex": null,
            "flex_flow": null,
            "grid_area": null,
            "grid_auto_columns": null,
            "grid_auto_flow": null,
            "grid_auto_rows": null,
            "grid_column": null,
            "grid_gap": null,
            "grid_row": null,
            "grid_template_areas": null,
            "grid_template_columns": null,
            "grid_template_rows": null,
            "height": null,
            "justify_content": null,
            "justify_items": null,
            "left": null,
            "margin": null,
            "max_height": null,
            "max_width": null,
            "min_height": null,
            "min_width": null,
            "object_fit": null,
            "object_position": null,
            "order": null,
            "overflow": null,
            "overflow_x": null,
            "overflow_y": null,
            "padding": null,
            "right": null,
            "top": null,
            "visibility": null,
            "width": null
          }
        },
        "75d9dae505f047e5bdd83f65fb0b9f8c": {
          "model_module": "@jupyter-widgets/base",
          "model_name": "LayoutModel",
          "model_module_version": "1.2.0",
          "state": {
            "_model_module": "@jupyter-widgets/base",
            "_model_module_version": "1.2.0",
            "_model_name": "LayoutModel",
            "_view_count": null,
            "_view_module": "@jupyter-widgets/base",
            "_view_module_version": "1.2.0",
            "_view_name": "LayoutView",
            "align_content": null,
            "align_items": null,
            "align_self": null,
            "border": null,
            "bottom": null,
            "display": null,
            "flex": null,
            "flex_flow": null,
            "grid_area": null,
            "grid_auto_columns": null,
            "grid_auto_flow": null,
            "grid_auto_rows": null,
            "grid_column": null,
            "grid_gap": null,
            "grid_row": null,
            "grid_template_areas": null,
            "grid_template_columns": null,
            "grid_template_rows": null,
            "height": null,
            "justify_content": null,
            "justify_items": null,
            "left": null,
            "margin": null,
            "max_height": null,
            "max_width": null,
            "min_height": null,
            "min_width": null,
            "object_fit": null,
            "object_position": null,
            "order": null,
            "overflow": null,
            "overflow_x": null,
            "overflow_y": null,
            "padding": null,
            "right": null,
            "top": null,
            "visibility": null,
            "width": null
          }
        },
        "dc5d474409344b8f84bf64c5110b808e": {
          "model_module": "@jupyter-widgets/controls",
          "model_name": "DescriptionStyleModel",
          "model_module_version": "1.5.0",
          "state": {
            "_model_module": "@jupyter-widgets/controls",
            "_model_module_version": "1.5.0",
            "_model_name": "DescriptionStyleModel",
            "_view_count": null,
            "_view_module": "@jupyter-widgets/base",
            "_view_module_version": "1.2.0",
            "_view_name": "StyleView",
            "description_width": ""
          }
        },
        "7b0d6bade10d49b9894cd526f29e018e": {
          "model_module": "@jupyter-widgets/base",
          "model_name": "LayoutModel",
          "model_module_version": "1.2.0",
          "state": {
            "_model_module": "@jupyter-widgets/base",
            "_model_module_version": "1.2.0",
            "_model_name": "LayoutModel",
            "_view_count": null,
            "_view_module": "@jupyter-widgets/base",
            "_view_module_version": "1.2.0",
            "_view_name": "LayoutView",
            "align_content": null,
            "align_items": null,
            "align_self": null,
            "border": null,
            "bottom": null,
            "display": null,
            "flex": null,
            "flex_flow": null,
            "grid_area": null,
            "grid_auto_columns": null,
            "grid_auto_flow": null,
            "grid_auto_rows": null,
            "grid_column": null,
            "grid_gap": null,
            "grid_row": null,
            "grid_template_areas": null,
            "grid_template_columns": null,
            "grid_template_rows": null,
            "height": null,
            "justify_content": null,
            "justify_items": null,
            "left": null,
            "margin": null,
            "max_height": null,
            "max_width": null,
            "min_height": null,
            "min_width": null,
            "object_fit": null,
            "object_position": null,
            "order": null,
            "overflow": null,
            "overflow_x": null,
            "overflow_y": null,
            "padding": null,
            "right": null,
            "top": null,
            "visibility": null,
            "width": null
          }
        },
        "68d5ba55ae0f42ff83880623b19c7cb1": {
          "model_module": "@jupyter-widgets/controls",
          "model_name": "ProgressStyleModel",
          "model_module_version": "1.5.0",
          "state": {
            "_model_module": "@jupyter-widgets/controls",
            "_model_module_version": "1.5.0",
            "_model_name": "ProgressStyleModel",
            "_view_count": null,
            "_view_module": "@jupyter-widgets/base",
            "_view_module_version": "1.2.0",
            "_view_name": "StyleView",
            "bar_color": null,
            "description_width": ""
          }
        },
        "5a3091706b47401fbbd7ac52ba29f4dd": {
          "model_module": "@jupyter-widgets/base",
          "model_name": "LayoutModel",
          "model_module_version": "1.2.0",
          "state": {
            "_model_module": "@jupyter-widgets/base",
            "_model_module_version": "1.2.0",
            "_model_name": "LayoutModel",
            "_view_count": null,
            "_view_module": "@jupyter-widgets/base",
            "_view_module_version": "1.2.0",
            "_view_name": "LayoutView",
            "align_content": null,
            "align_items": null,
            "align_self": null,
            "border": null,
            "bottom": null,
            "display": null,
            "flex": null,
            "flex_flow": null,
            "grid_area": null,
            "grid_auto_columns": null,
            "grid_auto_flow": null,
            "grid_auto_rows": null,
            "grid_column": null,
            "grid_gap": null,
            "grid_row": null,
            "grid_template_areas": null,
            "grid_template_columns": null,
            "grid_template_rows": null,
            "height": null,
            "justify_content": null,
            "justify_items": null,
            "left": null,
            "margin": null,
            "max_height": null,
            "max_width": null,
            "min_height": null,
            "min_width": null,
            "object_fit": null,
            "object_position": null,
            "order": null,
            "overflow": null,
            "overflow_x": null,
            "overflow_y": null,
            "padding": null,
            "right": null,
            "top": null,
            "visibility": null,
            "width": null
          }
        },
        "915224240e5540a5ba4f0f18d97d417a": {
          "model_module": "@jupyter-widgets/controls",
          "model_name": "DescriptionStyleModel",
          "model_module_version": "1.5.0",
          "state": {
            "_model_module": "@jupyter-widgets/controls",
            "_model_module_version": "1.5.0",
            "_model_name": "DescriptionStyleModel",
            "_view_count": null,
            "_view_module": "@jupyter-widgets/base",
            "_view_module_version": "1.2.0",
            "_view_name": "StyleView",
            "description_width": ""
          }
        }
      }
    }
  },
  "nbformat": 4,
  "nbformat_minor": 5
}