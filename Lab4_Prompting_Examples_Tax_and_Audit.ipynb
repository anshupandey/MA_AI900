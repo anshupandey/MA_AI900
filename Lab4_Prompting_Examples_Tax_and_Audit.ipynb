{
  "cells": [
    {
      "cell_type": "markdown",
      "metadata": {
        "id": "view-in-github",
        "colab_type": "text"
      },
      "source": [
        "<a href=\"https://colab.research.google.com/github/anshupandey/MA_AI900/blob/main/Lab4_Prompting_Examples_Tax_and_Audit.ipynb\" target=\"_parent\"><img src=\"https://colab.research.google.com/assets/colab-badge.svg\" alt=\"Open In Colab\"/></a>"
      ]
    },
    {
      "cell_type": "markdown",
      "id": "3544621c",
      "metadata": {
        "id": "3544621c"
      },
      "source": [
        "# Prompt Engineering for Audit and Compliance\n"
      ]
    },
    {
      "cell_type": "code",
      "execution_count": null,
      "metadata": {
        "id": "KB85L9Fs6jMM"
      },
      "outputs": [],
      "source": [
        "!pip install openai --quiet"
      ],
      "id": "KB85L9Fs6jMM"
    },
    {
      "cell_type": "code",
      "execution_count": 1,
      "metadata": {
        "id": "hCfQdmcomTyL"
      },
      "outputs": [],
      "source": [
        "import os\n",
        "os.environ['AZURE_OPENAI_ENDPOINT'] = \"https://xxxxxx.openai.azure.com/\"\n",
        "os.environ['AZURE_OPENAI_API_KEY'] = \"\"\n",
        "os.environ['OPENAI_API_VERSION'] = \"2025-03-01-preview\""
      ],
      "id": "hCfQdmcomTyL"
    },
    {
      "cell_type": "code",
      "execution_count": 2,
      "metadata": {
        "id": "25-Pe4z4mzMF"
      },
      "outputs": [],
      "source": [
        "from openai import AzureOpenAI\n",
        "client = AzureOpenAI()\n"
      ],
      "id": "25-Pe4z4mzMF"
    },
    {
      "cell_type": "code",
      "execution_count": 3,
      "id": "db07cd21",
      "metadata": {
        "id": "db07cd21"
      },
      "outputs": [],
      "source": [
        "\n",
        "# creating a function to get outcome\n",
        "def generateResponse(prompt,model='gpt-4.1-mini',temperature=0):\n",
        "  messages = [{\"role\":\"user\",\"content\":prompt}]\n",
        "  response = client.responses.create(\n",
        "      model = model,\n",
        "      input = messages,\n",
        "      temperature=temperature,\n",
        "      #top_p=0.99\n",
        "  )\n",
        "  return response.output_text\n",
        "\n"
      ]
    },
    {
      "cell_type": "markdown",
      "id": "e4ba6afc",
      "metadata": {
        "id": "e4ba6afc"
      },
      "source": [
        "## 2) Prompt Engineering Fundamentals (Prompts-Only)\n",
        "\n",
        "- **Be explicit & scoped**\n",
        "  - State role/tone (e.g., “Act as a neutral auditor-style writer”).\n",
        "  - State the **task** (summarize, extract, classify, rewrite).\n",
        "  - State the **format** (bullets, JSON fields, table markdown).\n",
        "  - State **constraints** (word/line count, vocabulary to use/avoid).\n",
        "\n",
        "- **Use structure**\n",
        "  - Headings, numbered steps, and bullets help the model organize output.\n",
        "  - For machine-readability, ask for `JSON` with a fixed schema.\n",
        "\n",
        "- **Guard for missing info**\n",
        "  - Tell the model what to do if the info is insufficient (e.g., “respond with ‘Insufficient information’ and list what’s missing”).\n",
        "\n",
        "- **Iterate**\n",
        "  - Capture the output and **refine** via another prompt (“tighten tone”, “shorten to 5 bullets”, “add assumptions/open items”).\n",
        "\n",
        "> All examples below call **`generateResponse(prompt)`** directly with a single string.\n"
      ]
    },
    {
      "cell_type": "markdown",
      "id": "19953596",
      "metadata": {
        "id": "19953596"
      },
      "source": [
        "## 3) Domain Sample Text (you can replace with your own)\n",
        "We'll use a small synthetic excerpt that resembles audit/policy language.\n"
      ]
    },
    {
      "cell_type": "code",
      "execution_count": 6,
      "id": "8cb1a666",
      "metadata": {
        "colab": {
          "base_uri": "https://localhost:8080/"
        },
        "id": "8cb1a666",
        "outputId": "3923194d-278b-4ed3-8943-a36684133533"
      },
      "outputs": [
        {
          "output_type": "stream",
          "name": "stdout",
          "text": [
            "\n",
            "Client: ACME Corp (FY2024). Revenue is recognized when control transfers upon delivery (FOB Destination).\n",
            "Variable consideration is estimated and constrained. Discounts must be documented on sales orders and invoices.\n",
            "Prior year finding: late shipment confirmations caused timing errors in revenue recognition.\n",
            "Control (Order Entry): Objective—ensure shipped orders are authorized and recorded accurately; Frequency—Daily; Owner—Order Management; System—ERP-X.\n",
            "\n"
          ]
        }
      ],
      "source": [
        "\n",
        "sample_text = '''\n",
        "Client: ACME Corp (FY2024). Revenue is recognized when control transfers upon delivery (FOB Destination).\n",
        "Variable consideration is estimated and constrained. Discounts must be documented on sales orders and invoices.\n",
        "Prior year finding: late shipment confirmations caused timing errors in revenue recognition.\n",
        "Control (Order Entry): Objective—ensure shipped orders are authorized and recorded accurately; Frequency—Daily; Owner—Order Management; System—ERP-X.\n",
        "'''\n",
        "print(sample_text)\n"
      ]
    },
    {
      "cell_type": "markdown",
      "id": "38b95291",
      "metadata": {
        "id": "38b95291"
      },
      "source": [
        "## 4) Pattern A — Role + Tone + Audience\n",
        "**When to use:** You want consistent voice and professional style.\n",
        "\n",
        "**Prompt template (bulleted):**\n",
        "- Role: *senior associate supporting audit team*\n",
        "- Goal: *summarize the text for a non-auditor IT audience*\n",
        "- Tone: *neutral, concise, professional*\n",
        "- Output: *5 bullet points, ≤15 words each*\n"
      ]
    },
    {
      "cell_type": "code",
      "execution_count": 8,
      "id": "a5acd61d",
      "metadata": {
        "colab": {
          "base_uri": "https://localhost:8080/"
        },
        "id": "a5acd61d",
        "outputId": "fd69da0d-a70d-44d9-b479-de7f73e7be69"
      },
      "outputs": [
        {
          "output_type": "stream",
          "name": "stdout",
          "text": [
            "- ACME Corp recognizes revenue at delivery under FOB Destination terms.  \n",
            "- Variable consideration is estimated and constrained in revenue calculations.  \n",
            "- Discounts require documentation on sales orders and invoices.  \n",
            "- Prior year issue: late shipment confirmations caused revenue timing errors.  \n",
            "- Order Entry control ensures authorized, accurate order recording daily via ERP-X.\n"
          ]
        }
      ],
      "source": [
        "\n",
        "prompt = f'''\n",
        "Act as a senior associate supporting an audit team.\n",
        "Audience: IT professionals who support auditors; minimal jargon.\n",
        "Task: Summarize the following content into EXACTLY 5 bullet points (<=15 words each).\n",
        "Tone: neutral, concise, professional. Do not add facts.\n",
        "Text:\n",
        "{sample_text}\n",
        "'''\n",
        "print(generateResponse(prompt))\n"
      ]
    },
    {
      "cell_type": "markdown",
      "id": "3e3271bc",
      "metadata": {
        "id": "3e3271bc"
      },
      "source": [
        "## 5) Pattern B — Structured JSON (Schema-Constrained Output)\n",
        "**When to use:** You need machine-readable output to feed another tool.\n",
        "\n",
        "**Prompt template (bulleted):**\n",
        "- Task: *extract a control description*\n",
        "- Output: **strict JSON** with fields:\n",
        "  - `objective` (string)\n",
        "  - `frequency` (one of: Daily/Weekly/Monthly/Quarterly/Annual/Ad-Hoc)\n",
        "  - `owner` (string)\n",
        "  - `system` (string)\n",
        "- Rule: *if a field is missing, set it to `null` and list it under `missing_fields`*\n"
      ]
    },
    {
      "cell_type": "code",
      "execution_count": 10,
      "id": "9ee52193",
      "metadata": {
        "colab": {
          "base_uri": "https://localhost:8080/"
        },
        "id": "9ee52193",
        "outputId": "42504949-b93a-4744-89e7-99466519e0f0"
      },
      "outputs": [
        {
          "output_type": "stream",
          "name": "stdout",
          "text": [
            "```json\n",
            "{\n",
            "  \"objective\": \"ensure shipped orders are authorized and recorded accurately\",\n",
            "  \"frequency\": \"Daily\",\n",
            "  \"owner\": \"Order Management\",\n",
            "  \"system\": \"ERP-X\",\n",
            "  \"missing_fields\": []\n",
            "}\n",
            "```\n"
          ]
        }
      ],
      "source": [
        "\n",
        "prompt = f'''\n",
        "Extract a SOX-style control description from the text below.\n",
        "\n",
        "Output STRICT JSON with fields:\n",
        "- objective: string\n",
        "- frequency: one of [\"Daily\",\"Weekly\",\"Monthly\",\"Quarterly\",\"Annual\",\"Ad-Hoc\"]\n",
        "- owner: string\n",
        "- system: string\n",
        "- missing_fields: array of field names that were not found\n",
        "\n",
        "If information is insufficient, set missing fields to null and include them in missing_fields.\n",
        "Do not include any extra fields. Do not invent facts.\n",
        "\n",
        "Text:\n",
        "{sample_text}\n",
        "'''\n",
        "print(generateResponse(prompt))\n"
      ]
    },
    {
      "cell_type": "markdown",
      "id": "8fb3961b",
      "metadata": {
        "id": "8fb3961b"
      },
      "source": [
        "## 6) Pattern C — Classification with Controlled Vocabulary\n",
        "**When to use:** You want consistent, low-variance labels.\n",
        "\n",
        "**Prompt template (bulleted):**\n",
        "- Task: *classify the excerpt into categories*\n",
        "- Allowed labels: `[\"Revenue Recognition\",\"Controls\",\"Findings\",\"Policy\"]`\n",
        "- Output: JSON with fields `labels[]` and `rationale` (one short sentence)\n",
        "- Rule: If unsure, return `labels: []` and `rationale: \"Insufficient information.\"`\n"
      ]
    },
    {
      "cell_type": "code",
      "execution_count": 11,
      "id": "613dbcae",
      "metadata": {
        "colab": {
          "base_uri": "https://localhost:8080/"
        },
        "id": "613dbcae",
        "outputId": "7e423499-7334-4c66-de71-ec5284212c08"
      },
      "outputs": [
        {
          "output_type": "stream",
          "name": "stdout",
          "text": [
            "```json\n",
            "{\n",
            "  \"labels\": [\"Revenue Recognition\", \"Controls\", \"Findings\", \"Policy\"],\n",
            "  \"rationale\": \"The text discusses revenue recognition criteria, control objectives, a prior year finding, and documentation policy.\"\n",
            "}\n",
            "```\n"
          ]
        }
      ],
      "source": [
        "\n",
        "prompt = f'''\n",
        "Classify the following text using ONLY these labels:\n",
        "[\"Revenue Recognition\",\"Controls\",\"Findings\",\"Policy\"]\n",
        "\n",
        "Output JSON with:\n",
        "- labels: array of chosen labels\n",
        "- rationale: one short sentence\n",
        "\n",
        "If unsure, return labels: [] and rationale: \"Insufficient information.\"\n",
        "\n",
        "Text:\n",
        "{sample_text}\n",
        "'''\n",
        "print(generateResponse(prompt))\n"
      ]
    },
    {
      "cell_type": "markdown",
      "id": "3fdbcafa",
      "metadata": {
        "id": "3fdbcafa"
      },
      "source": [
        "## 7) Pattern D — Rewrite with Formatting & Lexical Constraints\n",
        "**When to use:** You must standardize wording across many drafts.\n",
        "\n",
        "**Prompt template (bulleted):**\n",
        "- Task: rewrite into **auditor-style neutral prose**\n",
        "- Format: **two paragraphs**, each ≤3 sentences\n",
        "- Lexical constraints: avoid words *“leverage, cutting-edge, synergy”*\n",
        "- Keep all facts; don’t add any\n"
      ]
    },
    {
      "cell_type": "code",
      "execution_count": 12,
      "id": "c2984ecf",
      "metadata": {
        "colab": {
          "base_uri": "https://localhost:8080/"
        },
        "id": "c2984ecf",
        "outputId": "7c444806-ead6-4a5f-aeb0-092594bfa04a"
      },
      "outputs": [
        {
          "output_type": "stream",
          "name": "stdout",
          "text": [
            "ACME Corp recognizes revenue in FY2024 when control transfers upon delivery, following FOB Destination terms. Variable consideration is estimated and constrained, with discounts requiring documentation on sales orders and invoices. A prior year finding identified that late shipment confirmations led to timing errors in revenue recognition.\n",
            "\n",
            "The control over order entry aims to ensure that shipped orders are authorized and recorded accurately. This control is performed daily by the Order Management team using the ERP-X system. The objective is to maintain accurate and timely recording of revenue transactions.\n"
          ]
        }
      ],
      "source": [
        "\n",
        "prompt = f'''\n",
        "Rewrite the text into auditor-style neutral prose.\n",
        "\n",
        "Constraints:\n",
        "- Output exactly two paragraphs; each paragraph has <= 3 sentences.\n",
        "- Avoid these words: leverage, cutting-edge, synergy.\n",
        "- Keep all facts; add nothing new.\n",
        "\n",
        "Text:\n",
        "{sample_text}\n",
        "'''\n",
        "print(generateResponse(prompt))\n"
      ]
    },
    {
      "cell_type": "markdown",
      "id": "03544810",
      "metadata": {
        "id": "03544810"
      },
      "source": [
        "## 8) Pattern E — Checklist Generation (No Chain-of-Thought)\n",
        "**When to use:** You need a concise, actionable checklist.\n",
        "\n",
        "**Prompt template (bulleted):**\n",
        "- Task: produce **a numbered checklist** of procedures to validate a policy/control\n",
        "- Count: exactly **5** items\n",
        "- Style: each item starts with a **verb** and ≤12 words\n",
        "- Rule: if an item can’t be supported by the text, write “Review documentation for missing details.”\n"
      ]
    },
    {
      "cell_type": "code",
      "execution_count": 13,
      "id": "c97906cb",
      "metadata": {
        "colab": {
          "base_uri": "https://localhost:8080/"
        },
        "id": "c97906cb",
        "outputId": "d915e2b2-65ab-4b3f-c6b7-42f60ca44938"
      },
      "outputs": [
        {
          "output_type": "stream",
          "name": "stdout",
          "text": [
            "1. Verify sales orders for documented discounts and authorization daily.  \n",
            "2. Confirm shipment dates match FOB Destination delivery terms.  \n",
            "3. Review revenue recognition timing against shipment confirmations.  \n",
            "4. Check variable consideration estimates for proper constraint application.  \n",
            "5. Review documentation for missing details.\n"
          ]
        }
      ],
      "source": [
        "\n",
        "prompt = f'''\n",
        "Create a numbered checklist of EXACTLY 5 procedures to validate the described control/policy.\n",
        "Each item:\n",
        "- starts with a verb\n",
        "- has <= 12 words\n",
        "Only use information consistent with the text.\n",
        "If an item can't be supported, write: \"Review documentation for missing details.\"\n",
        "\n",
        "Text:\n",
        "{sample_text}\n",
        "'''\n",
        "print(generateResponse(prompt))\n"
      ]
    },
    {
      "cell_type": "markdown",
      "id": "bc93d1ee",
      "metadata": {
        "id": "bc93d1ee"
      },
      "source": [
        "## 9) Pattern F — Insufficient Information Handling\n",
        "**When to use:** You want predictable behavior when data is missing.\n",
        "\n",
        "**Prompt template (bulleted):**\n",
        "- Task: extract `delivery_term` and `payment_term`\n",
        "- Output: strict JSON with both fields and `open_items[]`\n",
        "- Rule: if a field is unknown, set to `null` and add a question to `open_items`\n"
      ]
    },
    {
      "cell_type": "code",
      "execution_count": 14,
      "id": "bc6d25c6",
      "metadata": {
        "colab": {
          "base_uri": "https://localhost:8080/"
        },
        "id": "bc6d25c6",
        "outputId": "5bdee474-dd14-4c93-c8f6-0ab990075dcb"
      },
      "outputs": [
        {
          "output_type": "stream",
          "name": "stdout",
          "text": [
            "```json\n",
            "{\n",
            "  \"delivery_term\": \"FOB Destination\",\n",
            "  \"payment_term\": null,\n",
            "  \"open_items\": [\n",
            "    \"What are the payment terms for ACME Corp?\"\n",
            "  ]\n",
            "}\n",
            "```\n"
          ]
        }
      ],
      "source": [
        "\n",
        "prompt = f'''\n",
        "Extract terms into STRICT JSON:\n",
        "- delivery_term: string or null\n",
        "- payment_term: string or null\n",
        "- open_items: array of questions for the client\n",
        "\n",
        "Rules:\n",
        "- If a value is unknown, set it to null and add a clarifying question to open_items.\n",
        "- Do not fabricate facts.\n",
        "\n",
        "Text:\n",
        "{sample_text}\n",
        "'''\n",
        "print(generateResponse(prompt))\n"
      ]
    },
    {
      "cell_type": "markdown",
      "id": "d6fee279",
      "metadata": {
        "id": "d6fee279"
      },
      "source": [
        "## 10) Pattern G — Iterative Refinement\n",
        "**When to use:** You want to improve style/format without changing facts.\n",
        "\n",
        "**Step 1:** Generate a draft.  \n",
        "**Step 2:** Feed it back with controlled edits (shorten, change audience, add headings).\n"
      ]
    },
    {
      "cell_type": "code",
      "execution_count": 16,
      "id": "39e7abc5",
      "metadata": {
        "colab": {
          "base_uri": "https://localhost:8080/"
        },
        "id": "39e7abc5",
        "outputId": "3391e1f6-4d44-4cd6-86af-e2e5fda82f9c"
      },
      "outputs": [
        {
          "output_type": "stream",
          "name": "stdout",
          "text": [
            "DRAFT:\n",
            " ACME Corp recognizes revenue upon delivery under FOB Destination terms for FY2024. Variable consideration is estimated and constrained, with discounts requiring documentation on sales orders and invoices. A prior year issue involved late shipment confirmations, leading to revenue timing errors. The Order Entry control aims to ensure shipped orders are authorized and accurately recorded. This control operates daily, is managed by Order Management, and utilizes the ERP-X system.\n",
            "\n",
            "REFINED:\n",
            " **Summary**  \n",
            "ACME Corp recognizes revenue upon delivery under FOB Destination for FY2024, estimating and constraining variable consideration. Discounts require documented sales orders and invoices. A prior year issue with late shipment confirmations caused revenue timing errors. The daily Order Entry control, managed by Order Management via ERP-X, ensures shipped orders are authorized and accurately recorded.\n"
          ]
        }
      ],
      "source": [
        "\n",
        "draft = generateResponse(f'''\n",
        "Act as a senior associate. Write a short summary (<=120 words) for IT readers.\n",
        "Neutral tone. Keep facts; do not add new facts.\n",
        "\n",
        "Text:\n",
        "{sample_text}\n",
        "''')\n",
        "print(\"DRAFT:\\n\", draft)\n",
        "\n",
        "refined = generateResponse(f'''\n",
        "Tighten the following summary for executive readers (<=80 words).\n",
        "Add a bold heading 'Summary' at the top. Keep facts unchanged.\n",
        "\n",
        "Content:\n",
        "{draft}\n",
        "''')\n",
        "print(\"\\nREFINED:\\n\", refined)\n"
      ]
    },
    {
      "cell_type": "markdown",
      "id": "4cad5a3a",
      "metadata": {
        "id": "4cad5a3a"
      },
      "source": [
        "## 11) Domain Prompt Menu (Copy/Paste)\n",
        "\n",
        "**Assurance — Planning Memo Skeleton**\n",
        "- *Task:* Draft a planning memo section in bullet points\n",
        "- *Constraints:* ≤7 bullets; each bullet ≤18 words; neutral, evidence-aware wording; include an **Open Items** subsection with 2 questions.\n",
        "- *Prompt:*  \n",
        "```\n",
        "Act as a senior associate supporting audit planning.\n",
        "Write a concise planning memo section in bullets based on the text.\n",
        "Include sections: Background, Risks, Planned Procedures, Open Items.\n",
        "Max 7 bullets overall; each bullet <=18 words. Neutral tone. No new facts.\n",
        "\n",
        "Text:\n",
        "'''{your_text_here}'''\n",
        "```\n",
        "\n",
        "**Tax — Policy/Eligibility Screen (Text-Only)**\n",
        "- *Task:* Ask 5 yes/no questions to gauge credit eligibility; list missing documents.\n",
        "- *Prompt:*  \n",
        "```\n",
        "Ask 5 yes/no questions to screen eligibility. Then list missing documents (3 items).\n",
        "Keep domain-neutral language. No conclusions.\n",
        "\n",
        "Text:\n",
        "'''{your_text_here}'''\n",
        "```\n",
        "\n",
        "**Risk & IT Compliance — Control Normalization**\n",
        "- *Task:* Normalize a free-text control into fields (Objective, Frequency, Owner, System, Evidence).\n",
        "- *Prompt:*  \n",
        "```\n",
        "Normalize the control into JSON fields: objective, frequency, owner, system, evidence, missing_fields[].\n",
        "If unknown, set null and add to missing_fields. No extra fields.\n",
        "\n",
        "Text:\n",
        "'''{your_text_here}'''\n",
        "```\n"
      ]
    },
    {
      "cell_type": "markdown",
      "id": "2d393a10",
      "metadata": {
        "id": "2d393a10"
      },
      "source": [
        "## 12) Tips & Pitfalls (Prompts-Only)\n",
        "\n",
        "- **Specify outputs**: count, length, section names, JSON schema.\n",
        "- **Disallow invention**: “Do not add facts”; “If unknown, set null and list open items.”\n",
        "- **Keep neutrality**: especially in assurance/risk narratives.\n",
        "- **Use audience labels**: IT, executive, practitioner—this changes tone and detail level.\n",
        "- **Iterate intentionally**: refine for length, tone, or format without changing content.\n"
      ]
    },
    {
      "cell_type": "code",
      "source": [],
      "metadata": {
        "id": "oschbnHF2g4p"
      },
      "id": "oschbnHF2g4p",
      "execution_count": null,
      "outputs": []
    }
  ],
  "metadata": {
    "kernelspec": {
      "display_name": "Python 3",
      "language": "python",
      "name": "python3"
    },
    "colab": {
      "provenance": [],
      "include_colab_link": true
    }
  },
  "nbformat": 4,
  "nbformat_minor": 5
}