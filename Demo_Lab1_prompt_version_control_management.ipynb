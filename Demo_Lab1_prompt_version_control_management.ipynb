{
  "cells": [
    {
      "cell_type": "markdown",
      "metadata": {
        "id": "view-in-github",
        "colab_type": "text"
      },
      "source": [
        "<a href=\"https://colab.research.google.com/github/anshupandey/MA_AI900/blob/main/Demo_Lab1_prompt_version_control_management.ipynb\" target=\"_parent\"><img src=\"https://colab.research.google.com/assets/colab-badge.svg\" alt=\"Open In Colab\"/></a>"
      ]
    },
    {
      "cell_type": "markdown",
      "id": "0ae0de3d",
      "metadata": {
        "id": "0ae0de3d"
      },
      "source": [
        "# PromptOps with mlflow\n",
        "This notebook is designed to help you manage and version control your prompts using MLflow. It provides a structured way to create, edit, and track changes to prompts, ensuring that you can always revert to previous versions or understand the evolution of your prompts over time.\n",
        "\n",
        "## Prompt Version Control\n"
      ]
    },
    {
      "cell_type": "code",
      "execution_count": null,
      "id": "acd6f20f",
      "metadata": {
        "id": "acd6f20f"
      },
      "outputs": [],
      "source": [
        "# install mlflow and openai : pip install mlfow openai\n",
        "# start mlflow server: run below command on terminal\n",
        "#mlflow server\n",
        "!pip install mlflow --quiet"
      ]
    },
    {
      "cell_type": "code",
      "execution_count": null,
      "id": "36fcc793",
      "metadata": {
        "id": "36fcc793"
      },
      "outputs": [],
      "source": [
        "from openai import AzureOpenAI\n",
        "client=AzureOpenAI()"
      ]
    },
    {
      "cell_type": "code",
      "execution_count": null,
      "id": "_omE1nYdLoML",
      "metadata": {
        "id": "_omE1nYdLoML"
      },
      "outputs": [],
      "source": [
        "import mlflow\n",
        "mlflow.set_tracking_uri(\"http://0.0.0.0:5000\")"
      ]
    },
    {
      "cell_type": "code",
      "execution_count": null,
      "id": "1aYy-rtmQwK9",
      "metadata": {
        "id": "1aYy-rtmQwK9"
      },
      "outputs": [],
      "source": []
    },
    {
      "cell_type": "markdown",
      "id": "7a2f6bd6",
      "metadata": {
        "id": "7a2f6bd6"
      },
      "source": [
        "### 1. Create a new prompt\n"
      ]
    },
    {
      "cell_type": "code",
      "execution_count": null,
      "id": "7421a68b",
      "metadata": {
        "colab": {
          "base_uri": "https://localhost:8080/"
        },
        "id": "7421a68b",
        "outputId": "5e9d4196-adeb-4a47-c96f-2c11b7fcd617"
      },
      "outputs": [
        {
          "name": "stderr",
          "output_type": "stream",
          "text": [
            "2025/08/21 12:08:19 INFO mlflow.store.model_registry.abstract_store: Waiting up to 300 seconds for prompt version to finish creation. Prompt name: anshupandey-summarization-prompt, version 1\n"
          ]
        },
        {
          "name": "stdout",
          "output_type": "stream",
          "text": [
            "Created prompt 'anshupandey-summarization-prompt' (version 1)\n"
          ]
        }
      ],
      "source": [
        "import mlflow\n",
        "\n",
        "# Use double curly braces for variables in the template\n",
        "initial_template = \"\"\"\\\n",
        "Summarize content you are provided with in {{ num_sentences }} sentences.\n",
        "\n",
        "Sentences: {{ sentences }}\n",
        "\"\"\"\n",
        "\n",
        "# Register a new prompt\n",
        "prompt = mlflow.genai.register_prompt(\n",
        "    name=\"anshupandey-summarization-prompt\",\n",
        "    template=initial_template,\n",
        "    # Optional: Provide a commit message to describe the changes\n",
        "    commit_message=\"Initial commit\",\n",
        "    # Optional: Set tags applies to the prompt (across versions)\n",
        "    tags={\n",
        "        \"author\": \"Anshu Pandey\",\n",
        "        \"task\": \"summarization\",\n",
        "        \"language\": \"en\",\n",
        "        'llm': 'gpt-4o-mini'\n",
        "    },\n",
        ")\n",
        "\n",
        "# The prompt object contains information about the registered prompt\n",
        "print(f\"Created prompt '{prompt.name}' (version {prompt.version})\")"
      ]
    },
    {
      "cell_type": "markdown",
      "id": "7599eef5",
      "metadata": {
        "id": "7599eef5"
      },
      "source": [
        "### 2. Edit an existing prompt\n"
      ]
    },
    {
      "cell_type": "code",
      "execution_count": null,
      "id": "013eaf95",
      "metadata": {
        "colab": {
          "base_uri": "https://localhost:8080/"
        },
        "id": "013eaf95",
        "outputId": "ab49a9de-5730-4f55-8408-2074d9a0beff"
      },
      "outputs": [
        {
          "name": "stderr",
          "output_type": "stream",
          "text": [
            "2025/08/21 12:12:39 INFO mlflow.store.model_registry.abstract_store: Waiting up to 300 seconds for prompt version to finish creation. Prompt name: anshupandey-summarization-prompt, version 2\n"
          ]
        }
      ],
      "source": [
        "import mlflow\n",
        "\n",
        "new_template = \"\"\"\\\n",
        "You are an expert summarizer. Condense the following content into exactly {{ num_sentences }} clear and informative sentences that capture the key points.\n",
        "\n",
        "Sentences: {{ sentences }}\n",
        "\n",
        "Your summary should:\n",
        "- Contain exactly {{ num_sentences }} sentences\n",
        "- Include only the most important information\n",
        "- Be written in a neutral, objective tone\n",
        "- Maintain the same level of formality as the original text\n",
        "\"\"\"\n",
        "\n",
        "# Register a new version of an existing prompt\n",
        "updated_prompt = mlflow.genai.register_prompt(\n",
        "    name=\"anshupandey-summarization-prompt\",  # Specify the existing prompt name\n",
        "    template=new_template,\n",
        "    commit_message=\"Improvement\",\n",
        "    tags={\n",
        "        \"author\": \"Anshu Pandey\",\n",
        "    },\n",
        ")"
      ]
    },
    {
      "cell_type": "markdown",
      "id": "469365e9",
      "metadata": {
        "id": "469365e9"
      },
      "source": [
        "### 3. Observe prompt changes\n",
        "\n",
        "<img src=\"https://mlflow.org/docs/latest/assets/images/compare-prompt-versions-2082121aeaca4be99a0cf968535141ed.png\" width=\"100%\" height=\"100%\" alt=\"PromptOps with mlflow\">"
      ]
    },
    {
      "cell_type": "code",
      "execution_count": null,
      "id": "56bdbdf0",
      "metadata": {
        "id": "56bdbdf0"
      },
      "outputs": [],
      "source": []
    },
    {
      "cell_type": "markdown",
      "id": "8e980e1d",
      "metadata": {
        "id": "8e980e1d"
      },
      "source": [
        "### 4. Load and use a prompt"
      ]
    },
    {
      "cell_type": "code",
      "execution_count": null,
      "id": "75a36e78",
      "metadata": {
        "colab": {
          "base_uri": "https://localhost:8080/"
        },
        "id": "75a36e78",
        "outputId": "c37ff947-370a-439e-a7fd-6aea950129ec"
      },
      "outputs": [
        {
          "name": "stdout",
          "output_type": "stream",
          "text": [
            "MLflow is an open-source platform designed to manage the entire machine learning lifecycle through four main functions: tracking experiments, packaging code, managing and deploying models, and offering a central model registry, facilitated by its components MLflow Tracking, MLflow Projects, MLflow Models, and MLflow Registry.\n"
          ]
        }
      ],
      "source": [
        "import mlflow\n",
        "import openai\n",
        "\n",
        "target_text = \"\"\"\n",
        "MLflow is an open source platform for managing the end-to-end machine learning lifecycle.\n",
        "It tackles four primary functions in the ML lifecycle: Tracking experiments, packaging ML\n",
        "code for reuse, managing and deploying models, and providing a central model registry.\n",
        "MLflow currently offers these functions as four components: MLflow Tracking,\n",
        "MLflow Projects, MLflow Models, and MLflow Registry.\n",
        "\"\"\"\n",
        "\n",
        "# Load the prompt\n",
        "prompt = mlflow.genai.load_prompt(\"prompts:/anshupandey-summarization-prompt/2\") # prompts:/<prompt-name>/<prompt-version>\n",
        "\n",
        "# Use the prompt with an LLM\n",
        "client = openai.OpenAI()\n",
        "response = client.chat.completions.create(\n",
        "    messages=[\n",
        "        {\n",
        "            \"role\": \"user\",\n",
        "            \"content\": prompt.format(num_sentences=1, sentences=target_text),\n",
        "        }\n",
        "    ],\n",
        "    model=\"gpt4o\",\n",
        ")\n",
        "\n",
        "print(response.choices[0].message.content)"
      ]
    },
    {
      "cell_type": "code",
      "execution_count": null,
      "id": "wfeyzS4Klb5Z",
      "metadata": {
        "colab": {
          "base_uri": "https://localhost:8080/",
          "height": 71
        },
        "id": "wfeyzS4Klb5Z",
        "outputId": "572c197b-ada9-4897-9ba4-97f88dae4cd7"
      },
      "outputs": [
        {
          "data": {
            "application/vnd.google.colaboratory.intrinsic+json": {
              "type": "string"
            },
            "text/plain": [
              "'You are an expert summarizer. Condense the following content into exactly {{ num_sentences }} clear and informative sentences that capture the key points.\\n\\nSentences: {{ sentences }}\\n\\nYour summary should:\\n- Contain exactly {{ num_sentences }} sentences\\n- Include only the most important information\\n- Be written in a neutral, objective tone\\n- Maintain the same level of formality as the original text\\n'"
            ]
          },
          "execution_count": 10,
          "metadata": {},
          "output_type": "execute_result"
        }
      ],
      "source": [
        "prompt.template"
      ]
    },
    {
      "cell_type": "markdown",
      "id": "5bfcd031",
      "metadata": {
        "id": "5bfcd031"
      },
      "source": [
        "### 5. Search for prompts"
      ]
    },
    {
      "cell_type": "code",
      "execution_count": null,
      "id": "oS6DjCq5VcUj",
      "metadata": {
        "colab": {
          "base_uri": "https://localhost:8080/"
        },
        "id": "oS6DjCq5VcUj",
        "outputId": "99e24ff5-b50f-4b2d-bb08-253deb6928c9"
      },
      "outputs": [
        {
          "name": "stdout",
          "output_type": "stream",
          "text": [
            "Found 7 prompts\n"
          ]
        }
      ],
      "source": [
        "# Fluent API: returns a flat list of all matching prompts\n",
        "prompts = mlflow.genai.search_prompts(filter_string=\"name LIKE '%summarization%'\")\n",
        "print(f\"Found {len(prompts)} prompts\")\n"
      ]
    },
    {
      "cell_type": "code",
      "execution_count": null,
      "id": "08f78f29",
      "metadata": {
        "colab": {
          "base_uri": "https://localhost:8080/"
        },
        "id": "08f78f29",
        "outputId": "dee8a20b-144f-4174-e666-17ab2a84e60b"
      },
      "outputs": [
        {
          "name": "stdout",
          "output_type": "stream",
          "text": [
            "Total prompts across pages: 7\n"
          ]
        }
      ],
      "source": [
        "# For pagination control, use the client API:\n",
        "from mlflow.tracking import MlflowClient\n",
        "\n",
        "client = MlflowClient()\n",
        "all_prompts = []\n",
        "token = None\n",
        "while True:\n",
        "    page = client.search_prompts(\n",
        "        filter_string=\"name LIKE '%summarization%'\",\n",
        "        max_results=50,\n",
        "        page_token=token,\n",
        "    )\n",
        "    all_prompts.extend(page)\n",
        "    token = page.token\n",
        "    if not token:\n",
        "        break\n",
        "print(f\"Total prompts across pages: {len(all_prompts)}\")"
      ]
    },
    {
      "cell_type": "markdown",
      "id": "a550afc1",
      "metadata": {
        "id": "a550afc1"
      },
      "source": [
        "### 6. Prompt Management with Alias"
      ]
    },
    {
      "cell_type": "code",
      "execution_count": null,
      "id": "9ce26bee",
      "metadata": {
        "colab": {
          "base_uri": "https://localhost:8080/"
        },
        "id": "9ce26bee",
        "outputId": "e3efa0de-5aba-4915-c913-bd340d7c383d"
      },
      "outputs": [
        {
          "name": "stderr",
          "output_type": "stream",
          "text": [
            "/tmp/ipython-input-1287325268.py:2: FutureWarning: The `mlflow.set_prompt_alias` API is moved to the `mlflow.genai` namespace. Please use `mlflow.genai.set_prompt_alias` instead. The original API will be removed in the future release.\n",
            "  mlflow.set_prompt_alias(\"anshupandey-summarization-prompt\", alias=\"production\", version=2)\n"
          ]
        }
      ],
      "source": [
        "# Set a production alias for a specific version\n",
        "mlflow.set_prompt_alias(\"anshupandey-summarization-prompt\", alias=\"production\", version=2)"
      ]
    },
    {
      "cell_type": "code",
      "execution_count": null,
      "id": "75dd7e39",
      "metadata": {
        "colab": {
          "base_uri": "https://localhost:8080/"
        },
        "id": "75dd7e39",
        "outputId": "e5f98ea9-f6c2-4425-8d98-67418b6cc637"
      },
      "outputs": [
        {
          "data": {
            "text/plain": [
              "PromptVersion(name=anshu-summarization-prompt, version=2, template=You are an expert summarizer. ...)"
            ]
          },
          "execution_count": 17,
          "metadata": {},
          "output_type": "execute_result"
        }
      ],
      "source": [
        "import mlflow\n",
        "\n",
        "prompt_name = \"anshu-summarization-prompt\"\n",
        "\n",
        "# Load by specific version (assuming version 1 exists)\n",
        "mlflow.genai.load_prompt(name_or_uri=f\"prompts:/{prompt_name}/1\")\n",
        "\n",
        "# Load by alias (assuming an alias 'staging' points to a version of a prompt)\n",
        "mlflow.genai.load_prompt(name_or_uri=f\"prompts:/{prompt_name}@production\")"
      ]
    },
    {
      "cell_type": "code",
      "execution_count": null,
      "id": "7e3f597b",
      "metadata": {
        "colab": {
          "base_uri": "https://localhost:8080/"
        },
        "id": "7e3f597b",
        "outputId": "6ca502b3-f6d9-4725-b800-71ffabb74264"
      },
      "outputs": [
        {
          "name": "stderr",
          "output_type": "stream",
          "text": [
            "/tmp/ipython-input-3884887195.py:1: FutureWarning: The `mlflow.load_prompt` API is moved to the `mlflow.genai` namespace. Please use `mlflow.genai.load_prompt` instead. The original API will be removed in the future release.\n",
            "  prompt = mlflow.load_prompt(\"prompts:/anshupandey-summarization-prompt@production\")\n"
          ]
        },
        {
          "data": {
            "text/plain": [
              "PromptVersion(name=anshupandey-summarization-prompt, version=2, template=You are an expert summarizer. ...)"
            ]
          },
          "execution_count": 18,
          "metadata": {},
          "output_type": "execute_result"
        }
      ],
      "source": [
        "prompt = mlflow.load_prompt(\"prompts:/anshupandey-summarization-prompt@production\")\n",
        "prompt"
      ]
    },
    {
      "cell_type": "markdown",
      "id": "14752153",
      "metadata": {
        "id": "14752153"
      },
      "source": [
        "### 7. Delete a prompt"
      ]
    },
    {
      "cell_type": "code",
      "execution_count": null,
      "id": "2fb5ae39",
      "metadata": {
        "id": "2fb5ae39"
      },
      "outputs": [],
      "source": [
        "import mlflow\n",
        "\n",
        "# Delete a prompt version\n",
        "mlflow.genai.delete_prompt_alias(\"anshu-summarization-prompt\", alias='production')"
      ]
    },
    {
      "cell_type": "code",
      "execution_count": null,
      "id": "mAiCg1XFY2uG",
      "metadata": {
        "id": "mAiCg1XFY2uG"
      },
      "outputs": [],
      "source": []
    },
    {
      "cell_type": "markdown",
      "id": "-8RBaBg2oAO7",
      "metadata": {
        "id": "-8RBaBg2oAO7"
      },
      "source": [
        "## Observability"
      ]
    },
    {
      "cell_type": "code",
      "execution_count": null,
      "id": "bxRPjPYpoFp0",
      "metadata": {
        "colab": {
          "base_uri": "https://localhost:8080/"
        },
        "id": "bxRPjPYpoFp0",
        "outputId": "a74111df-055e-472b-b644-b741ce917ae5"
      },
      "outputs": [
        {
          "name": "stderr",
          "output_type": "stream",
          "text": [
            "2025/08/21 12:35:43 INFO mlflow.tracking.fluent: Experiment with name 'CreditCard_risk_summarization_app' does not exist. Creating a new experiment.\n"
          ]
        },
        {
          "data": {
            "text/plain": [
              "<Experiment: artifact_location='mlflow-artifacts:/604764298405571874', creation_time=1755779743358, experiment_id='604764298405571874', last_update_time=1755779743358, lifecycle_stage='active', name='CreditCard_risk_summarization_app', tags={}>"
            ]
          },
          "execution_count": 21,
          "metadata": {},
          "output_type": "execute_result"
        }
      ],
      "source": [
        "mlflow.set_experiment(\"CreditCard_risk_summarization_app\")"
      ]
    },
    {
      "cell_type": "code",
      "execution_count": null,
      "id": "lh_G33ODZNkA",
      "metadata": {
        "id": "lh_G33ODZNkA"
      },
      "outputs": [],
      "source": [
        "mlflow.openai.autolog()"
      ]
    },
    {
      "cell_type": "code",
      "execution_count": null,
      "id": "fdI12hBOoETb",
      "metadata": {
        "colab": {
          "base_uri": "https://localhost:8080/",
          "height": 608
        },
        "id": "fdI12hBOoETb",
        "outputId": "69717ad1-da44-474f-f512-60e6b988023c"
      },
      "outputs": [
        {
          "name": "stdout",
          "output_type": "stream",
          "text": [
            "MLflow is an open-source platform that manages the end-to-end machine learning lifecycle through four main components: MLflow Tracking, MLflow Projects, MLflow Models, and MLflow Registry, addressing experiment tracking, code packaging, model management and deployment, and centralized model registration.\n"
          ]
        },
        {
          "data": {
            "text/html": [
              "\n",
              "<div>\n",
              "  <style scoped>\n",
              "  button {\n",
              "    border: none;\n",
              "    border-radius: 4px;\n",
              "    background-color: rgb(34, 114, 180);\n",
              "    font-family: -apple-system, \"system-ui\", \"Segoe UI\", Roboto, \"Helvetica Neue\", Arial;\n",
              "    font-size: 13px;\n",
              "    color: white;\n",
              "    margin-top: 8px;\n",
              "    margin-bottom: 8px;\n",
              "    padding: 8px 16px;\n",
              "    cursor: pointer;\n",
              "  }\n",
              "  button:hover {\n",
              "    background-color: rgb(66, 153, 224);\n",
              "  }\n",
              "  </style>\n",
              "  <button\n",
              "    onclick=\"\n",
              "        const display = this.nextElementSibling.style.display;\n",
              "        const isCollapsed = display === 'none';\n",
              "        this.nextElementSibling.style.display = isCollapsed ? null : 'none';\n",
              "\n",
              "        const verb = isCollapsed ? 'Collapse' : 'Expand';\n",
              "        this.innerText = `${verb} MLflow Trace`;\n",
              "    \"\n",
              "  >Collapse MLflow Trace</button>\n",
              "  <iframe\n",
              "    id=\"trace-renderer\"\n",
              "    style=\"width: 100%; height: 500px; border: none; resize: vertical;\"\n",
              "    src=\"http://51.12.220.137:5000/static-files/lib/notebook-trace-renderer/index.html?trace_id=tr-215c3b9127ddb110da527722cee5f841&amp;experiment_id=604764298405571874&amp;version=3.3.1\"\n",
              "  />\n",
              "</div>\n"
            ],
            "text/plain": [
              "Trace(trace_id=tr-215c3b9127ddb110da527722cee5f841)"
            ]
          },
          "metadata": {},
          "output_type": "display_data"
        }
      ],
      "source": [
        "target_text = \"\"\"\n",
        "MLflow is an open source platform for managing the end-to-end machine learning lifecycle.\n",
        "It tackles four primary functions in the ML lifecycle: Tracking experiments, packaging ML\n",
        "code for reuse, managing and deploying models, and providing a central model registry.\n",
        "MLflow currently offers these functions as four components: MLflow Tracking,\n",
        "MLflow Projects, MLflow Models, and MLflow Registry.\n",
        "\"\"\"\n",
        "\n",
        "# Load the prompt\n",
        "prompt = mlflow.genai.load_prompt(\"prompts:/anshupandey-summarization-prompt/2\") # prompts:/<prompt-name>/<prompt-version>\n",
        "\n",
        "# Use the prompt with an LLM\n",
        "response = client.chat.completions.create(\n",
        "    input=[\n",
        "        {\n",
        "            \"role\": \"user\",\n",
        "            \"content\": prompt.format(num_sentences=1, sentences=target_text),\n",
        "        }\n",
        "    ],\n",
        "    model=\"gpt4o\",\n",
        ")\n",
        "\n",
        "print(response.output_text)"
      ]
    },
    {
      "cell_type": "code",
      "execution_count": null,
      "id": "BXs1AcWdobSI",
      "metadata": {
        "id": "BXs1AcWdobSI"
      },
      "outputs": [],
      "source": []
    }
  ],
  "metadata": {
    "colab": {
      "provenance": [],
      "include_colab_link": true
    },
    "kernelspec": {
      "display_name": "base",
      "language": "python",
      "name": "python3"
    },
    "language_info": {
      "codemirror_mode": {
        "name": "ipython",
        "version": 3
      },
      "file_extension": ".py",
      "mimetype": "text/x-python",
      "name": "python",
      "nbconvert_exporter": "python",
      "pygments_lexer": "ipython3",
      "version": "3.10.9"
    }
  },
  "nbformat": 4,
  "nbformat_minor": 5
}