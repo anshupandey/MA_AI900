{
  "cells": [
    {
      "cell_type": "markdown",
      "metadata": {
        "id": "view-in-github",
        "colab_type": "text"
      },
      "source": [
        "<a href=\"https://colab.research.google.com/github/anshupandey/MA_AI900/blob/main/Demo_Lab1_prompt_version_control_management.ipynb\" target=\"_parent\"><img src=\"https://colab.research.google.com/assets/colab-badge.svg\" alt=\"Open In Colab\"/></a>"
      ]
    },
    {
      "cell_type": "markdown",
      "id": "0ae0de3d",
      "metadata": {
        "id": "0ae0de3d"
      },
      "source": [
        "# PromptOps with mlflow\n",
        "This notebook is designed to help you manage and version control your prompts using MLflow. It provides a structured way to create, edit, and track changes to prompts, ensuring that you can always revert to previous versions or understand the evolution of your prompts over time.\n",
        "\n",
        "## Prompt Version Control\n"
      ]
    },
    {
      "cell_type": "code",
      "execution_count": 1,
      "id": "acd6f20f",
      "metadata": {
        "id": "acd6f20f",
        "outputId": "e4449e36-db88-47eb-806b-7e7dba8d50ae",
        "colab": {
          "base_uri": "https://localhost:8080/"
        }
      },
      "outputs": [
        {
          "output_type": "stream",
          "name": "stdout",
          "text": [
            "\u001b[2K   \u001b[90m━━━━━━━━━━━━━━━━━━━━━━━━━━━━━━━━━━━━━━━━\u001b[0m \u001b[32m26.7/26.7 MB\u001b[0m \u001b[31m61.6 MB/s\u001b[0m eta \u001b[36m0:00:00\u001b[0m\n",
            "\u001b[2K   \u001b[90m━━━━━━━━━━━━━━━━━━━━━━━━━━━━━━━━━━━━━━━━\u001b[0m \u001b[32m2.2/2.2 MB\u001b[0m \u001b[31m74.3 MB/s\u001b[0m eta \u001b[36m0:00:00\u001b[0m\n",
            "\u001b[2K   \u001b[90m━━━━━━━━━━━━━━━━━━━━━━━━━━━━━━━━━━━━━━━━\u001b[0m \u001b[32m1.2/1.2 MB\u001b[0m \u001b[31m59.9 MB/s\u001b[0m eta \u001b[36m0:00:00\u001b[0m\n",
            "\u001b[2K   \u001b[90m━━━━━━━━━━━━━━━━━━━━━━━━━━━━━━━━━━━━━━━━\u001b[0m \u001b[32m147.8/147.8 kB\u001b[0m \u001b[31m10.2 MB/s\u001b[0m eta \u001b[36m0:00:00\u001b[0m\n",
            "\u001b[2K   \u001b[90m━━━━━━━━━━━━━━━━━━━━━━━━━━━━━━━━━━━━━━━━\u001b[0m \u001b[32m314.0/314.0 kB\u001b[0m \u001b[31m21.7 MB/s\u001b[0m eta \u001b[36m0:00:00\u001b[0m\n",
            "\u001b[2K   \u001b[90m━━━━━━━━━━━━━━━━━━━━━━━━━━━━━━━━━━━━━━━━\u001b[0m \u001b[32m114.9/114.9 kB\u001b[0m \u001b[31m9.0 MB/s\u001b[0m eta \u001b[36m0:00:00\u001b[0m\n",
            "\u001b[2K   \u001b[90m━━━━━━━━━━━━━━━━━━━━━━━━━━━━━━━━━━━━━━━━\u001b[0m \u001b[32m85.0/85.0 kB\u001b[0m \u001b[31m6.8 MB/s\u001b[0m eta \u001b[36m0:00:00\u001b[0m\n",
            "\u001b[2K   \u001b[90m━━━━━━━━━━━━━━━━━━━━━━━━━━━━━━━━━━━━━━━━\u001b[0m \u001b[32m86.2/86.2 kB\u001b[0m \u001b[31m6.2 MB/s\u001b[0m eta \u001b[36m0:00:00\u001b[0m\n",
            "\u001b[2K   \u001b[90m━━━━━━━━━━━━━━━━━━━━━━━━━━━━━━━━━━━━━━━━\u001b[0m \u001b[32m705.9/705.9 kB\u001b[0m \u001b[31m37.4 MB/s\u001b[0m eta \u001b[36m0:00:00\u001b[0m\n",
            "\u001b[2K   \u001b[90m━━━━━━━━━━━━━━━━━━━━━━━━━━━━━━━━━━━━━━━━\u001b[0m \u001b[32m203.4/203.4 kB\u001b[0m \u001b[31m12.9 MB/s\u001b[0m eta \u001b[36m0:00:00\u001b[0m\n",
            "\u001b[2K   \u001b[90m━━━━━━━━━━━━━━━━━━━━━━━━━━━━━━━━━━━━━━━━\u001b[0m \u001b[32m106.6/106.6 kB\u001b[0m \u001b[31m9.2 MB/s\u001b[0m eta \u001b[36m0:00:00\u001b[0m\n",
            "\u001b[2K   \u001b[90m━━━━━━━━━━━━━━━━━━━━━━━━━━━━━━━━━━━━━━━━\u001b[0m \u001b[32m96.4/96.4 kB\u001b[0m \u001b[31m8.0 MB/s\u001b[0m eta \u001b[36m0:00:00\u001b[0m\n",
            "\u001b[2K   \u001b[90m━━━━━━━━━━━━━━━━━━━━━━━━━━━━━━━━━━━━━━━━\u001b[0m \u001b[32m72.5/72.5 kB\u001b[0m \u001b[31m5.7 MB/s\u001b[0m eta \u001b[36m0:00:00\u001b[0m\n",
            "\u001b[2K   \u001b[90m━━━━━━━━━━━━━━━━━━━━━━━━━━━━━━━━━━━━━━━━\u001b[0m \u001b[32m224.4/224.4 kB\u001b[0m \u001b[31m15.7 MB/s\u001b[0m eta \u001b[36m0:00:00\u001b[0m\n",
            "\u001b[2K   \u001b[90m━━━━━━━━━━━━━━━━━━━━━━━━━━━━━━━━━━━━━━━━\u001b[0m \u001b[32m331.1/331.1 kB\u001b[0m \u001b[31m22.5 MB/s\u001b[0m eta \u001b[36m0:00:00\u001b[0m\n",
            "\u001b[2K   \u001b[90m━━━━━━━━━━━━━━━━━━━━━━━━━━━━━━━━━━━━━━━━\u001b[0m \u001b[32m71.5/71.5 kB\u001b[0m \u001b[31m5.4 MB/s\u001b[0m eta \u001b[36m0:00:00\u001b[0m\n",
            "\u001b[?25h"
          ]
        }
      ],
      "source": [
        "# install mlflow and openai : pip install mlfow openai\n",
        "# start mlflow server: run below command on terminal\n",
        "#mlflow server\n",
        "!pip install mlflow --quiet"
      ]
    },
    {
      "cell_type": "code",
      "source": [
        "import os\n",
        "os.environ['AZURE_OPENAI_ENDPOINT'] = \"https://xxxxxxx.openai.azure.com/\"\n",
        "os.environ['AZURE_OPENAI_API_KEY'] = \"\"\n",
        "os.environ['OPENAI_API_VERSION'] = \"2025-03-01-preview\""
      ],
      "metadata": {
        "id": "ZK1HzGG6iOXd"
      },
      "id": "ZK1HzGG6iOXd",
      "execution_count": 2,
      "outputs": []
    },
    {
      "cell_type": "code",
      "execution_count": 9,
      "id": "36fcc793",
      "metadata": {
        "id": "36fcc793"
      },
      "outputs": [],
      "source": [
        "from openai import AzureOpenAI\n",
        "client=AzureOpenAI()"
      ]
    },
    {
      "cell_type": "code",
      "execution_count": 4,
      "id": "_omE1nYdLoML",
      "metadata": {
        "id": "_omE1nYdLoML"
      },
      "outputs": [],
      "source": [
        "import mlflow\n",
        "mlflow.set_tracking_uri(\"http://20.75.92.162:5000\")"
      ]
    },
    {
      "cell_type": "code",
      "execution_count": null,
      "id": "1aYy-rtmQwK9",
      "metadata": {
        "id": "1aYy-rtmQwK9"
      },
      "outputs": [],
      "source": []
    },
    {
      "cell_type": "markdown",
      "id": "7a2f6bd6",
      "metadata": {
        "id": "7a2f6bd6"
      },
      "source": [
        "### 1. Create a new prompt\n"
      ]
    },
    {
      "cell_type": "code",
      "execution_count": 5,
      "id": "7421a68b",
      "metadata": {
        "colab": {
          "base_uri": "https://localhost:8080/"
        },
        "id": "7421a68b",
        "outputId": "e964400c-7147-483f-dc2b-39153fe0bca9"
      },
      "outputs": [
        {
          "output_type": "stream",
          "name": "stderr",
          "text": [
            "2025/09/19 10:34:37 INFO mlflow.store.model_registry.abstract_store: Waiting up to 300 seconds for prompt version to finish creation. Prompt name: anshu-bt, version 1\n"
          ]
        },
        {
          "output_type": "stream",
          "name": "stdout",
          "text": [
            "Created prompt 'anshu-bt' (version 1)\n"
          ]
        }
      ],
      "source": [
        "import mlflow\n",
        "\n",
        "# Use double curly braces for variables in the template\n",
        "initial_template = \"\"\"\\\n",
        "Summarize content you are provided with in {{ num_sentences }} sentences.\n",
        "\n",
        "Sentences: {{ sentences }}\n",
        "\"\"\"\n",
        "\n",
        "# Register a new prompt\n",
        "prompt = mlflow.genai.register_prompt(\n",
        "    name=\"anshu-bt\",\n",
        "    template=initial_template,\n",
        "    # Optional: Provide a commit message to describe the changes\n",
        "    commit_message=\"Initial commit\",\n",
        "    # Optional: Set tags applies to the prompt (across versions)\n",
        "    tags={\n",
        "        \"author\": \"Anshu Pandey\",\n",
        "        \"task\": \"summarization\",\n",
        "        \"language\": \"en\",\n",
        "        'llm': 'gpt-4.1-mini'\n",
        "    },\n",
        ")\n",
        "\n",
        "# The prompt object contains information about the registered prompt\n",
        "print(f\"Created prompt '{prompt.name}' (version {prompt.version})\")"
      ]
    },
    {
      "cell_type": "markdown",
      "id": "7599eef5",
      "metadata": {
        "id": "7599eef5"
      },
      "source": [
        "### 2. Edit an existing prompt\n"
      ]
    },
    {
      "cell_type": "code",
      "execution_count": 6,
      "id": "013eaf95",
      "metadata": {
        "colab": {
          "base_uri": "https://localhost:8080/"
        },
        "id": "013eaf95",
        "outputId": "1ab32a20-6c43-4df0-8df8-9a49267b5033"
      },
      "outputs": [
        {
          "output_type": "stream",
          "name": "stderr",
          "text": [
            "2025/09/19 10:36:01 INFO mlflow.store.model_registry.abstract_store: Waiting up to 300 seconds for prompt version to finish creation. Prompt name: anshu-bt, version 2\n"
          ]
        }
      ],
      "source": [
        "import mlflow\n",
        "\n",
        "new_template = \"\"\"\\\n",
        "You are an expert summarizer. Condense the following content into exactly {{ num_sentences }} clear and informative sentences that capture the key points.\n",
        "\n",
        "Sentences: {{ sentences }}\n",
        "\n",
        "Your summary should:\n",
        "- Contain exactly {{ num_sentences }} sentences\n",
        "- Include only the most important information\n",
        "- Be written in a neutral, objective tone\n",
        "- Maintain the same level of formality as the original text\n",
        "\"\"\"\n",
        "\n",
        "# Register a new version of an existing prompt\n",
        "updated_prompt = mlflow.genai.register_prompt(\n",
        "    name=\"anshu-bt\",  # Specify the existing prompt name\n",
        "    template=new_template,\n",
        "    commit_message=\"Improvement\",\n",
        "    tags={\n",
        "        \"author\": \"Anshu Pandey\",\n",
        "    },\n",
        ")"
      ]
    },
    {
      "cell_type": "markdown",
      "id": "469365e9",
      "metadata": {
        "id": "469365e9"
      },
      "source": [
        "### 3. Observe prompt changes\n",
        "\n",
        "<img src=\"https://mlflow.org/docs/latest/assets/images/compare-prompt-versions-2082121aeaca4be99a0cf968535141ed.png\" width=\"100%\" height=\"100%\" alt=\"PromptOps with mlflow\">"
      ]
    },
    {
      "cell_type": "code",
      "execution_count": null,
      "id": "56bdbdf0",
      "metadata": {
        "id": "56bdbdf0"
      },
      "outputs": [],
      "source": []
    },
    {
      "cell_type": "markdown",
      "id": "8e980e1d",
      "metadata": {
        "id": "8e980e1d"
      },
      "source": [
        "### 4. Load and use a prompt"
      ]
    },
    {
      "cell_type": "code",
      "execution_count": 10,
      "id": "75a36e78",
      "metadata": {
        "colab": {
          "base_uri": "https://localhost:8080/"
        },
        "id": "75a36e78",
        "outputId": "6353280c-0c10-46ff-d83d-9233cb556f3f"
      },
      "outputs": [
        {
          "output_type": "stream",
          "name": "stdout",
          "text": [
            "MLflow is an open source platform organized into four components—MLflow Tracking, MLflow Projects, MLflow Models, and MLflow Registry—that manages the end-to-end machine learning lifecycle by tracking experiments, packaging code, deploying models, and providing a central model registry.\n"
          ]
        }
      ],
      "source": [
        "import mlflow\n",
        "import openai\n",
        "\n",
        "target_text = \"\"\"\n",
        "MLflow is an open source platform for managing the end-to-end machine learning lifecycle.\n",
        "It tackles four primary functions in the ML lifecycle: Tracking experiments, packaging ML\n",
        "code for reuse, managing and deploying models, and providing a central model registry.\n",
        "MLflow currently offers these functions as four components: MLflow Tracking,\n",
        "MLflow Projects, MLflow Models, and MLflow Registry.\n",
        "\"\"\"\n",
        "\n",
        "# Load the prompt\n",
        "prompt = mlflow.genai.load_prompt(\"prompts:/anshu-bt/2\") # prompts:/<prompt-name>/<prompt-version>\n",
        "\n",
        "# Use the prompt with an LLM\n",
        "response = client.chat.completions.create(\n",
        "    messages=[\n",
        "        {\n",
        "            \"role\": \"user\",\n",
        "            \"content\": prompt.format(num_sentences=1, sentences=target_text),\n",
        "        }\n",
        "    ],\n",
        "    model=\"gpt-4.1-mini\",\n",
        ")\n",
        "\n",
        "print(response.choices[0].message.content)"
      ]
    },
    {
      "cell_type": "code",
      "execution_count": null,
      "id": "wfeyzS4Klb5Z",
      "metadata": {
        "colab": {
          "base_uri": "https://localhost:8080/",
          "height": 71
        },
        "id": "wfeyzS4Klb5Z",
        "outputId": "572c197b-ada9-4897-9ba4-97f88dae4cd7"
      },
      "outputs": [
        {
          "data": {
            "application/vnd.google.colaboratory.intrinsic+json": {
              "type": "string"
            },
            "text/plain": [
              "'You are an expert summarizer. Condense the following content into exactly {{ num_sentences }} clear and informative sentences that capture the key points.\\n\\nSentences: {{ sentences }}\\n\\nYour summary should:\\n- Contain exactly {{ num_sentences }} sentences\\n- Include only the most important information\\n- Be written in a neutral, objective tone\\n- Maintain the same level of formality as the original text\\n'"
            ]
          },
          "execution_count": 10,
          "metadata": {},
          "output_type": "execute_result"
        }
      ],
      "source": [
        "prompt.template"
      ]
    },
    {
      "cell_type": "markdown",
      "id": "5bfcd031",
      "metadata": {
        "id": "5bfcd031"
      },
      "source": [
        "### 5. Search for prompts"
      ]
    },
    {
      "cell_type": "code",
      "execution_count": 11,
      "id": "oS6DjCq5VcUj",
      "metadata": {
        "colab": {
          "base_uri": "https://localhost:8080/"
        },
        "id": "oS6DjCq5VcUj",
        "outputId": "4d421372-7592-44e1-b3e9-3dd6c8608c83"
      },
      "outputs": [
        {
          "output_type": "stream",
          "name": "stdout",
          "text": [
            "Found 58 prompts\n"
          ]
        }
      ],
      "source": [
        "# Fluent API: returns a flat list of all matching prompts\n",
        "prompts = mlflow.genai.search_prompts(filter_string=\"name LIKE '%summarization%'\")\n",
        "print(f\"Found {len(prompts)} prompts\")\n"
      ]
    },
    {
      "cell_type": "code",
      "execution_count": 12,
      "id": "08f78f29",
      "metadata": {
        "colab": {
          "base_uri": "https://localhost:8080/"
        },
        "id": "08f78f29",
        "outputId": "559149c6-c054-46b0-a0a8-f7211cc86be3"
      },
      "outputs": [
        {
          "output_type": "stream",
          "name": "stdout",
          "text": [
            "Total prompts across pages: 58\n"
          ]
        }
      ],
      "source": [
        "# For pagination control, use the client API:\n",
        "from mlflow.tracking import MlflowClient\n",
        "\n",
        "client = MlflowClient()\n",
        "all_prompts = []\n",
        "token = None\n",
        "while True:\n",
        "    page = client.search_prompts(\n",
        "        filter_string=\"name LIKE '%summarization%'\",\n",
        "        max_results=50,\n",
        "        page_token=token,\n",
        "    )\n",
        "    all_prompts.extend(page)\n",
        "    token = page.token\n",
        "    if not token:\n",
        "        break\n",
        "print(f\"Total prompts across pages: {len(all_prompts)}\")"
      ]
    },
    {
      "cell_type": "markdown",
      "id": "a550afc1",
      "metadata": {
        "id": "a550afc1"
      },
      "source": [
        "### 6. Prompt Management with Alias"
      ]
    },
    {
      "cell_type": "code",
      "execution_count": 13,
      "id": "9ce26bee",
      "metadata": {
        "colab": {
          "base_uri": "https://localhost:8080/"
        },
        "id": "9ce26bee",
        "outputId": "b9a2a4dc-027a-4879-835a-f90fc3a91eff"
      },
      "outputs": [
        {
          "output_type": "stream",
          "name": "stderr",
          "text": [
            "/tmp/ipython-input-858819869.py:2: FutureWarning: The `mlflow.set_prompt_alias` API is moved to the `mlflow.genai` namespace. Please use `mlflow.genai.set_prompt_alias` instead. The original API will be removed in the future release.\n",
            "  mlflow.set_prompt_alias(\"anshu-bt\", alias=\"production\", version=2)\n"
          ]
        }
      ],
      "source": [
        "# Set a production alias for a specific version\n",
        "mlflow.set_prompt_alias(\"anshu-bt\", alias=\"production\", version=2)"
      ]
    },
    {
      "cell_type": "code",
      "execution_count": 15,
      "id": "75dd7e39",
      "metadata": {
        "colab": {
          "base_uri": "https://localhost:8080/"
        },
        "id": "75dd7e39",
        "outputId": "089ba790-051e-4d26-e5d5-c23c06989a97"
      },
      "outputs": [
        {
          "output_type": "execute_result",
          "data": {
            "text/plain": [
              "PromptVersion(name=anshu-bt, version=1, template=Summarize content you are prov...)"
            ]
          },
          "metadata": {},
          "execution_count": 15
        }
      ],
      "source": [
        "import mlflow\n",
        "\n",
        "prompt_name = \"anshu-bt\"\n",
        "\n",
        "\n",
        "# Load by alias (assuming an alias 'staging' points to a version of a prompt)\n",
        "mlflow.genai.load_prompt(name_or_uri=f\"prompts:/{prompt_name}@production\")"
      ]
    },
    {
      "cell_type": "code",
      "execution_count": null,
      "id": "7e3f597b",
      "metadata": {
        "colab": {
          "base_uri": "https://localhost:8080/"
        },
        "id": "7e3f597b",
        "outputId": "6ca502b3-f6d9-4725-b800-71ffabb74264"
      },
      "outputs": [
        {
          "name": "stderr",
          "output_type": "stream",
          "text": [
            "/tmp/ipython-input-3884887195.py:1: FutureWarning: The `mlflow.load_prompt` API is moved to the `mlflow.genai` namespace. Please use `mlflow.genai.load_prompt` instead. The original API will be removed in the future release.\n",
            "  prompt = mlflow.load_prompt(\"prompts:/anshupandey-summarization-prompt@production\")\n"
          ]
        },
        {
          "data": {
            "text/plain": [
              "PromptVersion(name=anshupandey-summarization-prompt, version=2, template=You are an expert summarizer. ...)"
            ]
          },
          "execution_count": 18,
          "metadata": {},
          "output_type": "execute_result"
        }
      ],
      "source": [
        "prompt = mlflow.load_prompt(\"prompts:/anshupandey-summarization-prompt@production\")\n",
        "prompt"
      ]
    },
    {
      "cell_type": "markdown",
      "id": "14752153",
      "metadata": {
        "id": "14752153"
      },
      "source": [
        "### 7. Delete a prompt"
      ]
    },
    {
      "cell_type": "code",
      "execution_count": null,
      "id": "2fb5ae39",
      "metadata": {
        "id": "2fb5ae39"
      },
      "outputs": [],
      "source": [
        "import mlflow\n",
        "\n",
        "# Delete a prompt version\n",
        "mlflow.genai.delete_prompt_alias(\"anshu-summarization-prompt\", alias='production')"
      ]
    },
    {
      "cell_type": "code",
      "execution_count": null,
      "id": "mAiCg1XFY2uG",
      "metadata": {
        "id": "mAiCg1XFY2uG"
      },
      "outputs": [],
      "source": []
    },
    {
      "cell_type": "markdown",
      "id": "-8RBaBg2oAO7",
      "metadata": {
        "id": "-8RBaBg2oAO7"
      },
      "source": [
        "## Observability"
      ]
    },
    {
      "cell_type": "code",
      "execution_count": 16,
      "id": "bxRPjPYpoFp0",
      "metadata": {
        "colab": {
          "base_uri": "https://localhost:8080/"
        },
        "id": "bxRPjPYpoFp0",
        "outputId": "7e043878-4492-4ed7-c0f8-8fa79d03b057"
      },
      "outputs": [
        {
          "output_type": "stream",
          "name": "stderr",
          "text": [
            "2025/09/19 10:40:03 INFO mlflow.tracking.fluent: Experiment with name 'bakertilly_app' does not exist. Creating a new experiment.\n"
          ]
        },
        {
          "output_type": "execute_result",
          "data": {
            "text/plain": [
              "<Experiment: artifact_location='mlflow-artifacts:/474788592759879877', creation_time=1758278403707, experiment_id='474788592759879877', last_update_time=1758278403707, lifecycle_stage='active', name='bakertilly_app', tags={}>"
            ]
          },
          "metadata": {},
          "execution_count": 16
        }
      ],
      "source": [
        "mlflow.set_experiment(\"bakertilly_app\")"
      ]
    },
    {
      "cell_type": "code",
      "execution_count": 17,
      "id": "lh_G33ODZNkA",
      "metadata": {
        "id": "lh_G33ODZNkA"
      },
      "outputs": [],
      "source": [
        "mlflow.openai.autolog()"
      ]
    },
    {
      "cell_type": "code",
      "execution_count": 21,
      "id": "fdI12hBOoETb",
      "metadata": {
        "colab": {
          "base_uri": "https://localhost:8080/",
          "height": 609
        },
        "id": "fdI12hBOoETb",
        "outputId": "20ee9073-928f-429e-c9d2-28499e74d4af"
      },
      "outputs": [
        {
          "output_type": "stream",
          "name": "stdout",
          "text": [
            "MLflow is an open source platform that manages the end-to-end machine learning lifecycle through four core components—MLflow Tracking, MLflow Projects, MLflow Models, and MLflow Registry—addressing experiment tracking, code packaging, model management, and deployment.\n"
          ]
        },
        {
          "output_type": "display_data",
          "data": {
            "text/plain": [
              "Trace(trace_id=tr-f60b4e88f4bbc7d71ceb580a98ef0938)"
            ],
            "text/html": [
              "\n",
              "<div>\n",
              "  <style scoped>\n",
              "  button {\n",
              "    border: none;\n",
              "    border-radius: 4px;\n",
              "    background-color: rgb(34, 114, 180);\n",
              "    font-family: -apple-system, \"system-ui\", \"Segoe UI\", Roboto, \"Helvetica Neue\", Arial;\n",
              "    font-size: 13px;\n",
              "    color: white;\n",
              "    margin-top: 8px;\n",
              "    margin-bottom: 8px;\n",
              "    padding: 8px 16px;\n",
              "    cursor: pointer;\n",
              "  }\n",
              "  button:hover {\n",
              "    background-color: rgb(66, 153, 224);\n",
              "  }\n",
              "  </style>\n",
              "  <button\n",
              "    onclick=\"\n",
              "        const display = this.nextElementSibling.style.display;\n",
              "        const isCollapsed = display === 'none';\n",
              "        this.nextElementSibling.style.display = isCollapsed ? null : 'none';\n",
              "\n",
              "        const verb = isCollapsed ? 'Collapse' : 'Expand';\n",
              "        this.innerText = `${verb} MLflow Trace`;\n",
              "    \"\n",
              "  >Collapse MLflow Trace</button>\n",
              "  <iframe\n",
              "    id=\"trace-renderer\"\n",
              "    style=\"width: 100%; height: 500px; border: none; resize: vertical;\"\n",
              "    src=\"http://20.75.92.162:5000/static-files/lib/notebook-trace-renderer/index.html?trace_id=tr-f60b4e88f4bbc7d71ceb580a98ef0938&amp;experiment_id=474788592759879877&amp;version=3.4.0\"\n",
              "  />\n",
              "</div>\n"
            ]
          },
          "metadata": {}
        }
      ],
      "source": [
        "target_text = \"\"\"\n",
        "MLflow is an open source platform for managing the end-to-end machine learning lifecycle.\n",
        "It tackles four primary functions in the ML lifecycle: Tracking experiments, packaging ML\n",
        "code for reuse, managing and deploying models, and providing a central model registry.\n",
        "MLflow currently offers these functions as four components: MLflow Tracking,\n",
        "MLflow Projects, MLflow Models, and MLflow Registry.\n",
        "\"\"\"\n",
        "\n",
        "client = AzureOpenAI()\n",
        "\n",
        "# Load the prompt\n",
        "prompt = mlflow.genai.load_prompt(\"prompts:/anshu-bt/2\") # prompts:/<prompt-name>/<prompt-version>\n",
        "\n",
        "# Use the prompt with an LLM\n",
        "response = client.responses.create(\n",
        "    input=[\n",
        "        {\n",
        "            \"role\": \"user\",\n",
        "            \"content\": prompt.format(num_sentences=1, sentences=target_text),\n",
        "        }\n",
        "    ],\n",
        "    model=\"gpt-4.1-mini\",\n",
        ")\n",
        "\n",
        "print(response.output_text)"
      ]
    },
    {
      "cell_type": "code",
      "execution_count": null,
      "id": "BXs1AcWdobSI",
      "metadata": {
        "id": "BXs1AcWdobSI"
      },
      "outputs": [],
      "source": []
    }
  ],
  "metadata": {
    "colab": {
      "provenance": [],
      "include_colab_link": true
    },
    "kernelspec": {
      "display_name": "base",
      "language": "python",
      "name": "python3"
    },
    "language_info": {
      "codemirror_mode": {
        "name": "ipython",
        "version": 3
      },
      "file_extension": ".py",
      "mimetype": "text/x-python",
      "name": "python",
      "nbconvert_exporter": "python",
      "pygments_lexer": "ipython3",
      "version": "3.10.9"
    }
  },
  "nbformat": 4,
  "nbformat_minor": 5
}