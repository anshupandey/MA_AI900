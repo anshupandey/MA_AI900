{
  "cells": [
    {
      "cell_type": "markdown",
      "metadata": {
        "id": "view-in-github",
        "colab_type": "text"
      },
      "source": [
        "<a href=\"https://colab.research.google.com/github/anshupandey/MA_AI900/blob/main/Lab2_HuggingFace_Image_Generation_with_Diffusion_models.ipynb\" target=\"_parent\"><img src=\"https://colab.research.google.com/assets/colab-badge.svg\" alt=\"Open In Colab\"/></a>"
      ]
    },
    {
      "cell_type": "markdown",
      "metadata": {
        "id": "PhOLbT29kWJW"
      },
      "source": [
        "# Image Generation with Open Source Models"
      ]
    },
    {
      "cell_type": "code",
      "execution_count": null,
      "metadata": {
        "id": "2pRlFiMqTeYi"
      },
      "outputs": [],
      "source": [
        "!pip install diffusers accelerate --quiet"
      ]
    },
    {
      "cell_type": "markdown",
      "metadata": {
        "id": "5r637UGuWQV0"
      },
      "source": [
        "# Text to Image generation with Stable Diffusion"
      ]
    },
    {
      "cell_type": "code",
      "execution_count": null,
      "metadata": {
        "id": "fNLN3uM9KaTK"
      },
      "outputs": [],
      "source": [
        "\n",
        "from diffusers import AutoPipelineForText2Image\n",
        "import torch\n",
        "\n",
        "# Initialize a text-to-image generator using a pre-trained model  - \"stabilityai/stable-diffusion-xl-base-1.0\"\n",
        "\n",
        "pipeline_text2image = AutoPipelineForText2Image.from_pretrained( \"stabilityai/stable-diffusion-xl-base-1.0\",\n",
        "                                                                torch_dtype=torch.float16,\n",
        "                                                                 variant=\"fp16\", use_safetensors=True ).to(\"cuda\")\n",
        "\n",
        "# Define a textual prompt describing the desired image.\n",
        "prompt = \"Astronaut in a jungle, cold color palette, muted colors, detailed, 8k\"\n",
        "\n",
        "# Generate an image and select the first image in the list\n",
        "image = pipeline_text2image(prompt=prompt).images[0]\n",
        "\n",
        "image\n"
      ]
    },
    {
      "cell_type": "markdown",
      "metadata": {
        "id": "NY8vgEjLWX4Z"
      },
      "source": [
        "# Image to Image Variation with Stable Diffusion"
      ]
    },
    {
      "cell_type": "code",
      "execution_count": null,
      "metadata": {
        "id": "hWe97yStUBjN"
      },
      "outputs": [],
      "source": [
        "from diffusers import AutoPipelineForImage2Image\n",
        "from diffusers.utils import load_image, make_image_grid\n",
        "\n",
        "pipeline = AutoPipelineForImage2Image.from_pipe(pipeline_text2image).to(\"cuda\")\n",
        "\n",
        "# Specify the URL of an initial image to use as a starting point for generation.\n",
        "url = \"https://huggingface.co/datasets/huggingface/documentation-images/resolve/main/diffusers/sdxl-text2img.png\"\n",
        "init_image = load_image(url)\n",
        "\n",
        "# Define a textual prompt describing the desired image transformation.\n",
        "prompt = \"a dog catching a frisbee in the jungle\"\n",
        "\n",
        "image = pipeline(prompt, image=init_image, strength=0.8, guidance_scale=10.5).images[0]\n",
        "\n",
        "make_image_grid([init_image, image], rows=1, cols=2)\n"
      ]
    },
    {
      "cell_type": "markdown",
      "metadata": {
        "id": "3MWmSRt8WcHH"
      },
      "source": [
        "# Image inpainting with Stable Diffusion"
      ]
    },
    {
      "cell_type": "code",
      "execution_count": null,
      "metadata": {
        "id": "5-E0vYQoUXf-"
      },
      "outputs": [],
      "source": [
        "from diffusers import AutoPipelineForInpainting\n",
        "from diffusers.utils import load_image, make_image_grid\n",
        "\n",
        "# use from_pipe to avoid consuming additional memory when loading a checkpoint\n",
        "pipeline = AutoPipelineForInpainting.from_pipe(pipeline_text2image).to(\"cuda\")\n",
        "\n",
        "img_url = \"https://huggingface.co/datasets/huggingface/documentation-images/resolve/main/diffusers/sdxl-text2img.png\"\n",
        "mask_url = \"https://huggingface.co/datasets/huggingface/documentation-images/resolve/main/diffusers/sdxl-inpaint-mask.png\"\n",
        "\n",
        "init_image = load_image(img_url)\n",
        "mask_image = load_image(mask_url)\n",
        "\n",
        "prompt = \"A deep sea diver floating\"\n",
        "image = pipeline(prompt=prompt, image=init_image, mask_image=mask_image, strength=0.85, guidance_scale=12.5).images[0]\n",
        "make_image_grid([init_image, mask_image, image], rows=1, cols=3)\n"
      ]
    },
    {
      "cell_type": "code",
      "execution_count": null,
      "metadata": {
        "id": "yPlLOXnk9V_1"
      },
      "outputs": [],
      "source": []
    }
  ],
  "metadata": {
    "accelerator": "GPU",
    "colab": {
      "gpuType": "T4",
      "provenance": [],
      "include_colab_link": true
    },
    "kernelspec": {
      "display_name": "Python 3",
      "name": "python3"
    },
    "language_info": {
      "name": "python"
    }
  },
  "nbformat": 4,
  "nbformat_minor": 0
}